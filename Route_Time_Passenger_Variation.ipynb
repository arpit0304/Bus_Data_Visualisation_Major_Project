{
  "nbformat": 4,
  "nbformat_minor": 0,
  "metadata": {
    "colab": {
      "provenance": []
    },
    "kernelspec": {
      "name": "python3",
      "display_name": "Python 3"
    },
    "language_info": {
      "name": "python"
    }
  },
  "cells": [
    {
      "cell_type": "code",
      "execution_count": null,
      "metadata": {
        "id": "0G3v0lCgzR95"
      },
      "outputs": [],
      "source": [
        "import pandas as pd"
      ]
    },
    {
      "cell_type": "code",
      "source": [
        "df=pd.read_csv(\"bus_data.csv\")"
      ],
      "metadata": {
        "id": "mP2UDFP20MAu"
      },
      "execution_count": null,
      "outputs": []
    },
    {
      "cell_type": "code",
      "source": [
        "df.head()"
      ],
      "metadata": {
        "colab": {
          "base_uri": "https://localhost:8080/",
          "height": 542
        },
        "id": "I0wNqJXa0eul",
        "outputId": "678ee1b6-0db8-4e2a-946b-863b3570656b"
      },
      "execution_count": null,
      "outputs": [
        {
          "output_type": "execute_result",
          "data": {
            "text/plain": [
              "   transactionalid card_number  waybill_no from_bus_stop_id  \\\n",
              "0       9098557858      'fmKyU     5896691         CLAYQrLH   \n",
              "1       9098226474           '     5896691         DlgJnbPm   \n",
              "2       9098095657           '     5896691         GxBqpKJw   \n",
              "3       9098075232           '     5896691         JCvWFfbf   \n",
              "4       9098066079           '     5896691         JCvWFfbf   \n",
              "\n",
              "                           fromstopname till_bus_stop_id  \\\n",
              "0                          Tejaji Nagar         lhihmGhP   \n",
              "1  Tantya Bheel Chouraha Police Station               97   \n",
              "2                           Power House         DlgJnbPm   \n",
              "3                           Radha Swami               97   \n",
              "4                           Radha Swami         DlgJnbPm   \n",
              "\n",
              "                             tostopname  passengers  px_total_amount  \\\n",
              "0           I T Park Or Ashram Chauraha           1               15   \n",
              "1                        Rajwada Circle           1               10   \n",
              "2  Tantya Bheel Chouraha Police Station           1               10   \n",
              "3                        Rajwada Circle           1               15   \n",
              "4  Tantya Bheel Chouraha Police Station           1               10   \n",
              "\n",
              "   group_ticket_mode  ... typeofticket toll_amt  driver_id conductor_id  \\\n",
              "0                  0  ...           AD        0  CHALO1042    CHALO7006   \n",
              "1                  0  ...           AD        0  CHALO1042    CHALO7006   \n",
              "2                  0  ...           AD        0  CHALO1042    CHALO7006   \n",
              "3                  0  ...           AD        0  CHALO1042    CHALO7006   \n",
              "4                  0  ...           AD        0  CHALO1042    CHALO7006   \n",
              "\n",
              "   bus_number trip_no            agency_name city_name  distance route_name  \n",
              "0  MP09PA0432       2  Maa Associates Indore    Indore      5.19        M-6  \n",
              "1  MP09PA0432       2  Maa Associates Indore    Indore      3.57        M-6  \n",
              "2  MP09PA0432       2  Maa Associates Indore    Indore      3.77        M-6  \n",
              "3  MP09PA0432       2  Maa Associates Indore    Indore      5.94        M-6  \n",
              "4  MP09PA0432       2  Maa Associates Indore    Indore      2.37        M-6  \n",
              "\n",
              "[5 rows x 23 columns]"
            ],
            "text/html": [
              "\n",
              "\n",
              "  <div id=\"df-c57a4d24-9a3d-4ef0-946b-8b4851ff8b7b\">\n",
              "    <div class=\"colab-df-container\">\n",
              "      <div>\n",
              "<style scoped>\n",
              "    .dataframe tbody tr th:only-of-type {\n",
              "        vertical-align: middle;\n",
              "    }\n",
              "\n",
              "    .dataframe tbody tr th {\n",
              "        vertical-align: top;\n",
              "    }\n",
              "\n",
              "    .dataframe thead th {\n",
              "        text-align: right;\n",
              "    }\n",
              "</style>\n",
              "<table border=\"1\" class=\"dataframe\">\n",
              "  <thead>\n",
              "    <tr style=\"text-align: right;\">\n",
              "      <th></th>\n",
              "      <th>transactionalid</th>\n",
              "      <th>card_number</th>\n",
              "      <th>waybill_no</th>\n",
              "      <th>from_bus_stop_id</th>\n",
              "      <th>fromstopname</th>\n",
              "      <th>till_bus_stop_id</th>\n",
              "      <th>tostopname</th>\n",
              "      <th>passengers</th>\n",
              "      <th>px_total_amount</th>\n",
              "      <th>group_ticket_mode</th>\n",
              "      <th>...</th>\n",
              "      <th>typeofticket</th>\n",
              "      <th>toll_amt</th>\n",
              "      <th>driver_id</th>\n",
              "      <th>conductor_id</th>\n",
              "      <th>bus_number</th>\n",
              "      <th>trip_no</th>\n",
              "      <th>agency_name</th>\n",
              "      <th>city_name</th>\n",
              "      <th>distance</th>\n",
              "      <th>route_name</th>\n",
              "    </tr>\n",
              "  </thead>\n",
              "  <tbody>\n",
              "    <tr>\n",
              "      <th>0</th>\n",
              "      <td>9098557858</td>\n",
              "      <td>'fmKyU</td>\n",
              "      <td>5896691</td>\n",
              "      <td>CLAYQrLH</td>\n",
              "      <td>Tejaji Nagar</td>\n",
              "      <td>lhihmGhP</td>\n",
              "      <td>I T Park Or Ashram Chauraha</td>\n",
              "      <td>1</td>\n",
              "      <td>15</td>\n",
              "      <td>0</td>\n",
              "      <td>...</td>\n",
              "      <td>AD</td>\n",
              "      <td>0</td>\n",
              "      <td>CHALO1042</td>\n",
              "      <td>CHALO7006</td>\n",
              "      <td>MP09PA0432</td>\n",
              "      <td>2</td>\n",
              "      <td>Maa Associates Indore</td>\n",
              "      <td>Indore</td>\n",
              "      <td>5.19</td>\n",
              "      <td>M-6</td>\n",
              "    </tr>\n",
              "    <tr>\n",
              "      <th>1</th>\n",
              "      <td>9098226474</td>\n",
              "      <td>'</td>\n",
              "      <td>5896691</td>\n",
              "      <td>DlgJnbPm</td>\n",
              "      <td>Tantya Bheel Chouraha Police Station</td>\n",
              "      <td>97</td>\n",
              "      <td>Rajwada Circle</td>\n",
              "      <td>1</td>\n",
              "      <td>10</td>\n",
              "      <td>0</td>\n",
              "      <td>...</td>\n",
              "      <td>AD</td>\n",
              "      <td>0</td>\n",
              "      <td>CHALO1042</td>\n",
              "      <td>CHALO7006</td>\n",
              "      <td>MP09PA0432</td>\n",
              "      <td>2</td>\n",
              "      <td>Maa Associates Indore</td>\n",
              "      <td>Indore</td>\n",
              "      <td>3.57</td>\n",
              "      <td>M-6</td>\n",
              "    </tr>\n",
              "    <tr>\n",
              "      <th>2</th>\n",
              "      <td>9098095657</td>\n",
              "      <td>'</td>\n",
              "      <td>5896691</td>\n",
              "      <td>GxBqpKJw</td>\n",
              "      <td>Power House</td>\n",
              "      <td>DlgJnbPm</td>\n",
              "      <td>Tantya Bheel Chouraha Police Station</td>\n",
              "      <td>1</td>\n",
              "      <td>10</td>\n",
              "      <td>0</td>\n",
              "      <td>...</td>\n",
              "      <td>AD</td>\n",
              "      <td>0</td>\n",
              "      <td>CHALO1042</td>\n",
              "      <td>CHALO7006</td>\n",
              "      <td>MP09PA0432</td>\n",
              "      <td>2</td>\n",
              "      <td>Maa Associates Indore</td>\n",
              "      <td>Indore</td>\n",
              "      <td>3.77</td>\n",
              "      <td>M-6</td>\n",
              "    </tr>\n",
              "    <tr>\n",
              "      <th>3</th>\n",
              "      <td>9098075232</td>\n",
              "      <td>'</td>\n",
              "      <td>5896691</td>\n",
              "      <td>JCvWFfbf</td>\n",
              "      <td>Radha Swami</td>\n",
              "      <td>97</td>\n",
              "      <td>Rajwada Circle</td>\n",
              "      <td>1</td>\n",
              "      <td>15</td>\n",
              "      <td>0</td>\n",
              "      <td>...</td>\n",
              "      <td>AD</td>\n",
              "      <td>0</td>\n",
              "      <td>CHALO1042</td>\n",
              "      <td>CHALO7006</td>\n",
              "      <td>MP09PA0432</td>\n",
              "      <td>2</td>\n",
              "      <td>Maa Associates Indore</td>\n",
              "      <td>Indore</td>\n",
              "      <td>5.94</td>\n",
              "      <td>M-6</td>\n",
              "    </tr>\n",
              "    <tr>\n",
              "      <th>4</th>\n",
              "      <td>9098066079</td>\n",
              "      <td>'</td>\n",
              "      <td>5896691</td>\n",
              "      <td>JCvWFfbf</td>\n",
              "      <td>Radha Swami</td>\n",
              "      <td>DlgJnbPm</td>\n",
              "      <td>Tantya Bheel Chouraha Police Station</td>\n",
              "      <td>1</td>\n",
              "      <td>10</td>\n",
              "      <td>0</td>\n",
              "      <td>...</td>\n",
              "      <td>AD</td>\n",
              "      <td>0</td>\n",
              "      <td>CHALO1042</td>\n",
              "      <td>CHALO7006</td>\n",
              "      <td>MP09PA0432</td>\n",
              "      <td>2</td>\n",
              "      <td>Maa Associates Indore</td>\n",
              "      <td>Indore</td>\n",
              "      <td>2.37</td>\n",
              "      <td>M-6</td>\n",
              "    </tr>\n",
              "  </tbody>\n",
              "</table>\n",
              "<p>5 rows × 23 columns</p>\n",
              "</div>\n",
              "      <button class=\"colab-df-convert\" onclick=\"convertToInteractive('df-c57a4d24-9a3d-4ef0-946b-8b4851ff8b7b')\"\n",
              "              title=\"Convert this dataframe to an interactive table.\"\n",
              "              style=\"display:none;\">\n",
              "\n",
              "  <svg xmlns=\"http://www.w3.org/2000/svg\" height=\"24px\"viewBox=\"0 0 24 24\"\n",
              "       width=\"24px\">\n",
              "    <path d=\"M0 0h24v24H0V0z\" fill=\"none\"/>\n",
              "    <path d=\"M18.56 5.44l.94 2.06.94-2.06 2.06-.94-2.06-.94-.94-2.06-.94 2.06-2.06.94zm-11 1L8.5 8.5l.94-2.06 2.06-.94-2.06-.94L8.5 2.5l-.94 2.06-2.06.94zm10 10l.94 2.06.94-2.06 2.06-.94-2.06-.94-.94-2.06-.94 2.06-2.06.94z\"/><path d=\"M17.41 7.96l-1.37-1.37c-.4-.4-.92-.59-1.43-.59-.52 0-1.04.2-1.43.59L10.3 9.45l-7.72 7.72c-.78.78-.78 2.05 0 2.83L4 21.41c.39.39.9.59 1.41.59.51 0 1.02-.2 1.41-.59l7.78-7.78 2.81-2.81c.8-.78.8-2.07 0-2.86zM5.41 20L4 18.59l7.72-7.72 1.47 1.35L5.41 20z\"/>\n",
              "  </svg>\n",
              "      </button>\n",
              "\n",
              "\n",
              "\n",
              "    <div id=\"df-b9e94273-d8ed-4c97-9a5a-1c4d832179b4\">\n",
              "      <button class=\"colab-df-quickchart\" onclick=\"quickchart('df-b9e94273-d8ed-4c97-9a5a-1c4d832179b4')\"\n",
              "              title=\"Suggest charts.\"\n",
              "              style=\"display:none;\">\n",
              "\n",
              "<svg xmlns=\"http://www.w3.org/2000/svg\" height=\"24px\"viewBox=\"0 0 24 24\"\n",
              "     width=\"24px\">\n",
              "    <g>\n",
              "        <path d=\"M19 3H5c-1.1 0-2 .9-2 2v14c0 1.1.9 2 2 2h14c1.1 0 2-.9 2-2V5c0-1.1-.9-2-2-2zM9 17H7v-7h2v7zm4 0h-2V7h2v10zm4 0h-2v-4h2v4z\"/>\n",
              "    </g>\n",
              "</svg>\n",
              "      </button>\n",
              "    </div>\n",
              "\n",
              "<style>\n",
              "  .colab-df-quickchart {\n",
              "    background-color: #E8F0FE;\n",
              "    border: none;\n",
              "    border-radius: 50%;\n",
              "    cursor: pointer;\n",
              "    display: none;\n",
              "    fill: #1967D2;\n",
              "    height: 32px;\n",
              "    padding: 0 0 0 0;\n",
              "    width: 32px;\n",
              "  }\n",
              "\n",
              "  .colab-df-quickchart:hover {\n",
              "    background-color: #E2EBFA;\n",
              "    box-shadow: 0px 1px 2px rgba(60, 64, 67, 0.3), 0px 1px 3px 1px rgba(60, 64, 67, 0.15);\n",
              "    fill: #174EA6;\n",
              "  }\n",
              "\n",
              "  [theme=dark] .colab-df-quickchart {\n",
              "    background-color: #3B4455;\n",
              "    fill: #D2E3FC;\n",
              "  }\n",
              "\n",
              "  [theme=dark] .colab-df-quickchart:hover {\n",
              "    background-color: #434B5C;\n",
              "    box-shadow: 0px 1px 3px 1px rgba(0, 0, 0, 0.15);\n",
              "    filter: drop-shadow(0px 1px 2px rgba(0, 0, 0, 0.3));\n",
              "    fill: #FFFFFF;\n",
              "  }\n",
              "</style>\n",
              "\n",
              "    <script>\n",
              "      async function quickchart(key) {\n",
              "        const containerElement = document.querySelector('#' + key);\n",
              "        const charts = await google.colab.kernel.invokeFunction(\n",
              "            'suggestCharts', [key], {});\n",
              "      }\n",
              "    </script>\n",
              "\n",
              "\n",
              "      <script>\n",
              "\n",
              "function displayQuickchartButton(domScope) {\n",
              "  let quickchartButtonEl =\n",
              "    domScope.querySelector('#df-b9e94273-d8ed-4c97-9a5a-1c4d832179b4 button.colab-df-quickchart');\n",
              "  quickchartButtonEl.style.display =\n",
              "    google.colab.kernel.accessAllowed ? 'block' : 'none';\n",
              "}\n",
              "\n",
              "        displayQuickchartButton(document);\n",
              "      </script>\n",
              "      <style>\n",
              "    .colab-df-container {\n",
              "      display:flex;\n",
              "      flex-wrap:wrap;\n",
              "      gap: 12px;\n",
              "    }\n",
              "\n",
              "    .colab-df-convert {\n",
              "      background-color: #E8F0FE;\n",
              "      border: none;\n",
              "      border-radius: 50%;\n",
              "      cursor: pointer;\n",
              "      display: none;\n",
              "      fill: #1967D2;\n",
              "      height: 32px;\n",
              "      padding: 0 0 0 0;\n",
              "      width: 32px;\n",
              "    }\n",
              "\n",
              "    .colab-df-convert:hover {\n",
              "      background-color: #E2EBFA;\n",
              "      box-shadow: 0px 1px 2px rgba(60, 64, 67, 0.3), 0px 1px 3px 1px rgba(60, 64, 67, 0.15);\n",
              "      fill: #174EA6;\n",
              "    }\n",
              "\n",
              "    [theme=dark] .colab-df-convert {\n",
              "      background-color: #3B4455;\n",
              "      fill: #D2E3FC;\n",
              "    }\n",
              "\n",
              "    [theme=dark] .colab-df-convert:hover {\n",
              "      background-color: #434B5C;\n",
              "      box-shadow: 0px 1px 3px 1px rgba(0, 0, 0, 0.15);\n",
              "      filter: drop-shadow(0px 1px 2px rgba(0, 0, 0, 0.3));\n",
              "      fill: #FFFFFF;\n",
              "    }\n",
              "  </style>\n",
              "\n",
              "      <script>\n",
              "        const buttonEl =\n",
              "          document.querySelector('#df-c57a4d24-9a3d-4ef0-946b-8b4851ff8b7b button.colab-df-convert');\n",
              "        buttonEl.style.display =\n",
              "          google.colab.kernel.accessAllowed ? 'block' : 'none';\n",
              "\n",
              "        async function convertToInteractive(key) {\n",
              "          const element = document.querySelector('#df-c57a4d24-9a3d-4ef0-946b-8b4851ff8b7b');\n",
              "          const dataTable =\n",
              "            await google.colab.kernel.invokeFunction('convertToInteractive',\n",
              "                                                     [key], {});\n",
              "          if (!dataTable) return;\n",
              "\n",
              "          const docLinkHtml = 'Like what you see? Visit the ' +\n",
              "            '<a target=\"_blank\" href=https://colab.research.google.com/notebooks/data_table.ipynb>data table notebook</a>'\n",
              "            + ' to learn more about interactive tables.';\n",
              "          element.innerHTML = '';\n",
              "          dataTable['output_type'] = 'display_data';\n",
              "          await google.colab.output.renderOutput(dataTable, element);\n",
              "          const docLink = document.createElement('div');\n",
              "          docLink.innerHTML = docLinkHtml;\n",
              "          element.appendChild(docLink);\n",
              "        }\n",
              "      </script>\n",
              "    </div>\n",
              "  </div>\n"
            ]
          },
          "metadata": {},
          "execution_count": 3
        }
      ]
    },
    {
      "cell_type": "code",
      "source": [
        "df"
      ],
      "metadata": {
        "colab": {
          "base_uri": "https://localhost:8080/",
          "height": 886
        },
        "id": "YUEcB3LbD9fQ",
        "outputId": "ed318671-1013-4fdb-abb6-d9e8a6626cca"
      },
      "execution_count": null,
      "outputs": [
        {
          "output_type": "execute_result",
          "data": {
            "text/plain": [
              "        transactionalid card_number  waybill_no from_bus_stop_id  \\\n",
              "0            9098557858      'fmKyU     5896691         CLAYQrLH   \n",
              "1            9098226474           '     5896691         DlgJnbPm   \n",
              "2            9098095657           '     5896691         GxBqpKJw   \n",
              "3            9098075232           '     5896691         JCvWFfbf   \n",
              "4            9098066079           '     5896691         JCvWFfbf   \n",
              "...                 ...         ...         ...              ...   \n",
              "128143       9117310714           '     5898835         jBRFFEki   \n",
              "128144       9117443054           '     5899344         ClJlJGEy   \n",
              "128145       9118200011           '     5899998         JIdrrPQh   \n",
              "128146       9118199163           '     5899998         JIdrrPQh   \n",
              "128147       9118149170           '     5899998         MFVgzoTX   \n",
              "\n",
              "                                fromstopname till_bus_stop_id  \\\n",
              "0                               Tejaji Nagar         lhihmGhP   \n",
              "1       Tantya Bheel Chouraha Police Station               97   \n",
              "2                                Power House         DlgJnbPm   \n",
              "3                                Radha Swami               97   \n",
              "4                                Radha Swami         DlgJnbPm   \n",
              "...                                      ...              ...   \n",
              "128143                     Mhow Naka Complex               45   \n",
              "128144                         Chandan Nagar         DGDKBWUt   \n",
              "128145                              Shajapur         hfiFAIMs   \n",
              "128146                              Shajapur         hfiFAIMs   \n",
              "128147                                 Golwa         JIdrrPQh   \n",
              "\n",
              "                                  tostopname  passengers  px_total_amount  \\\n",
              "0                I T Park Or Ashram Chauraha           1               15   \n",
              "1                             Rajwada Circle           1               10   \n",
              "2       Tantya Bheel Chouraha Police Station           1               10   \n",
              "3                             Rajwada Circle           1               15   \n",
              "4       Tantya Bheel Chouraha Police Station           1               10   \n",
              "...                                      ...         ...              ...   \n",
              "128143                          Regal Square           2               20   \n",
              "128144                          Gopur Square           1               10   \n",
              "128145                             Sarangpur           1               40   \n",
              "128146                             Sarangpur           2               80   \n",
              "128147                              Shajapur           1               20   \n",
              "\n",
              "        group_ticket_mode  ... typeofticket toll_amt  driver_id conductor_id  \\\n",
              "0                       0  ...           AD        0  CHALO1042    CHALO7006   \n",
              "1                       0  ...           AD        0  CHALO1042    CHALO7006   \n",
              "2                       0  ...           AD        0  CHALO1042    CHALO7006   \n",
              "3                       0  ...           AD        0  CHALO1042    CHALO7006   \n",
              "4                       0  ...           AD        0  CHALO1042    CHALO7006   \n",
              "...                   ...  ...          ...      ...        ...          ...   \n",
              "128143                  0  ...           AD        0  CHALO1115    CHALO0573   \n",
              "128144                  0  ...           AD        0    cbus181       cbus10   \n",
              "128145                  0  ...           AD        0     driver     CBPL2818   \n",
              "128146                  0  ...           AD        0     driver     CBPL2818   \n",
              "128147                  0  ...           AD        0     driver     CBPL2818   \n",
              "\n",
              "        bus_number trip_no            agency_name city_name  distance  \\\n",
              "0       MP09PA0432       2  Maa Associates Indore    Indore      5.19   \n",
              "1       MP09PA0432       2  Maa Associates Indore    Indore      3.57   \n",
              "2       MP09PA0432       2  Maa Associates Indore    Indore      3.77   \n",
              "3       MP09PA0432       2  Maa Associates Indore    Indore      5.94   \n",
              "4       MP09PA0432       2  Maa Associates Indore    Indore      2.37   \n",
              "...            ...     ...                    ...       ...       ...   \n",
              "128143  MP09PA0446       8  Maa Associates Indore    Indore      3.60   \n",
              "128144  MP09FA8551       9              CHARTERED    Indore      6.30   \n",
              "128145  MP09FA9334       3        CHARTERED SPEED    Indore     26.73   \n",
              "128146  MP09FA9334       3        CHARTERED SPEED    Indore     26.73   \n",
              "128147  MP09FA9334       3        CHARTERED SPEED    Indore     15.61   \n",
              "\n",
              "                          route_name  \n",
              "0                                M-6  \n",
              "1                                M-6  \n",
              "2                                M-6  \n",
              "3                                M-6  \n",
              "4                                M-6  \n",
              "...                              ...  \n",
              "128143                           R-9  \n",
              "128144                          M-27  \n",
              "128145  Indore-Narsingarh Via Biaora  \n",
              "128146  Indore-Narsingarh Via Biaora  \n",
              "128147  Indore-Narsingarh Via Biaora  \n",
              "\n",
              "[128148 rows x 23 columns]"
            ],
            "text/html": [
              "\n",
              "\n",
              "  <div id=\"df-12f9054e-d15e-4567-9d96-173fec8b050e\">\n",
              "    <div class=\"colab-df-container\">\n",
              "      <div>\n",
              "<style scoped>\n",
              "    .dataframe tbody tr th:only-of-type {\n",
              "        vertical-align: middle;\n",
              "    }\n",
              "\n",
              "    .dataframe tbody tr th {\n",
              "        vertical-align: top;\n",
              "    }\n",
              "\n",
              "    .dataframe thead th {\n",
              "        text-align: right;\n",
              "    }\n",
              "</style>\n",
              "<table border=\"1\" class=\"dataframe\">\n",
              "  <thead>\n",
              "    <tr style=\"text-align: right;\">\n",
              "      <th></th>\n",
              "      <th>transactionalid</th>\n",
              "      <th>card_number</th>\n",
              "      <th>waybill_no</th>\n",
              "      <th>from_bus_stop_id</th>\n",
              "      <th>fromstopname</th>\n",
              "      <th>till_bus_stop_id</th>\n",
              "      <th>tostopname</th>\n",
              "      <th>passengers</th>\n",
              "      <th>px_total_amount</th>\n",
              "      <th>group_ticket_mode</th>\n",
              "      <th>...</th>\n",
              "      <th>typeofticket</th>\n",
              "      <th>toll_amt</th>\n",
              "      <th>driver_id</th>\n",
              "      <th>conductor_id</th>\n",
              "      <th>bus_number</th>\n",
              "      <th>trip_no</th>\n",
              "      <th>agency_name</th>\n",
              "      <th>city_name</th>\n",
              "      <th>distance</th>\n",
              "      <th>route_name</th>\n",
              "    </tr>\n",
              "  </thead>\n",
              "  <tbody>\n",
              "    <tr>\n",
              "      <th>0</th>\n",
              "      <td>9098557858</td>\n",
              "      <td>'fmKyU</td>\n",
              "      <td>5896691</td>\n",
              "      <td>CLAYQrLH</td>\n",
              "      <td>Tejaji Nagar</td>\n",
              "      <td>lhihmGhP</td>\n",
              "      <td>I T Park Or Ashram Chauraha</td>\n",
              "      <td>1</td>\n",
              "      <td>15</td>\n",
              "      <td>0</td>\n",
              "      <td>...</td>\n",
              "      <td>AD</td>\n",
              "      <td>0</td>\n",
              "      <td>CHALO1042</td>\n",
              "      <td>CHALO7006</td>\n",
              "      <td>MP09PA0432</td>\n",
              "      <td>2</td>\n",
              "      <td>Maa Associates Indore</td>\n",
              "      <td>Indore</td>\n",
              "      <td>5.19</td>\n",
              "      <td>M-6</td>\n",
              "    </tr>\n",
              "    <tr>\n",
              "      <th>1</th>\n",
              "      <td>9098226474</td>\n",
              "      <td>'</td>\n",
              "      <td>5896691</td>\n",
              "      <td>DlgJnbPm</td>\n",
              "      <td>Tantya Bheel Chouraha Police Station</td>\n",
              "      <td>97</td>\n",
              "      <td>Rajwada Circle</td>\n",
              "      <td>1</td>\n",
              "      <td>10</td>\n",
              "      <td>0</td>\n",
              "      <td>...</td>\n",
              "      <td>AD</td>\n",
              "      <td>0</td>\n",
              "      <td>CHALO1042</td>\n",
              "      <td>CHALO7006</td>\n",
              "      <td>MP09PA0432</td>\n",
              "      <td>2</td>\n",
              "      <td>Maa Associates Indore</td>\n",
              "      <td>Indore</td>\n",
              "      <td>3.57</td>\n",
              "      <td>M-6</td>\n",
              "    </tr>\n",
              "    <tr>\n",
              "      <th>2</th>\n",
              "      <td>9098095657</td>\n",
              "      <td>'</td>\n",
              "      <td>5896691</td>\n",
              "      <td>GxBqpKJw</td>\n",
              "      <td>Power House</td>\n",
              "      <td>DlgJnbPm</td>\n",
              "      <td>Tantya Bheel Chouraha Police Station</td>\n",
              "      <td>1</td>\n",
              "      <td>10</td>\n",
              "      <td>0</td>\n",
              "      <td>...</td>\n",
              "      <td>AD</td>\n",
              "      <td>0</td>\n",
              "      <td>CHALO1042</td>\n",
              "      <td>CHALO7006</td>\n",
              "      <td>MP09PA0432</td>\n",
              "      <td>2</td>\n",
              "      <td>Maa Associates Indore</td>\n",
              "      <td>Indore</td>\n",
              "      <td>3.77</td>\n",
              "      <td>M-6</td>\n",
              "    </tr>\n",
              "    <tr>\n",
              "      <th>3</th>\n",
              "      <td>9098075232</td>\n",
              "      <td>'</td>\n",
              "      <td>5896691</td>\n",
              "      <td>JCvWFfbf</td>\n",
              "      <td>Radha Swami</td>\n",
              "      <td>97</td>\n",
              "      <td>Rajwada Circle</td>\n",
              "      <td>1</td>\n",
              "      <td>15</td>\n",
              "      <td>0</td>\n",
              "      <td>...</td>\n",
              "      <td>AD</td>\n",
              "      <td>0</td>\n",
              "      <td>CHALO1042</td>\n",
              "      <td>CHALO7006</td>\n",
              "      <td>MP09PA0432</td>\n",
              "      <td>2</td>\n",
              "      <td>Maa Associates Indore</td>\n",
              "      <td>Indore</td>\n",
              "      <td>5.94</td>\n",
              "      <td>M-6</td>\n",
              "    </tr>\n",
              "    <tr>\n",
              "      <th>4</th>\n",
              "      <td>9098066079</td>\n",
              "      <td>'</td>\n",
              "      <td>5896691</td>\n",
              "      <td>JCvWFfbf</td>\n",
              "      <td>Radha Swami</td>\n",
              "      <td>DlgJnbPm</td>\n",
              "      <td>Tantya Bheel Chouraha Police Station</td>\n",
              "      <td>1</td>\n",
              "      <td>10</td>\n",
              "      <td>0</td>\n",
              "      <td>...</td>\n",
              "      <td>AD</td>\n",
              "      <td>0</td>\n",
              "      <td>CHALO1042</td>\n",
              "      <td>CHALO7006</td>\n",
              "      <td>MP09PA0432</td>\n",
              "      <td>2</td>\n",
              "      <td>Maa Associates Indore</td>\n",
              "      <td>Indore</td>\n",
              "      <td>2.37</td>\n",
              "      <td>M-6</td>\n",
              "    </tr>\n",
              "    <tr>\n",
              "      <th>...</th>\n",
              "      <td>...</td>\n",
              "      <td>...</td>\n",
              "      <td>...</td>\n",
              "      <td>...</td>\n",
              "      <td>...</td>\n",
              "      <td>...</td>\n",
              "      <td>...</td>\n",
              "      <td>...</td>\n",
              "      <td>...</td>\n",
              "      <td>...</td>\n",
              "      <td>...</td>\n",
              "      <td>...</td>\n",
              "      <td>...</td>\n",
              "      <td>...</td>\n",
              "      <td>...</td>\n",
              "      <td>...</td>\n",
              "      <td>...</td>\n",
              "      <td>...</td>\n",
              "      <td>...</td>\n",
              "      <td>...</td>\n",
              "      <td>...</td>\n",
              "    </tr>\n",
              "    <tr>\n",
              "      <th>128143</th>\n",
              "      <td>9117310714</td>\n",
              "      <td>'</td>\n",
              "      <td>5898835</td>\n",
              "      <td>jBRFFEki</td>\n",
              "      <td>Mhow Naka Complex</td>\n",
              "      <td>45</td>\n",
              "      <td>Regal Square</td>\n",
              "      <td>2</td>\n",
              "      <td>20</td>\n",
              "      <td>0</td>\n",
              "      <td>...</td>\n",
              "      <td>AD</td>\n",
              "      <td>0</td>\n",
              "      <td>CHALO1115</td>\n",
              "      <td>CHALO0573</td>\n",
              "      <td>MP09PA0446</td>\n",
              "      <td>8</td>\n",
              "      <td>Maa Associates Indore</td>\n",
              "      <td>Indore</td>\n",
              "      <td>3.60</td>\n",
              "      <td>R-9</td>\n",
              "    </tr>\n",
              "    <tr>\n",
              "      <th>128144</th>\n",
              "      <td>9117443054</td>\n",
              "      <td>'</td>\n",
              "      <td>5899344</td>\n",
              "      <td>ClJlJGEy</td>\n",
              "      <td>Chandan Nagar</td>\n",
              "      <td>DGDKBWUt</td>\n",
              "      <td>Gopur Square</td>\n",
              "      <td>1</td>\n",
              "      <td>10</td>\n",
              "      <td>0</td>\n",
              "      <td>...</td>\n",
              "      <td>AD</td>\n",
              "      <td>0</td>\n",
              "      <td>cbus181</td>\n",
              "      <td>cbus10</td>\n",
              "      <td>MP09FA8551</td>\n",
              "      <td>9</td>\n",
              "      <td>CHARTERED</td>\n",
              "      <td>Indore</td>\n",
              "      <td>6.30</td>\n",
              "      <td>M-27</td>\n",
              "    </tr>\n",
              "    <tr>\n",
              "      <th>128145</th>\n",
              "      <td>9118200011</td>\n",
              "      <td>'</td>\n",
              "      <td>5899998</td>\n",
              "      <td>JIdrrPQh</td>\n",
              "      <td>Shajapur</td>\n",
              "      <td>hfiFAIMs</td>\n",
              "      <td>Sarangpur</td>\n",
              "      <td>1</td>\n",
              "      <td>40</td>\n",
              "      <td>0</td>\n",
              "      <td>...</td>\n",
              "      <td>AD</td>\n",
              "      <td>0</td>\n",
              "      <td>driver</td>\n",
              "      <td>CBPL2818</td>\n",
              "      <td>MP09FA9334</td>\n",
              "      <td>3</td>\n",
              "      <td>CHARTERED SPEED</td>\n",
              "      <td>Indore</td>\n",
              "      <td>26.73</td>\n",
              "      <td>Indore-Narsingarh Via Biaora</td>\n",
              "    </tr>\n",
              "    <tr>\n",
              "      <th>128146</th>\n",
              "      <td>9118199163</td>\n",
              "      <td>'</td>\n",
              "      <td>5899998</td>\n",
              "      <td>JIdrrPQh</td>\n",
              "      <td>Shajapur</td>\n",
              "      <td>hfiFAIMs</td>\n",
              "      <td>Sarangpur</td>\n",
              "      <td>2</td>\n",
              "      <td>80</td>\n",
              "      <td>0</td>\n",
              "      <td>...</td>\n",
              "      <td>AD</td>\n",
              "      <td>0</td>\n",
              "      <td>driver</td>\n",
              "      <td>CBPL2818</td>\n",
              "      <td>MP09FA9334</td>\n",
              "      <td>3</td>\n",
              "      <td>CHARTERED SPEED</td>\n",
              "      <td>Indore</td>\n",
              "      <td>26.73</td>\n",
              "      <td>Indore-Narsingarh Via Biaora</td>\n",
              "    </tr>\n",
              "    <tr>\n",
              "      <th>128147</th>\n",
              "      <td>9118149170</td>\n",
              "      <td>'</td>\n",
              "      <td>5899998</td>\n",
              "      <td>MFVgzoTX</td>\n",
              "      <td>Golwa</td>\n",
              "      <td>JIdrrPQh</td>\n",
              "      <td>Shajapur</td>\n",
              "      <td>1</td>\n",
              "      <td>20</td>\n",
              "      <td>0</td>\n",
              "      <td>...</td>\n",
              "      <td>AD</td>\n",
              "      <td>0</td>\n",
              "      <td>driver</td>\n",
              "      <td>CBPL2818</td>\n",
              "      <td>MP09FA9334</td>\n",
              "      <td>3</td>\n",
              "      <td>CHARTERED SPEED</td>\n",
              "      <td>Indore</td>\n",
              "      <td>15.61</td>\n",
              "      <td>Indore-Narsingarh Via Biaora</td>\n",
              "    </tr>\n",
              "  </tbody>\n",
              "</table>\n",
              "<p>128148 rows × 23 columns</p>\n",
              "</div>\n",
              "      <button class=\"colab-df-convert\" onclick=\"convertToInteractive('df-12f9054e-d15e-4567-9d96-173fec8b050e')\"\n",
              "              title=\"Convert this dataframe to an interactive table.\"\n",
              "              style=\"display:none;\">\n",
              "\n",
              "  <svg xmlns=\"http://www.w3.org/2000/svg\" height=\"24px\"viewBox=\"0 0 24 24\"\n",
              "       width=\"24px\">\n",
              "    <path d=\"M0 0h24v24H0V0z\" fill=\"none\"/>\n",
              "    <path d=\"M18.56 5.44l.94 2.06.94-2.06 2.06-.94-2.06-.94-.94-2.06-.94 2.06-2.06.94zm-11 1L8.5 8.5l.94-2.06 2.06-.94-2.06-.94L8.5 2.5l-.94 2.06-2.06.94zm10 10l.94 2.06.94-2.06 2.06-.94-2.06-.94-.94-2.06-.94 2.06-2.06.94z\"/><path d=\"M17.41 7.96l-1.37-1.37c-.4-.4-.92-.59-1.43-.59-.52 0-1.04.2-1.43.59L10.3 9.45l-7.72 7.72c-.78.78-.78 2.05 0 2.83L4 21.41c.39.39.9.59 1.41.59.51 0 1.02-.2 1.41-.59l7.78-7.78 2.81-2.81c.8-.78.8-2.07 0-2.86zM5.41 20L4 18.59l7.72-7.72 1.47 1.35L5.41 20z\"/>\n",
              "  </svg>\n",
              "      </button>\n",
              "\n",
              "\n",
              "\n",
              "    <div id=\"df-af3f12d5-6e6c-4e6c-9d32-0e2cf6eb0b6c\">\n",
              "      <button class=\"colab-df-quickchart\" onclick=\"quickchart('df-af3f12d5-6e6c-4e6c-9d32-0e2cf6eb0b6c')\"\n",
              "              title=\"Suggest charts.\"\n",
              "              style=\"display:none;\">\n",
              "\n",
              "<svg xmlns=\"http://www.w3.org/2000/svg\" height=\"24px\"viewBox=\"0 0 24 24\"\n",
              "     width=\"24px\">\n",
              "    <g>\n",
              "        <path d=\"M19 3H5c-1.1 0-2 .9-2 2v14c0 1.1.9 2 2 2h14c1.1 0 2-.9 2-2V5c0-1.1-.9-2-2-2zM9 17H7v-7h2v7zm4 0h-2V7h2v10zm4 0h-2v-4h2v4z\"/>\n",
              "    </g>\n",
              "</svg>\n",
              "      </button>\n",
              "    </div>\n",
              "\n",
              "<style>\n",
              "  .colab-df-quickchart {\n",
              "    background-color: #E8F0FE;\n",
              "    border: none;\n",
              "    border-radius: 50%;\n",
              "    cursor: pointer;\n",
              "    display: none;\n",
              "    fill: #1967D2;\n",
              "    height: 32px;\n",
              "    padding: 0 0 0 0;\n",
              "    width: 32px;\n",
              "  }\n",
              "\n",
              "  .colab-df-quickchart:hover {\n",
              "    background-color: #E2EBFA;\n",
              "    box-shadow: 0px 1px 2px rgba(60, 64, 67, 0.3), 0px 1px 3px 1px rgba(60, 64, 67, 0.15);\n",
              "    fill: #174EA6;\n",
              "  }\n",
              "\n",
              "  [theme=dark] .colab-df-quickchart {\n",
              "    background-color: #3B4455;\n",
              "    fill: #D2E3FC;\n",
              "  }\n",
              "\n",
              "  [theme=dark] .colab-df-quickchart:hover {\n",
              "    background-color: #434B5C;\n",
              "    box-shadow: 0px 1px 3px 1px rgba(0, 0, 0, 0.15);\n",
              "    filter: drop-shadow(0px 1px 2px rgba(0, 0, 0, 0.3));\n",
              "    fill: #FFFFFF;\n",
              "  }\n",
              "</style>\n",
              "\n",
              "    <script>\n",
              "      async function quickchart(key) {\n",
              "        const containerElement = document.querySelector('#' + key);\n",
              "        const charts = await google.colab.kernel.invokeFunction(\n",
              "            'suggestCharts', [key], {});\n",
              "      }\n",
              "    </script>\n",
              "\n",
              "\n",
              "      <script>\n",
              "\n",
              "function displayQuickchartButton(domScope) {\n",
              "  let quickchartButtonEl =\n",
              "    domScope.querySelector('#df-af3f12d5-6e6c-4e6c-9d32-0e2cf6eb0b6c button.colab-df-quickchart');\n",
              "  quickchartButtonEl.style.display =\n",
              "    google.colab.kernel.accessAllowed ? 'block' : 'none';\n",
              "}\n",
              "\n",
              "        displayQuickchartButton(document);\n",
              "      </script>\n",
              "      <style>\n",
              "    .colab-df-container {\n",
              "      display:flex;\n",
              "      flex-wrap:wrap;\n",
              "      gap: 12px;\n",
              "    }\n",
              "\n",
              "    .colab-df-convert {\n",
              "      background-color: #E8F0FE;\n",
              "      border: none;\n",
              "      border-radius: 50%;\n",
              "      cursor: pointer;\n",
              "      display: none;\n",
              "      fill: #1967D2;\n",
              "      height: 32px;\n",
              "      padding: 0 0 0 0;\n",
              "      width: 32px;\n",
              "    }\n",
              "\n",
              "    .colab-df-convert:hover {\n",
              "      background-color: #E2EBFA;\n",
              "      box-shadow: 0px 1px 2px rgba(60, 64, 67, 0.3), 0px 1px 3px 1px rgba(60, 64, 67, 0.15);\n",
              "      fill: #174EA6;\n",
              "    }\n",
              "\n",
              "    [theme=dark] .colab-df-convert {\n",
              "      background-color: #3B4455;\n",
              "      fill: #D2E3FC;\n",
              "    }\n",
              "\n",
              "    [theme=dark] .colab-df-convert:hover {\n",
              "      background-color: #434B5C;\n",
              "      box-shadow: 0px 1px 3px 1px rgba(0, 0, 0, 0.15);\n",
              "      filter: drop-shadow(0px 1px 2px rgba(0, 0, 0, 0.3));\n",
              "      fill: #FFFFFF;\n",
              "    }\n",
              "  </style>\n",
              "\n",
              "      <script>\n",
              "        const buttonEl =\n",
              "          document.querySelector('#df-12f9054e-d15e-4567-9d96-173fec8b050e button.colab-df-convert');\n",
              "        buttonEl.style.display =\n",
              "          google.colab.kernel.accessAllowed ? 'block' : 'none';\n",
              "\n",
              "        async function convertToInteractive(key) {\n",
              "          const element = document.querySelector('#df-12f9054e-d15e-4567-9d96-173fec8b050e');\n",
              "          const dataTable =\n",
              "            await google.colab.kernel.invokeFunction('convertToInteractive',\n",
              "                                                     [key], {});\n",
              "          if (!dataTable) return;\n",
              "\n",
              "          const docLinkHtml = 'Like what you see? Visit the ' +\n",
              "            '<a target=\"_blank\" href=https://colab.research.google.com/notebooks/data_table.ipynb>data table notebook</a>'\n",
              "            + ' to learn more about interactive tables.';\n",
              "          element.innerHTML = '';\n",
              "          dataTable['output_type'] = 'display_data';\n",
              "          await google.colab.output.renderOutput(dataTable, element);\n",
              "          const docLink = document.createElement('div');\n",
              "          docLink.innerHTML = docLinkHtml;\n",
              "          element.appendChild(docLink);\n",
              "        }\n",
              "      </script>\n",
              "    </div>\n",
              "  </div>\n"
            ]
          },
          "metadata": {},
          "execution_count": 4
        }
      ]
    },
    {
      "cell_type": "code",
      "source": [
        "m6r=df.loc[df[\"route_name\"]==\"M-6\"]\n",
        "r9=df.loc[df[\"route_name\"]==\"R-9\"]\n",
        "m36=df.loc[df[\"route_name\"]==\"M-36\"]\n",
        "n5=df.loc[df[\"route_name\"]==\"N-5\"]"
      ],
      "metadata": {
        "id": "UnyyzSqm1CLG"
      },
      "execution_count": null,
      "outputs": []
    },
    {
      "cell_type": "code",
      "source": [
        "m6r.head()"
      ],
      "metadata": {
        "colab": {
          "base_uri": "https://localhost:8080/",
          "height": 542
        },
        "id": "C6eEkuuL1FHF",
        "outputId": "e0107798-7827-4eb9-a77a-cf5be14daa0c"
      },
      "execution_count": null,
      "outputs": [
        {
          "output_type": "execute_result",
          "data": {
            "text/plain": [
              "   transactionalid card_number  waybill_no from_bus_stop_id  \\\n",
              "0       9098557858      'fmKyU     5896691         CLAYQrLH   \n",
              "1       9098226474           '     5896691         DlgJnbPm   \n",
              "2       9098095657           '     5896691         GxBqpKJw   \n",
              "3       9098075232           '     5896691         JCvWFfbf   \n",
              "4       9098066079           '     5896691         JCvWFfbf   \n",
              "\n",
              "                           fromstopname till_bus_stop_id  \\\n",
              "0                          Tejaji Nagar         lhihmGhP   \n",
              "1  Tantya Bheel Chouraha Police Station               97   \n",
              "2                           Power House         DlgJnbPm   \n",
              "3                           Radha Swami               97   \n",
              "4                           Radha Swami         DlgJnbPm   \n",
              "\n",
              "                             tostopname  passengers  px_total_amount  \\\n",
              "0           I T Park Or Ashram Chauraha           1               15   \n",
              "1                        Rajwada Circle           1               10   \n",
              "2  Tantya Bheel Chouraha Police Station           1               10   \n",
              "3                        Rajwada Circle           1               15   \n",
              "4  Tantya Bheel Chouraha Police Station           1               10   \n",
              "\n",
              "   group_ticket_mode  ... typeofticket toll_amt  driver_id conductor_id  \\\n",
              "0                  0  ...           AD        0  CHALO1042    CHALO7006   \n",
              "1                  0  ...           AD        0  CHALO1042    CHALO7006   \n",
              "2                  0  ...           AD        0  CHALO1042    CHALO7006   \n",
              "3                  0  ...           AD        0  CHALO1042    CHALO7006   \n",
              "4                  0  ...           AD        0  CHALO1042    CHALO7006   \n",
              "\n",
              "   bus_number trip_no            agency_name city_name  distance route_name  \n",
              "0  MP09PA0432       2  Maa Associates Indore    Indore      5.19        M-6  \n",
              "1  MP09PA0432       2  Maa Associates Indore    Indore      3.57        M-6  \n",
              "2  MP09PA0432       2  Maa Associates Indore    Indore      3.77        M-6  \n",
              "3  MP09PA0432       2  Maa Associates Indore    Indore      5.94        M-6  \n",
              "4  MP09PA0432       2  Maa Associates Indore    Indore      2.37        M-6  \n",
              "\n",
              "[5 rows x 23 columns]"
            ],
            "text/html": [
              "\n",
              "\n",
              "  <div id=\"df-2a6ef432-855c-4fea-9b5c-2af627702fae\">\n",
              "    <div class=\"colab-df-container\">\n",
              "      <div>\n",
              "<style scoped>\n",
              "    .dataframe tbody tr th:only-of-type {\n",
              "        vertical-align: middle;\n",
              "    }\n",
              "\n",
              "    .dataframe tbody tr th {\n",
              "        vertical-align: top;\n",
              "    }\n",
              "\n",
              "    .dataframe thead th {\n",
              "        text-align: right;\n",
              "    }\n",
              "</style>\n",
              "<table border=\"1\" class=\"dataframe\">\n",
              "  <thead>\n",
              "    <tr style=\"text-align: right;\">\n",
              "      <th></th>\n",
              "      <th>transactionalid</th>\n",
              "      <th>card_number</th>\n",
              "      <th>waybill_no</th>\n",
              "      <th>from_bus_stop_id</th>\n",
              "      <th>fromstopname</th>\n",
              "      <th>till_bus_stop_id</th>\n",
              "      <th>tostopname</th>\n",
              "      <th>passengers</th>\n",
              "      <th>px_total_amount</th>\n",
              "      <th>group_ticket_mode</th>\n",
              "      <th>...</th>\n",
              "      <th>typeofticket</th>\n",
              "      <th>toll_amt</th>\n",
              "      <th>driver_id</th>\n",
              "      <th>conductor_id</th>\n",
              "      <th>bus_number</th>\n",
              "      <th>trip_no</th>\n",
              "      <th>agency_name</th>\n",
              "      <th>city_name</th>\n",
              "      <th>distance</th>\n",
              "      <th>route_name</th>\n",
              "    </tr>\n",
              "  </thead>\n",
              "  <tbody>\n",
              "    <tr>\n",
              "      <th>0</th>\n",
              "      <td>9098557858</td>\n",
              "      <td>'fmKyU</td>\n",
              "      <td>5896691</td>\n",
              "      <td>CLAYQrLH</td>\n",
              "      <td>Tejaji Nagar</td>\n",
              "      <td>lhihmGhP</td>\n",
              "      <td>I T Park Or Ashram Chauraha</td>\n",
              "      <td>1</td>\n",
              "      <td>15</td>\n",
              "      <td>0</td>\n",
              "      <td>...</td>\n",
              "      <td>AD</td>\n",
              "      <td>0</td>\n",
              "      <td>CHALO1042</td>\n",
              "      <td>CHALO7006</td>\n",
              "      <td>MP09PA0432</td>\n",
              "      <td>2</td>\n",
              "      <td>Maa Associates Indore</td>\n",
              "      <td>Indore</td>\n",
              "      <td>5.19</td>\n",
              "      <td>M-6</td>\n",
              "    </tr>\n",
              "    <tr>\n",
              "      <th>1</th>\n",
              "      <td>9098226474</td>\n",
              "      <td>'</td>\n",
              "      <td>5896691</td>\n",
              "      <td>DlgJnbPm</td>\n",
              "      <td>Tantya Bheel Chouraha Police Station</td>\n",
              "      <td>97</td>\n",
              "      <td>Rajwada Circle</td>\n",
              "      <td>1</td>\n",
              "      <td>10</td>\n",
              "      <td>0</td>\n",
              "      <td>...</td>\n",
              "      <td>AD</td>\n",
              "      <td>0</td>\n",
              "      <td>CHALO1042</td>\n",
              "      <td>CHALO7006</td>\n",
              "      <td>MP09PA0432</td>\n",
              "      <td>2</td>\n",
              "      <td>Maa Associates Indore</td>\n",
              "      <td>Indore</td>\n",
              "      <td>3.57</td>\n",
              "      <td>M-6</td>\n",
              "    </tr>\n",
              "    <tr>\n",
              "      <th>2</th>\n",
              "      <td>9098095657</td>\n",
              "      <td>'</td>\n",
              "      <td>5896691</td>\n",
              "      <td>GxBqpKJw</td>\n",
              "      <td>Power House</td>\n",
              "      <td>DlgJnbPm</td>\n",
              "      <td>Tantya Bheel Chouraha Police Station</td>\n",
              "      <td>1</td>\n",
              "      <td>10</td>\n",
              "      <td>0</td>\n",
              "      <td>...</td>\n",
              "      <td>AD</td>\n",
              "      <td>0</td>\n",
              "      <td>CHALO1042</td>\n",
              "      <td>CHALO7006</td>\n",
              "      <td>MP09PA0432</td>\n",
              "      <td>2</td>\n",
              "      <td>Maa Associates Indore</td>\n",
              "      <td>Indore</td>\n",
              "      <td>3.77</td>\n",
              "      <td>M-6</td>\n",
              "    </tr>\n",
              "    <tr>\n",
              "      <th>3</th>\n",
              "      <td>9098075232</td>\n",
              "      <td>'</td>\n",
              "      <td>5896691</td>\n",
              "      <td>JCvWFfbf</td>\n",
              "      <td>Radha Swami</td>\n",
              "      <td>97</td>\n",
              "      <td>Rajwada Circle</td>\n",
              "      <td>1</td>\n",
              "      <td>15</td>\n",
              "      <td>0</td>\n",
              "      <td>...</td>\n",
              "      <td>AD</td>\n",
              "      <td>0</td>\n",
              "      <td>CHALO1042</td>\n",
              "      <td>CHALO7006</td>\n",
              "      <td>MP09PA0432</td>\n",
              "      <td>2</td>\n",
              "      <td>Maa Associates Indore</td>\n",
              "      <td>Indore</td>\n",
              "      <td>5.94</td>\n",
              "      <td>M-6</td>\n",
              "    </tr>\n",
              "    <tr>\n",
              "      <th>4</th>\n",
              "      <td>9098066079</td>\n",
              "      <td>'</td>\n",
              "      <td>5896691</td>\n",
              "      <td>JCvWFfbf</td>\n",
              "      <td>Radha Swami</td>\n",
              "      <td>DlgJnbPm</td>\n",
              "      <td>Tantya Bheel Chouraha Police Station</td>\n",
              "      <td>1</td>\n",
              "      <td>10</td>\n",
              "      <td>0</td>\n",
              "      <td>...</td>\n",
              "      <td>AD</td>\n",
              "      <td>0</td>\n",
              "      <td>CHALO1042</td>\n",
              "      <td>CHALO7006</td>\n",
              "      <td>MP09PA0432</td>\n",
              "      <td>2</td>\n",
              "      <td>Maa Associates Indore</td>\n",
              "      <td>Indore</td>\n",
              "      <td>2.37</td>\n",
              "      <td>M-6</td>\n",
              "    </tr>\n",
              "  </tbody>\n",
              "</table>\n",
              "<p>5 rows × 23 columns</p>\n",
              "</div>\n",
              "      <button class=\"colab-df-convert\" onclick=\"convertToInteractive('df-2a6ef432-855c-4fea-9b5c-2af627702fae')\"\n",
              "              title=\"Convert this dataframe to an interactive table.\"\n",
              "              style=\"display:none;\">\n",
              "\n",
              "  <svg xmlns=\"http://www.w3.org/2000/svg\" height=\"24px\"viewBox=\"0 0 24 24\"\n",
              "       width=\"24px\">\n",
              "    <path d=\"M0 0h24v24H0V0z\" fill=\"none\"/>\n",
              "    <path d=\"M18.56 5.44l.94 2.06.94-2.06 2.06-.94-2.06-.94-.94-2.06-.94 2.06-2.06.94zm-11 1L8.5 8.5l.94-2.06 2.06-.94-2.06-.94L8.5 2.5l-.94 2.06-2.06.94zm10 10l.94 2.06.94-2.06 2.06-.94-2.06-.94-.94-2.06-.94 2.06-2.06.94z\"/><path d=\"M17.41 7.96l-1.37-1.37c-.4-.4-.92-.59-1.43-.59-.52 0-1.04.2-1.43.59L10.3 9.45l-7.72 7.72c-.78.78-.78 2.05 0 2.83L4 21.41c.39.39.9.59 1.41.59.51 0 1.02-.2 1.41-.59l7.78-7.78 2.81-2.81c.8-.78.8-2.07 0-2.86zM5.41 20L4 18.59l7.72-7.72 1.47 1.35L5.41 20z\"/>\n",
              "  </svg>\n",
              "      </button>\n",
              "\n",
              "\n",
              "\n",
              "    <div id=\"df-4eaa0221-50c9-4e06-9d33-23858e1da3e9\">\n",
              "      <button class=\"colab-df-quickchart\" onclick=\"quickchart('df-4eaa0221-50c9-4e06-9d33-23858e1da3e9')\"\n",
              "              title=\"Suggest charts.\"\n",
              "              style=\"display:none;\">\n",
              "\n",
              "<svg xmlns=\"http://www.w3.org/2000/svg\" height=\"24px\"viewBox=\"0 0 24 24\"\n",
              "     width=\"24px\">\n",
              "    <g>\n",
              "        <path d=\"M19 3H5c-1.1 0-2 .9-2 2v14c0 1.1.9 2 2 2h14c1.1 0 2-.9 2-2V5c0-1.1-.9-2-2-2zM9 17H7v-7h2v7zm4 0h-2V7h2v10zm4 0h-2v-4h2v4z\"/>\n",
              "    </g>\n",
              "</svg>\n",
              "      </button>\n",
              "    </div>\n",
              "\n",
              "<style>\n",
              "  .colab-df-quickchart {\n",
              "    background-color: #E8F0FE;\n",
              "    border: none;\n",
              "    border-radius: 50%;\n",
              "    cursor: pointer;\n",
              "    display: none;\n",
              "    fill: #1967D2;\n",
              "    height: 32px;\n",
              "    padding: 0 0 0 0;\n",
              "    width: 32px;\n",
              "  }\n",
              "\n",
              "  .colab-df-quickchart:hover {\n",
              "    background-color: #E2EBFA;\n",
              "    box-shadow: 0px 1px 2px rgba(60, 64, 67, 0.3), 0px 1px 3px 1px rgba(60, 64, 67, 0.15);\n",
              "    fill: #174EA6;\n",
              "  }\n",
              "\n",
              "  [theme=dark] .colab-df-quickchart {\n",
              "    background-color: #3B4455;\n",
              "    fill: #D2E3FC;\n",
              "  }\n",
              "\n",
              "  [theme=dark] .colab-df-quickchart:hover {\n",
              "    background-color: #434B5C;\n",
              "    box-shadow: 0px 1px 3px 1px rgba(0, 0, 0, 0.15);\n",
              "    filter: drop-shadow(0px 1px 2px rgba(0, 0, 0, 0.3));\n",
              "    fill: #FFFFFF;\n",
              "  }\n",
              "</style>\n",
              "\n",
              "    <script>\n",
              "      async function quickchart(key) {\n",
              "        const containerElement = document.querySelector('#' + key);\n",
              "        const charts = await google.colab.kernel.invokeFunction(\n",
              "            'suggestCharts', [key], {});\n",
              "      }\n",
              "    </script>\n",
              "\n",
              "\n",
              "      <script>\n",
              "\n",
              "function displayQuickchartButton(domScope) {\n",
              "  let quickchartButtonEl =\n",
              "    domScope.querySelector('#df-4eaa0221-50c9-4e06-9d33-23858e1da3e9 button.colab-df-quickchart');\n",
              "  quickchartButtonEl.style.display =\n",
              "    google.colab.kernel.accessAllowed ? 'block' : 'none';\n",
              "}\n",
              "\n",
              "        displayQuickchartButton(document);\n",
              "      </script>\n",
              "      <style>\n",
              "    .colab-df-container {\n",
              "      display:flex;\n",
              "      flex-wrap:wrap;\n",
              "      gap: 12px;\n",
              "    }\n",
              "\n",
              "    .colab-df-convert {\n",
              "      background-color: #E8F0FE;\n",
              "      border: none;\n",
              "      border-radius: 50%;\n",
              "      cursor: pointer;\n",
              "      display: none;\n",
              "      fill: #1967D2;\n",
              "      height: 32px;\n",
              "      padding: 0 0 0 0;\n",
              "      width: 32px;\n",
              "    }\n",
              "\n",
              "    .colab-df-convert:hover {\n",
              "      background-color: #E2EBFA;\n",
              "      box-shadow: 0px 1px 2px rgba(60, 64, 67, 0.3), 0px 1px 3px 1px rgba(60, 64, 67, 0.15);\n",
              "      fill: #174EA6;\n",
              "    }\n",
              "\n",
              "    [theme=dark] .colab-df-convert {\n",
              "      background-color: #3B4455;\n",
              "      fill: #D2E3FC;\n",
              "    }\n",
              "\n",
              "    [theme=dark] .colab-df-convert:hover {\n",
              "      background-color: #434B5C;\n",
              "      box-shadow: 0px 1px 3px 1px rgba(0, 0, 0, 0.15);\n",
              "      filter: drop-shadow(0px 1px 2px rgba(0, 0, 0, 0.3));\n",
              "      fill: #FFFFFF;\n",
              "    }\n",
              "  </style>\n",
              "\n",
              "      <script>\n",
              "        const buttonEl =\n",
              "          document.querySelector('#df-2a6ef432-855c-4fea-9b5c-2af627702fae button.colab-df-convert');\n",
              "        buttonEl.style.display =\n",
              "          google.colab.kernel.accessAllowed ? 'block' : 'none';\n",
              "\n",
              "        async function convertToInteractive(key) {\n",
              "          const element = document.querySelector('#df-2a6ef432-855c-4fea-9b5c-2af627702fae');\n",
              "          const dataTable =\n",
              "            await google.colab.kernel.invokeFunction('convertToInteractive',\n",
              "                                                     [key], {});\n",
              "          if (!dataTable) return;\n",
              "\n",
              "          const docLinkHtml = 'Like what you see? Visit the ' +\n",
              "            '<a target=\"_blank\" href=https://colab.research.google.com/notebooks/data_table.ipynb>data table notebook</a>'\n",
              "            + ' to learn more about interactive tables.';\n",
              "          element.innerHTML = '';\n",
              "          dataTable['output_type'] = 'display_data';\n",
              "          await google.colab.output.renderOutput(dataTable, element);\n",
              "          const docLink = document.createElement('div');\n",
              "          docLink.innerHTML = docLinkHtml;\n",
              "          element.appendChild(docLink);\n",
              "        }\n",
              "      </script>\n",
              "    </div>\n",
              "  </div>\n"
            ]
          },
          "metadata": {},
          "execution_count": 6
        }
      ]
    },
    {
      "cell_type": "code",
      "source": [
        "m6r.shape"
      ],
      "metadata": {
        "colab": {
          "base_uri": "https://localhost:8080/"
        },
        "id": "2o9VVA0V1bw3",
        "outputId": "236c1b3c-586b-4e0e-ccec-53adffd5faa4"
      },
      "execution_count": null,
      "outputs": [
        {
          "output_type": "execute_result",
          "data": {
            "text/plain": [
              "(12433, 23)"
            ]
          },
          "metadata": {},
          "execution_count": 7
        }
      ]
    },
    {
      "cell_type": "code",
      "source": [
        "r9.shape"
      ],
      "metadata": {
        "colab": {
          "base_uri": "https://localhost:8080/"
        },
        "id": "xZVJGHJKEGRa",
        "outputId": "09b77b38-1001-4a27-d9cf-387bd0646c52"
      },
      "execution_count": null,
      "outputs": [
        {
          "output_type": "execute_result",
          "data": {
            "text/plain": [
              "(6487, 23)"
            ]
          },
          "metadata": {},
          "execution_count": 8
        }
      ]
    },
    {
      "cell_type": "code",
      "source": [],
      "metadata": {
        "id": "iTLQ-ynuAj0l"
      },
      "execution_count": null,
      "outputs": []
    },
    {
      "cell_type": "code",
      "source": [
        "time = m6r['ticket_time']"
      ],
      "metadata": {
        "id": "hBKlrNFB2PTE"
      },
      "execution_count": null,
      "outputs": []
    },
    {
      "cell_type": "code",
      "source": [
        "m6r.info()"
      ],
      "metadata": {
        "colab": {
          "base_uri": "https://localhost:8080/"
        },
        "id": "WVp4I_1v21le",
        "outputId": "8dcda16e-38a0-49cb-dd21-0dda78ff9297"
      },
      "execution_count": null,
      "outputs": [
        {
          "output_type": "stream",
          "name": "stdout",
          "text": [
            "<class 'pandas.core.frame.DataFrame'>\n",
            "Int64Index: 12433 entries, 0 to 124977\n",
            "Data columns (total 23 columns):\n",
            " #   Column             Non-Null Count  Dtype  \n",
            "---  ------             --------------  -----  \n",
            " 0   transactionalid    12433 non-null  int64  \n",
            " 1   card_number        12433 non-null  object \n",
            " 2   waybill_no         12433 non-null  int64  \n",
            " 3   from_bus_stop_id   12433 non-null  object \n",
            " 4   fromstopname       12433 non-null  object \n",
            " 5   till_bus_stop_id   12433 non-null  object \n",
            " 6   tostopname         12433 non-null  object \n",
            " 7   passengers         12433 non-null  int64  \n",
            " 8   px_total_amount    12433 non-null  int64  \n",
            " 9   group_ticket_mode  12433 non-null  int64  \n",
            " 10  paymentmode        12433 non-null  object \n",
            " 11  ticket_time        12433 non-null  object \n",
            " 12  ticket_no          12433 non-null  int64  \n",
            " 13  typeofticket       12433 non-null  object \n",
            " 14  toll_amt           12433 non-null  int64  \n",
            " 15  driver_id          12433 non-null  object \n",
            " 16  conductor_id       12433 non-null  object \n",
            " 17  bus_number         12433 non-null  object \n",
            " 18  trip_no            12433 non-null  int64  \n",
            " 19  agency_name        12433 non-null  object \n",
            " 20  city_name          12433 non-null  object \n",
            " 21  distance           12433 non-null  float64\n",
            " 22  route_name         12433 non-null  object \n",
            "dtypes: float64(1), int64(8), object(14)\n",
            "memory usage: 2.3+ MB\n"
          ]
        }
      ]
    },
    {
      "cell_type": "code",
      "source": [
        "import datetime"
      ],
      "metadata": {
        "id": "GGRWUKdd4Ddc"
      },
      "execution_count": null,
      "outputs": []
    },
    {
      "cell_type": "code",
      "source": [
        "m6r['ticket_time'] = pd.to_datetime(m6r['ticket_time'], infer_datetime_format=True)"
      ],
      "metadata": {
        "colab": {
          "base_uri": "https://localhost:8080/"
        },
        "id": "MeIZfLCi5D3B",
        "outputId": "3fe4e04b-c28f-4677-d980-396db454ca3c"
      },
      "execution_count": null,
      "outputs": [
        {
          "output_type": "stream",
          "name": "stderr",
          "text": [
            "<ipython-input-12-df9e0968e6f0>:1: SettingWithCopyWarning: \n",
            "A value is trying to be set on a copy of a slice from a DataFrame.\n",
            "Try using .loc[row_indexer,col_indexer] = value instead\n",
            "\n",
            "See the caveats in the documentation: https://pandas.pydata.org/pandas-docs/stable/user_guide/indexing.html#returning-a-view-versus-a-copy\n",
            "  m6r['ticket_time'] = pd.to_datetime(m6r['ticket_time'], infer_datetime_format=True)\n"
          ]
        }
      ]
    },
    {
      "cell_type": "code",
      "source": [
        "r9['ticket_time'] = pd.to_datetime(r9['ticket_time'], infer_datetime_format=True)"
      ],
      "metadata": {
        "colab": {
          "base_uri": "https://localhost:8080/"
        },
        "id": "bMjcE8mQELYp",
        "outputId": "1f8da111-fca8-4de3-cba1-d6ede0a6840f"
      },
      "execution_count": null,
      "outputs": [
        {
          "output_type": "stream",
          "name": "stderr",
          "text": [
            "<ipython-input-13-69c311e8dd2d>:1: SettingWithCopyWarning: \n",
            "A value is trying to be set on a copy of a slice from a DataFrame.\n",
            "Try using .loc[row_indexer,col_indexer] = value instead\n",
            "\n",
            "See the caveats in the documentation: https://pandas.pydata.org/pandas-docs/stable/user_guide/indexing.html#returning-a-view-versus-a-copy\n",
            "  r9['ticket_time'] = pd.to_datetime(r9['ticket_time'], infer_datetime_format=True)\n"
          ]
        }
      ]
    },
    {
      "cell_type": "code",
      "source": [
        "m36['ticket_time'] = pd.to_datetime(m36['ticket_time'], infer_datetime_format=True)"
      ],
      "metadata": {
        "colab": {
          "base_uri": "https://localhost:8080/"
        },
        "id": "Sr1weq31HOR5",
        "outputId": "713f4dba-c3f8-4fef-efc1-939d8f90761f"
      },
      "execution_count": null,
      "outputs": [
        {
          "output_type": "stream",
          "name": "stderr",
          "text": [
            "<ipython-input-14-45a156c46c15>:1: SettingWithCopyWarning: \n",
            "A value is trying to be set on a copy of a slice from a DataFrame.\n",
            "Try using .loc[row_indexer,col_indexer] = value instead\n",
            "\n",
            "See the caveats in the documentation: https://pandas.pydata.org/pandas-docs/stable/user_guide/indexing.html#returning-a-view-versus-a-copy\n",
            "  m36['ticket_time'] = pd.to_datetime(m36['ticket_time'], infer_datetime_format=True)\n"
          ]
        }
      ]
    },
    {
      "cell_type": "code",
      "source": [
        "n5['ticket_time'] = pd.to_datetime(n5['ticket_time'], infer_datetime_format=True)"
      ],
      "metadata": {
        "colab": {
          "base_uri": "https://localhost:8080/"
        },
        "id": "u2Wwv8UDHO70",
        "outputId": "3c44ae9c-3918-40de-f079-0a5a7175a58e"
      },
      "execution_count": null,
      "outputs": [
        {
          "output_type": "stream",
          "name": "stderr",
          "text": [
            "<ipython-input-15-baab5f58508e>:1: SettingWithCopyWarning: \n",
            "A value is trying to be set on a copy of a slice from a DataFrame.\n",
            "Try using .loc[row_indexer,col_indexer] = value instead\n",
            "\n",
            "See the caveats in the documentation: https://pandas.pydata.org/pandas-docs/stable/user_guide/indexing.html#returning-a-view-versus-a-copy\n",
            "  n5['ticket_time'] = pd.to_datetime(n5['ticket_time'], infer_datetime_format=True)\n"
          ]
        }
      ]
    },
    {
      "cell_type": "code",
      "source": [
        "m6r.info()"
      ],
      "metadata": {
        "colab": {
          "base_uri": "https://localhost:8080/"
        },
        "id": "8DRoE4wi3rMx",
        "outputId": "35fe5b62-51c4-43c6-ddc7-4ed930a1de29"
      },
      "execution_count": null,
      "outputs": [
        {
          "output_type": "stream",
          "name": "stdout",
          "text": [
            "<class 'pandas.core.frame.DataFrame'>\n",
            "Int64Index: 12433 entries, 0 to 124977\n",
            "Data columns (total 23 columns):\n",
            " #   Column             Non-Null Count  Dtype         \n",
            "---  ------             --------------  -----         \n",
            " 0   transactionalid    12433 non-null  int64         \n",
            " 1   card_number        12433 non-null  object        \n",
            " 2   waybill_no         12433 non-null  int64         \n",
            " 3   from_bus_stop_id   12433 non-null  object        \n",
            " 4   fromstopname       12433 non-null  object        \n",
            " 5   till_bus_stop_id   12433 non-null  object        \n",
            " 6   tostopname         12433 non-null  object        \n",
            " 7   passengers         12433 non-null  int64         \n",
            " 8   px_total_amount    12433 non-null  int64         \n",
            " 9   group_ticket_mode  12433 non-null  int64         \n",
            " 10  paymentmode        12433 non-null  object        \n",
            " 11  ticket_time        12433 non-null  datetime64[ns]\n",
            " 12  ticket_no          12433 non-null  int64         \n",
            " 13  typeofticket       12433 non-null  object        \n",
            " 14  toll_amt           12433 non-null  int64         \n",
            " 15  driver_id          12433 non-null  object        \n",
            " 16  conductor_id       12433 non-null  object        \n",
            " 17  bus_number         12433 non-null  object        \n",
            " 18  trip_no            12433 non-null  int64         \n",
            " 19  agency_name        12433 non-null  object        \n",
            " 20  city_name          12433 non-null  object        \n",
            " 21  distance           12433 non-null  float64       \n",
            " 22  route_name         12433 non-null  object        \n",
            "dtypes: datetime64[ns](1), float64(1), int64(8), object(13)\n",
            "memory usage: 2.3+ MB\n"
          ]
        }
      ]
    },
    {
      "cell_type": "code",
      "source": [
        "r9.info()"
      ],
      "metadata": {
        "colab": {
          "base_uri": "https://localhost:8080/"
        },
        "id": "usZQT1OiEPdj",
        "outputId": "1a869acb-b9e8-4904-8668-b304a63a0a1b"
      },
      "execution_count": null,
      "outputs": [
        {
          "output_type": "stream",
          "name": "stdout",
          "text": [
            "<class 'pandas.core.frame.DataFrame'>\n",
            "Int64Index: 6487 entries, 145 to 128143\n",
            "Data columns (total 23 columns):\n",
            " #   Column             Non-Null Count  Dtype         \n",
            "---  ------             --------------  -----         \n",
            " 0   transactionalid    6487 non-null   int64         \n",
            " 1   card_number        6487 non-null   object        \n",
            " 2   waybill_no         6487 non-null   int64         \n",
            " 3   from_bus_stop_id   6487 non-null   object        \n",
            " 4   fromstopname       6487 non-null   object        \n",
            " 5   till_bus_stop_id   6487 non-null   object        \n",
            " 6   tostopname         6487 non-null   object        \n",
            " 7   passengers         6487 non-null   int64         \n",
            " 8   px_total_amount    6487 non-null   int64         \n",
            " 9   group_ticket_mode  6487 non-null   int64         \n",
            " 10  paymentmode        6487 non-null   object        \n",
            " 11  ticket_time        6487 non-null   datetime64[ns]\n",
            " 12  ticket_no          6487 non-null   int64         \n",
            " 13  typeofticket       6487 non-null   object        \n",
            " 14  toll_amt           6487 non-null   int64         \n",
            " 15  driver_id          6487 non-null   object        \n",
            " 16  conductor_id       6487 non-null   object        \n",
            " 17  bus_number         6487 non-null   object        \n",
            " 18  trip_no            6487 non-null   int64         \n",
            " 19  agency_name        6487 non-null   object        \n",
            " 20  city_name          6487 non-null   object        \n",
            " 21  distance           6487 non-null   float64       \n",
            " 22  route_name         6487 non-null   object        \n",
            "dtypes: datetime64[ns](1), float64(1), int64(8), object(13)\n",
            "memory usage: 1.2+ MB\n"
          ]
        }
      ]
    },
    {
      "cell_type": "code",
      "source": [
        "m6r['ticket_time']"
      ],
      "metadata": {
        "colab": {
          "base_uri": "https://localhost:8080/"
        },
        "id": "v-SV-2JiAzjx",
        "outputId": "34d778da-5d00-4506-c8c4-9c256d568f3a"
      },
      "execution_count": null,
      "outputs": [
        {
          "output_type": "execute_result",
          "data": {
            "text/plain": [
              "0        2022-11-14 08:09:00\n",
              "1        2022-11-14 08:33:00\n",
              "2        2022-11-14 08:29:00\n",
              "3        2022-11-14 08:28:00\n",
              "4        2022-11-14 08:28:00\n",
              "                 ...        \n",
              "124973   2022-11-14 20:44:00\n",
              "124974   2022-11-14 20:43:00\n",
              "124975   2022-11-14 20:43:00\n",
              "124976   2022-11-14 20:42:00\n",
              "124977   2022-11-14 20:41:00\n",
              "Name: ticket_time, Length: 12433, dtype: datetime64[ns]"
            ]
          },
          "metadata": {},
          "execution_count": 18
        }
      ]
    },
    {
      "cell_type": "code",
      "source": [
        "\n",
        "m6r.sort_values(by='ticket_time')\n",
        "m6r['ticket_time']"
      ],
      "metadata": {
        "colab": {
          "base_uri": "https://localhost:8080/"
        },
        "id": "tUy3xdFTHbx5",
        "outputId": "76d27275-1835-4bcc-a5f7-5fbb929adbc6"
      },
      "execution_count": null,
      "outputs": [
        {
          "output_type": "execute_result",
          "data": {
            "text/plain": [
              "0        2022-11-14 08:09:00\n",
              "1        2022-11-14 08:33:00\n",
              "2        2022-11-14 08:29:00\n",
              "3        2022-11-14 08:28:00\n",
              "4        2022-11-14 08:28:00\n",
              "                 ...        \n",
              "124973   2022-11-14 20:44:00\n",
              "124974   2022-11-14 20:43:00\n",
              "124975   2022-11-14 20:43:00\n",
              "124976   2022-11-14 20:42:00\n",
              "124977   2022-11-14 20:41:00\n",
              "Name: ticket_time, Length: 12433, dtype: datetime64[ns]"
            ]
          },
          "metadata": {},
          "execution_count": 19
        }
      ]
    },
    {
      "cell_type": "code",
      "source": [
        "r9['ticket_time']"
      ],
      "metadata": {
        "colab": {
          "base_uri": "https://localhost:8080/"
        },
        "id": "C4_HRO4aEc7r",
        "outputId": "d8a88cf5-4f3b-4c0e-d8cd-00581a775f1c"
      },
      "execution_count": null,
      "outputs": [
        {
          "output_type": "execute_result",
          "data": {
            "text/plain": [
              "145      2022-11-14 08:09:00\n",
              "146      2022-11-14 07:59:00\n",
              "147      2022-11-14 07:59:00\n",
              "148      2022-11-14 07:50:00\n",
              "149      2022-11-14 07:49:00\n",
              "                 ...        \n",
              "128139   2022-11-14 21:00:00\n",
              "128140   2022-11-14 21:00:00\n",
              "128141   2022-11-14 20:36:00\n",
              "128142   2022-11-14 20:36:00\n",
              "128143   2022-11-14 20:36:00\n",
              "Name: ticket_time, Length: 6487, dtype: datetime64[ns]"
            ]
          },
          "metadata": {},
          "execution_count": 20
        }
      ]
    },
    {
      "cell_type": "code",
      "source": [
        "m6r['ticket_time']=m6r['ticket_time'].dt.round('H')\n",
        "#m6r['ticket_time']=m6r['ticket_time'].dt.round('15min')\n"
      ],
      "metadata": {
        "colab": {
          "base_uri": "https://localhost:8080/"
        },
        "id": "WrxEJYGb6acn",
        "outputId": "9169ecf6-06dd-49eb-ce99-e1cb1501f6a4"
      },
      "execution_count": null,
      "outputs": [
        {
          "output_type": "stream",
          "name": "stderr",
          "text": [
            "<ipython-input-21-e0283602e1eb>:1: SettingWithCopyWarning: \n",
            "A value is trying to be set on a copy of a slice from a DataFrame.\n",
            "Try using .loc[row_indexer,col_indexer] = value instead\n",
            "\n",
            "See the caveats in the documentation: https://pandas.pydata.org/pandas-docs/stable/user_guide/indexing.html#returning-a-view-versus-a-copy\n",
            "  m6r['ticket_time']=m6r['ticket_time'].dt.round('H')\n"
          ]
        }
      ]
    },
    {
      "cell_type": "code",
      "source": [
        "r9['ticket_time']=r9['ticket_time'].dt.round('H')\n",
        "#r9['ticket_time']=r9['ticket_time'].dt.round('15min')"
      ],
      "metadata": {
        "colab": {
          "base_uri": "https://localhost:8080/"
        },
        "id": "n4zHE1R5Ei2z",
        "outputId": "7a3bd0fa-0ee4-47ab-8883-227e0e89f774"
      },
      "execution_count": null,
      "outputs": [
        {
          "output_type": "stream",
          "name": "stderr",
          "text": [
            "<ipython-input-22-4f5a00b9d907>:1: SettingWithCopyWarning: \n",
            "A value is trying to be set on a copy of a slice from a DataFrame.\n",
            "Try using .loc[row_indexer,col_indexer] = value instead\n",
            "\n",
            "See the caveats in the documentation: https://pandas.pydata.org/pandas-docs/stable/user_guide/indexing.html#returning-a-view-versus-a-copy\n",
            "  r9['ticket_time']=r9['ticket_time'].dt.round('H')\n"
          ]
        }
      ]
    },
    {
      "cell_type": "code",
      "source": [
        "m36['ticket_time']=m36['ticket_time'].dt.round('H')\n",
        "#m36['ticket_time']=m36['ticket_time'].dt.round('15min')"
      ],
      "metadata": {
        "colab": {
          "base_uri": "https://localhost:8080/"
        },
        "id": "al8I805hHar9",
        "outputId": "d12290a7-c420-4fb4-b3ce-14d4b486a986"
      },
      "execution_count": null,
      "outputs": [
        {
          "output_type": "stream",
          "name": "stderr",
          "text": [
            "<ipython-input-23-361d3a92c44c>:1: SettingWithCopyWarning: \n",
            "A value is trying to be set on a copy of a slice from a DataFrame.\n",
            "Try using .loc[row_indexer,col_indexer] = value instead\n",
            "\n",
            "See the caveats in the documentation: https://pandas.pydata.org/pandas-docs/stable/user_guide/indexing.html#returning-a-view-versus-a-copy\n",
            "  m36['ticket_time']=m36['ticket_time'].dt.round('H')\n"
          ]
        }
      ]
    },
    {
      "cell_type": "code",
      "source": [
        "n5['ticket_time']=n5['ticket_time'].dt.round('H')\n",
        "#n5['ticket_time']=n5['ticket_time'].dt.round('15min')"
      ],
      "metadata": {
        "colab": {
          "base_uri": "https://localhost:8080/"
        },
        "id": "nfGq1G-XHlYx",
        "outputId": "433a6b31-8e6e-46be-cd3c-630482bb447f"
      },
      "execution_count": null,
      "outputs": [
        {
          "output_type": "stream",
          "name": "stderr",
          "text": [
            "<ipython-input-24-a31c4be1893d>:1: SettingWithCopyWarning: \n",
            "A value is trying to be set on a copy of a slice from a DataFrame.\n",
            "Try using .loc[row_indexer,col_indexer] = value instead\n",
            "\n",
            "See the caveats in the documentation: https://pandas.pydata.org/pandas-docs/stable/user_guide/indexing.html#returning-a-view-versus-a-copy\n",
            "  n5['ticket_time']=n5['ticket_time'].dt.round('H')\n"
          ]
        }
      ]
    },
    {
      "cell_type": "code",
      "source": [
        "m6r['ticket_time']"
      ],
      "metadata": {
        "colab": {
          "base_uri": "https://localhost:8080/"
        },
        "id": "jAuDcaez6hC_",
        "outputId": "059c90b6-6058-4127-f5d8-b6c80d91b796"
      },
      "execution_count": null,
      "outputs": [
        {
          "output_type": "execute_result",
          "data": {
            "text/plain": [
              "0        2022-11-14 08:00:00\n",
              "1        2022-11-14 09:00:00\n",
              "2        2022-11-14 08:00:00\n",
              "3        2022-11-14 08:00:00\n",
              "4        2022-11-14 08:00:00\n",
              "                 ...        \n",
              "124973   2022-11-14 21:00:00\n",
              "124974   2022-11-14 21:00:00\n",
              "124975   2022-11-14 21:00:00\n",
              "124976   2022-11-14 21:00:00\n",
              "124977   2022-11-14 21:00:00\n",
              "Name: ticket_time, Length: 12433, dtype: datetime64[ns]"
            ]
          },
          "metadata": {},
          "execution_count": 25
        }
      ]
    },
    {
      "cell_type": "code",
      "source": [
        "r9['ticket_time']"
      ],
      "metadata": {
        "colab": {
          "base_uri": "https://localhost:8080/"
        },
        "id": "STBkxDM3EoeS",
        "outputId": "39919443-f1a4-4731-fa8f-e52f92c0d654"
      },
      "execution_count": null,
      "outputs": [
        {
          "output_type": "execute_result",
          "data": {
            "text/plain": [
              "145      2022-11-14 08:00:00\n",
              "146      2022-11-14 08:00:00\n",
              "147      2022-11-14 08:00:00\n",
              "148      2022-11-14 08:00:00\n",
              "149      2022-11-14 08:00:00\n",
              "                 ...        \n",
              "128139   2022-11-14 21:00:00\n",
              "128140   2022-11-14 21:00:00\n",
              "128141   2022-11-14 21:00:00\n",
              "128142   2022-11-14 21:00:00\n",
              "128143   2022-11-14 21:00:00\n",
              "Name: ticket_time, Length: 6487, dtype: datetime64[ns]"
            ]
          },
          "metadata": {},
          "execution_count": 26
        }
      ]
    },
    {
      "cell_type": "code",
      "source": [
        "time_density_m6r=m6r.groupby('ticket_time').ticket_time.count()"
      ],
      "metadata": {
        "id": "yabmpf2B-jnS"
      },
      "execution_count": null,
      "outputs": []
    },
    {
      "cell_type": "code",
      "source": [
        "time_density_r9=r9.groupby('ticket_time').ticket_time.count()"
      ],
      "metadata": {
        "id": "OAZTnhheEs9k"
      },
      "execution_count": null,
      "outputs": []
    },
    {
      "cell_type": "code",
      "source": [
        "time_density_m36=m36.groupby('ticket_time').ticket_time.count()"
      ],
      "metadata": {
        "id": "7q8yiOkxHr8F"
      },
      "execution_count": null,
      "outputs": []
    },
    {
      "cell_type": "code",
      "source": [
        "time_density_n5=n5.groupby('ticket_time').ticket_time.count()"
      ],
      "metadata": {
        "id": "UZDHNDI7Hsp-"
      },
      "execution_count": null,
      "outputs": []
    },
    {
      "cell_type": "code",
      "source": [
        "time_density_m6r\n",
        "#time_density.info()"
      ],
      "metadata": {
        "colab": {
          "base_uri": "https://localhost:8080/"
        },
        "id": "hk04VppS-yvc",
        "outputId": "e86cab9c-d77a-4535-9a71-fb741c9e8585"
      },
      "execution_count": null,
      "outputs": [
        {
          "output_type": "execute_result",
          "data": {
            "text/plain": [
              "ticket_time\n",
              "2022-11-14 07:00:00      74\n",
              "2022-11-14 08:00:00     502\n",
              "2022-11-14 09:00:00     718\n",
              "2022-11-14 10:00:00     878\n",
              "2022-11-14 11:00:00    1081\n",
              "2022-11-14 12:00:00    1160\n",
              "2022-11-14 13:00:00    1193\n",
              "2022-11-14 14:00:00    1173\n",
              "2022-11-14 15:00:00    1092\n",
              "2022-11-14 16:00:00    1093\n",
              "2022-11-14 17:00:00    1244\n",
              "2022-11-14 18:00:00    1041\n",
              "2022-11-14 19:00:00     580\n",
              "2022-11-14 20:00:00     438\n",
              "2022-11-14 21:00:00     166\n",
              "Name: ticket_time, dtype: int64"
            ]
          },
          "metadata": {},
          "execution_count": 31
        }
      ]
    },
    {
      "cell_type": "code",
      "source": [
        "import matplotlib.pyplot as plt"
      ],
      "metadata": {
        "id": "VDuqfxJOBm4_"
      },
      "execution_count": null,
      "outputs": []
    },
    {
      "cell_type": "code",
      "source": [
        "time_density_m6r.plot(ylabel=\"Number of Passengers\")\n",
        "time_density_r9.plot()\n",
        "time_density_m36.plot()\n",
        "#time_density_n5.plot()"
      ],
      "metadata": {
        "colab": {
          "base_uri": "https://localhost:8080/",
          "height": 464
        },
        "id": "EJF3gFUPDic0",
        "outputId": "3fa514ce-8f78-4adc-ba9f-09748b37509f"
      },
      "execution_count": null,
      "outputs": [
        {
          "output_type": "execute_result",
          "data": {
            "text/plain": [
              "<Axes: xlabel='ticket_time', ylabel='Number of Passengers'>"
            ]
          },
          "metadata": {},
          "execution_count": 33
        },
        {
          "output_type": "display_data",
          "data": {
            "text/plain": [
              "<Figure size 640x480 with 1 Axes>"
            ],
            "image/png": "[encoded data removed]"
          },
          "metadata": {}
        }
      ]
    },
    {
      "cell_type": "code",
      "source": [
        "time_density_m6r.plot(kind='bar', ylabel=\"Passenger count for M6 route\")"
      ],
      "metadata": {
        "colab": {
          "base_uri": "https://localhost:8080/",
          "height": 599
        },
        "id": "-8a6C-79Gzo6",
        "outputId": "6b1d806c-e924-40bc-9643-0f123f62f0ca"
      },
      "execution_count": null,
      "outputs": [
        {
          "output_type": "execute_result",
          "data": {
            "text/plain": [
              "<Axes: xlabel='ticket_time', ylabel='Passenger count for M6 route'>"
            ]
          },
          "metadata": {},
          "execution_count": 34
        },
        {
          "output_type": "display_data",
          "data": {
            "text/plain": [
              "<Figure size 640x480 with 1 Axes>"
            ],
            "image/png": "[encoded data removed]"
          },
          "metadata": {}
        }
      ]
    },
    {
      "cell_type": "code",
      "source": [
        "time_density_r9.plot(kind='bar',ylabel=\"Passenger count for R9 route\")"
      ],
      "metadata": {
        "colab": {
          "base_uri": "https://localhost:8080/",
          "height": 599
        },
        "id": "6ndNIcqMTqAS",
        "outputId": "ed2b5139-46bb-4c44-d6d9-e2308a12a9dc"
      },
      "execution_count": null,
      "outputs": [
        {
          "output_type": "execute_result",
          "data": {
            "text/plain": [
              "<Axes: xlabel='ticket_time', ylabel='Passenger count for R9 route'>"
            ]
          },
          "metadata": {},
          "execution_count": 35
        },
        {
          "output_type": "display_data",
          "data": {
            "text/plain": [
              "<Figure size 640x480 with 1 Axes>"
            ],
            "image/png": "[encoded data removed]"
          },
          "metadata": {}
        }
      ]
    },
    {
      "cell_type": "code",
      "source": [
        "time_density_m36.plot(kind='bar',ylabel=\"Passenger count for M36 route\")"
      ],
      "metadata": {
        "colab": {
          "base_uri": "https://localhost:8080/",
          "height": 599
        },
        "id": "KuRep_nITtBR",
        "outputId": "fdff7767-3a15-4605-b7e6-8a2947b37c87"
      },
      "execution_count": null,
      "outputs": [
        {
          "output_type": "execute_result",
          "data": {
            "text/plain": [
              "<Axes: xlabel='ticket_time', ylabel='Passenger count for M36 route'>"
            ]
          },
          "metadata": {},
          "execution_count": 36
        },
        {
          "output_type": "display_data",
          "data": {
            "text/plain": [
              "<Figure size 640x480 with 1 Axes>"
            ],
            "image/png": "[encoded data removed]"
          },
          "metadata": {}
        }
      ]
    },
    {
      "cell_type": "code",
      "source": [
        "time_density_n5.plot(kind='bar')"
      ],
      "metadata": {
        "colab": {
          "base_uri": "https://localhost:8080/",
          "height": 600
        },
        "id": "VgqIYrnxTvzi",
        "outputId": "c59bbb1e-fb5d-41a6-f43e-932249763d4e"
      },
      "execution_count": null,
      "outputs": [
        {
          "output_type": "execute_result",
          "data": {
            "text/plain": [
              "<Axes: xlabel='ticket_time'>"
            ]
          },
          "metadata": {},
          "execution_count": 37
        },
        {
          "output_type": "display_data",
          "data": {
            "text/plain": [
              "<Figure size 640x480 with 1 Axes>"
            ],
            "image/png": "[encoded data removed]"
          },
          "metadata": {}
        }
      ]
    },
    {
      "cell_type": "code",
      "source": [
        "time_density_r9.plot(kind='pie')"
      ],
      "metadata": {
        "colab": {
          "base_uri": "https://localhost:8080/",
          "height": 423
        },
        "id": "YZd-l4o3Dk9R",
        "outputId": "61b111e8-30b8-4150-d264-3ba8100e66cd"
      },
      "execution_count": null,
      "outputs": [
        {
          "output_type": "execute_result",
          "data": {
            "text/plain": [
              "<Axes: ylabel='ticket_time'>"
            ]
          },
          "metadata": {},
          "execution_count": 38
        },
        {
          "output_type": "display_data",
          "data": {
            "text/plain": [
              "<Figure size 640x480 with 1 Axes>"
            ],
            "image/png": "[encoded data removed]"
          },
          "metadata": {}
        }
      ]
    }
  ]
}