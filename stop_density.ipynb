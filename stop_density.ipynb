{
  "nbformat": 4,
  "nbformat_minor": 0,
  "metadata": {
    "colab": {
      "provenance": [],
      "include_colab_link": true
    },
    "kernelspec": {
      "name": "python3",
      "display_name": "Python 3"
    },
    "language_info": {
      "name": "python"
    }
  },
  "cells": [
    {
      "cell_type": "markdown",
      "metadata": {
        "id": "view-in-github",
        "colab_type": "text"
      },
      "source": [
        "<a href=\"https://colab.research.google.com/github/arpit0304/Bus_Data_Visualisation_Major_Project/blob/main/stop_density.ipynb\" target=\"_parent\"><img src=\"https://colab.research.google.com/assets/colab-badge.svg\" alt=\"Open In Colab\"/></a>"
      ]
    },
    {
      "cell_type": "code",
      "source": [
        "import pandas as pd"
      ],
      "metadata": {
        "id": "WA6i5zUU2OgP"
      },
      "execution_count": 1,
      "outputs": []
    },
    {
      "cell_type": "code",
      "source": [
        "df=pd.read_csv('/content/bus_data.csv')"
      ],
      "metadata": {
        "id": "s_P1-pGF2asJ"
      },
      "execution_count": 2,
      "outputs": []
    },
    {
      "cell_type": "code",
      "source": [
        "stop_density=df.groupby('fromstopname').fromstopname.count()"
      ],
      "metadata": {
        "id": "tfCCIapt2fI_"
      },
      "execution_count": 3,
      "outputs": []
    },
    {
      "cell_type": "code",
      "source": [
        "import plotly.express as px"
      ],
      "metadata": {
        "id": "foZs8Hpj2lb8"
      },
      "execution_count": 4,
      "outputs": []
    },
    {
      "cell_type": "code",
      "source": [
        "stop_density=stop_density.sort_values(ascending=False)\n",
        "stop_density"
      ],
      "metadata": {
        "colab": {
          "base_uri": "https://localhost:8080/"
        },
        "id": "3okevCEl4u0U",
        "outputId": "cb237c89-0b8d-4a03-8cca-6fb99f0ada28"
      },
      "execution_count": 8,
      "outputs": [
        {
          "output_type": "execute_result",
          "data": {
            "text/plain": [
              "fromstopname\n",
              "Tantya Bheel Chouraha Police Station    6216\n",
              "Teen Imli                               5966\n",
              "Rajwada Circle                          5766\n",
              "Musakhedi Ring Road                     4720\n",
              "Aurobindo                               4222\n",
              "                                        ... \n",
              "Maksi Bypass                               1\n",
              "Pagari                                     1\n",
              "Lokhande Bridge                            1\n",
              "Hoshangabad                                1\n",
              "Gotiya Aam Road                            1\n",
              "Name: fromstopname, Length: 530, dtype: int64"
            ]
          },
          "metadata": {},
          "execution_count": 8
        }
      ]
    },
    {
      "cell_type": "code",
      "source": [
        "fig = px.line(x=stop_density.keys() ,y =stop_density,labels={'x':'Stop Name', 'y':'Number of Passengers'}, title= \"All Stops\")\n",
        "fig.show()"
      ],
      "metadata": {
        "colab": {
          "base_uri": "https://localhost:8080/",
          "height": 542
        },
        "id": "q8mvGIJP3jjr",
        "outputId": "62cbc9a2-0b06-4b2c-dfb3-e5ebbb4c0ad5"
      },
      "execution_count": 9,
      "outputs": [
        {
          "output_type": "display_data",
          "data": {
            "text/html": [
              "<html>\n",
              "<head><meta charset=\"utf-8\" /></head>\n",
              "<body>\n",
              "    <div>            <script src=\"https://cdnjs.cloudflare.com/ajax/libs/mathjax/2.7.5/MathJax.js?config=TeX-AMS-MML_SVG\"></script><script type=\"text/javascript\">if (window.MathJax && window.MathJax.Hub && window.MathJax.Hub.Config) {window.MathJax.Hub.Config({SVG: {font: \"STIX-Web\"}});}</script>                <script type=\"text/javascript\">window.PlotlyConfig = {MathJaxConfig: 'local'};</script>\n",
              "        <script charset=\"utf-8\" src=\"https://cdn.plot.ly/plotly-2.24.1.min.js\"></script>                <div id=\"56b201de-a2af-4006-b94d-6ebd5259486f\" class=\"plotly-graph-div\" style=\"height:525px; width:100%;\"></div>            <script type=\"text/javascript\">                                    window.PLOTLYENV=window.PLOTLYENV || {};                                    if (document.getElementById(\"56b201de-a2af-4006-b94d-6ebd5259486f\")) {                    Plotly.newPlot(                        \"56b201de-a2af-4006-b94d-6ebd5259486f\",                        [{\"hovertemplate\":\"Stop Name=%{x}\\u003cbr\\u003eNumber of Passengers=%{y}\\u003cextra\\u003e\\u003c\\u002fextra\\u003e\",\"legendgroup\":\"\",\"line\":{\"color\":\"#636efa\",\"dash\":\"solid\"},\"marker\":{\"symbol\":\"circle\"},\"mode\":\"lines\",\"name\":\"\",\"orientation\":\"v\",\"showlegend\":false,\"x\":[\"Tantya Bheel Chouraha Police Station\",\"Teen Imli\",\"Rajwada Circle\",\"Musakhedi Ring Road\",\"Aurobindo\",\"I T Park Or Ashram Chauraha\",\"Collector Office\",\"Bengali Chouraha\",\"Radha Swami\",\"Piplyahana Square\",\"Malviya Nagar\",\"Tejaji Nagar\",\"Choithram Mandi\",\"Bada Ganpati\",\"Indore Railway Station\",\"Mhow Naka Complex\",\"Gangwal Bus Stand\",\"M R 10\",\"Chandan Nagar\",\"Bombay Hospital\",\"Vijay Nagar Zonal\",\"G D C College\",\"Phooti Kothi Square\",\"Chanakyapuri Or Kesar Bagh Bridge\",\"Chitawad\",\"Khajrana Square Or Khajrana Ab Road\",\"Malviya Petrol Pump\",\"Tower Chouraha\",\"Sindhi Colony\",\"Mhow Naka Annapurna Road\",\"Regal Square\",\"Patnipura\",\"Ashram Limbda Or Queens College\",\"Nipaniya Chouraha\",\"Gurudwara\",\"Navlakha Bus Stand\",\"Phooti Kothi Chouraha\",\"Satya Sai Square\",\"Raj Mohalla Chowk\",\"M Y Hospital\",\"Dewas Naka\",\"Madhumilan Chauraha\",\"56 Dukan Or Palasia\",\"Mari Mata Square\",\"Pardeshipura\",\"Rajiv Gandhi Chouraha\",\"Gandhi Hall Or Palika Plaza\",\"Bapat Square\",\"Vijay Nagar Police Chowki\",\"Pawanpuri Colony Or S R Pump\",\"Deendayal Garden\",\"Ranjeet Hanuman Mandir\",\"White Church Or Shivaji Park\",\"Juni Indore\",\"Silicon City\",\"Khajrana Ringroad\",\"Khajrana Dargah\",\"Baneswari Kund\",\"Musakhedi Sawariya Mandir\",\"Mangliya\",\"M Y Hospital Gate\",\"Sayaji Petrol Pump\",\"Lavkush Chouraha\",\"I P S Academy\",\"Hanuman Mandir\",\"Gopur Square\",\"Bholaram Chouraha\",\"Malwa Mill\",\"Tantya Bheel Chouraha Tempo Stand\",\"Lal Bagh\",\"Nagar Nigam\",\"Hawa Bangla\",\"Usha Nagar Or Dashera Maidan\",\"Medicaps College\",\"Lakhani Bypass\",\"Palasia Badwani Plaza\",\"Shanti Nagar\",\"Palda Naka\",\"Palsikar Colony\",\"Saifee Nagar\",\"Shikshak Nagar\",\"Bank\",\"Navlakha Chouraha\",\"9 Mile\",\"Gandhi Nagar\",\"Choithram Hospital\",\"Power House\",\"M O G Lines Road\",\"Geeta Bhawan Square\",\"Shree Krishna Talkies\",\"Rajendra Nagar\",\"Gumasta Nagar Or Sudama Nagar Or Arihant\",\"Banganga\",\"Maharaja Ranjit Singh College\",\"Gouri Nagar\",\"Abhvaj Udyan Or Choithram Chouraha\",\"Azad Nagar\",\"Sukliya\",\"Meghadut Garden\",\"Royal Bangla\",\"Rau Bus Stop\",\"Mhow Nak\",\"Nayta Mundla\",\"Mayur Hospital\",\"White Church Chauraha\",\"D A V V Campus\",\"Panchwati\",\"Bengali Colony\",\"Ramchandra Pump Or A P T C\",\"Vaishnav Collage\",\"Sanjay Setu\",\"Velocity Talkies\",\"Electronic Complex\",\"Hanuman Mandir Or Tilak Nagar\",\"Annapurna Temple\",\"Bypass\",\"Patel Bridge\",\"Janjeerwala Square\",\"Shivaji Vatika\",\"Maharana Pratap Chowk\",\"Khajrana Square Or Ring Road\",\"Nandbagh Colony\",\"Kanadiya Gaon\",\"Malgunj\",\"Pushpkunj Hospital\",\"Kandilpura\",\"Prabhu Toll Kata\",\"Pratiksha Dhaba\",\"Lasudia\",\"Mahesh Gaurd Line Or Police Line Pump\",\"Noorani Nagar\",\"Mahak Vatika\",\"Dwarka Puri Or Bhagwati Dwar\",\"Index Medical College\",\"Fortune Hotel\",\"Manavta Nagar\",\"Agrashen Chauraha\",\"Jawahar Tekri\",\"Musakhedi Sabji Mandi\",\"I E T College\",\"Saify Square\",\"Patrakar Colony\",\"Dhanwantri Nagar\",\"Jinsi Chauraha\",\"Tcs Square\",\"Rau Rangwasa Chourah\",\"Krishnapuri Colony Or Allahabad Bank\",\"Prakash Nagar\",\"Sai Niwas\",\"Antim Chauraha\",\"Bharat Petrol Pump\",\"Sewa Kunj\",\"City Bus Depo\",\"Machli Farm House\",\"Relax Garden Or Krishna Kunj Gate\",\"Narsingh Bazar\",\"Mhow Naka\",\"Kesherbagh Bridge\",\"Indraprastha Tower\",\"L I G Square\",\"Sanchar Nagar\",\"G P O\",\"Cat Square\",\"Annapurna Nagar\",\"Ruchi Soya\",\"Umri Kheda\",\"Kothari Market\",\"M Y Chauraha\",\"Tantya Bheel Chouraha\",\"B C M\",\"Chhoti Gwaltoli\",\"Yadav Dharmashala\",\"Deepmala Dhaba\",\"Zam Zam Chauhara\",\"M R-10 Toll Plaza\",\"Netralaya\",\"Kalani Nagar\",\"Hatod Village\",\"Airport\",\"Dashera Maidan Or Bank Colony\",\"Indore Wire House\",\"Gaytri Mandir\",\"Tata Tower And Godown\",\"Palasia\",\"Simrol\",\"Chiman Bagh\",\"Udyog Nagar\",\"Laxmi Petrol Pump\",\"Babul Nagar\",\"Kali Puliya\",\"Lantern Chowk\",\"Garib Nawaj Colony\",\"Biyabani\",\"Kankeshwari Devi Mandir Dham\",\"Veena Nagar\",\"Dawa Bazaar\",\"Deoguradiya Temple\",\"Vaishali Nagar\",\"Nipania Bus Stop\",\"Summer Park\",\"Pitra Parvat\",\"Kanad\",\"Db City\",\"Mahalaxmi Nagar\",\"Narmada Project\",\"Kothari Market Or Mth\",\"D Mart\",\"Ganesh Dham\",\"Shell City\",\"Sangam Nagar Road\",\"Pandrinath\",\"Chameli Devi\",\"Sapna Sangeeta\",\"City Center\",\"Shramik Colony\",\"Suraj Bali Nagar\",\"Scheme Number 78\",\"Jairam Toll Kata\",\"Kumar Khadi\",\"Sanghi\",\"Indo German\",\"I P S Acadamy\",\"Kasturba Gram\",\"Shalby Hospital\",\"Kila Maidan Or Laxmibai Pratima\",\"Khudel\",\"Vaibhav Nagar\",\"Prem Nagar\",\"Shyam Heights\",\"Reti Mandi\",\"Kushwah Nagar\",\"Fortune Landmark Hotel\",\"Modern Square\",\"Subhash Nagar\",\"M I G Police Station Or Atal Dwar\",\"Sirpur\",\"Super Corridor\",\"Telephone Nagar\",\"Anup Talkies\",\"Navneet Garden Crossing\",\"Treasure Island\",\"Bicholi Mardana\",\"Krishi College\",\"School Of Pharmacy\",\"Pipli Bazar\",\"Dravid Nagar\",\"Shree Krishna Talkies Or Krishn Pura Or Sanjay Setu\",\"Rau Bypass\",\"High Court\",\"Energy Hospital\",\"Agrawal Toll Kanta\",\"Bijasan Central School\",\"Bhagirathpura\",\"Bhandari Mill Agniban\",\"Palsikar School Or Jabran Colony\",\"Harsiddhi\",\"Nai Duniya\",\"White Church\",\"Karuna Sagar\",\"Vijay Nagar\",\"Sun City\",\"Surya Mandir\",\"Sukhliya\",\"Nai Sadak\",\"Moni Baba Ashram\",\"Marod Fata\",\"Kalaria\",\"8 Meel\",\"Shiv Shakti Nagar\",\"Surya Dev Nagar\",\"Indore\",\"Navda Panth\",\"Visranti Chauraha\",\"Bhamori\",\"Kharcha\",\"Hira Nagar\",\"Tigariya Badshah\",\"Tirupati Nagar Or Patel Nagar\",\"Emerald Heights School\",\"Jila Hospital\",\"Ashta\",\"Kila Maidan\",\"Budhaniya\",\"Pushpratan Park\",\"Scheme No 51 Square\",\"Indra Prasth Chouraha\",\"Shivalik Parishar\",\"Mppt\",\"Panch Sheel\",\"Kaisarbagh Bridge\",\"Shalimar Township\",\"Diamond Colony Or Karnataka Vidya Niketan\",\"Silicon City Gate\",\"Shiv Chowk Rangwasa\",\"Gomatgiri\",\"Umiya Girls College\",\"Mamta Colony Or Ganesh Mandir\",\"Shreenath Colony\",\"Rto Office\",\"Zoo\",\"Arodam Thana\",\"Manik Baag Bridge\",\"Dudhia\",\"Datta Nagar\",\"Himmatgarh\",\"Aastha Talkies\",\"Silver Springs\",\"Bakery Gali\",\"Indraprastha Garden\",\"Isha Avanue Gate\",\"Timber Market\",\"Royal Bungalow\",\"Chameli Devi School\",\"Ganesh Bagh Square\",\"Sarwate Bus Depot\",\"Talawali Chanda Panchayat\",\"Narval\",\"Tejaji Chowk\",\"Dhakkanwala Kuan\",\"Power House Dudhiya\",\"Renaissance College\",\"Kakad\",\"Tulsi Nagar\",\"Toll Naka\",\"Gamla Wali Puliya\",\"Iit Simrol\",\"Spring Valley\",\"Kundan Nagar\",\"Khade Ganpati Square\",\"Industry House\",\"D R P Line\",\"Naya Basera\",\"Rambali Square\",\"Gari Pipliya\",\"Gram Pipliyahana\",\"Polo Ground\",\"Navneet Tower Or Saket Nagar\",\"Babu Murai Or Ramkrishna Hospital\",\"Dewas Bus Stand\",\"Sunidhi Tol Kanta\",\"Nath Mandir Or Samrat Hotel\",\"Barsana Garden\",\"Ram Bagh\",\"Kelod Kartal Or Lotus Garden\",\"Goverment College Rau\",\"Triveni Square\",\"California City\",\"Jain Nursary\",\"Chota Bangarda\",\"Vijay Nagar Police Station Or Mangal City\",\"Naw Factory\",\"Chowthi-paltan\",\"Gomatgiri Power House\",\"Badwali Chowki\",\"Anand Bazar\",\"Kanadiya Thana\",\"St Norbert School\",\"Sapera Colony\",\"Bhagirathpura Puliya\",\"Sarthak Industry Sindhi Baroda\",\"Dakachya\",\"Sanwer\",\"Rajkumar Bridge\",\"Vikas Pradhikaran\",\"Agarwal Public School\",\"Shri Vidya Dham\",\"Vrindavan Colony\",\"Naka Bhatta\",\"Hammal Colony\",\"Dastur Garden\",\"Rewati Range\",\"Sonkatch Bus Stand\",\"M Y Hospital Bus Stand\",\"Ram Pipliya\",\"Roberts Nursing Home\",\"Shubha City\",\"7 Meel\",\"Laxmi Bai Railway Station\",\"Rani Sati Garden\",\"G S I T S Square\",\"Abhinandan Pump\",\"Imli Bazar\",\"Reti Mandi Ab Road\",\"Reti Mandi Square\",\"Bhawani Nagar Or Super Coridor Bridge\",\"Haji Colony\",\"Kshipra\",\"Siddhipuram\",\"Shiv Mandir 8 Meel\",\"Damru-ustaad\",\"Hnutiya\",\"Mamaji Ka Dhaba\",\"Masjeed Khudel\",\"Shree Vinayak\",\"Kaila Mata Mandir\",\"Shri Vaishnav Dham\",\"Malganj Chouraha\",\"56 Dukan\",\"Sarangpur\",\"Narmada Chouraha\",\"Dashrath Bagh Colony\",\"Kalindi Bypass\",\"Bijalpur\",\"Laxmibai Mandi\",\"Shastri Bridge\",\"Rasoma Chauraha\",\"Talawali Chanda\",\"Smriti Talkies\",\"Airport Gate\",\"Shajapur\",\"Ahilya Ashram\",\"Trenching Ground Indore\",\"Lasudiya Parmar\",\"M Y Tempo Stand\",\"Vidhyanjali School\",\"Jamniya Khurd\",\"Ambikapuri Or Venkatesh Nagar\",\"Star Square\",\"Girdhar Mahal\",\"Semliya Chau\",\"Umaria Phata\",\"Teen Puliya\",\"Jivan Jyoti\",\"Krishna Nagar\",\"Swami Vivekanand College\",\"Pirkaradiya\",\"M T H\",\"Apj Abdul Kalam Univercity\",\"Nirmal Dham\",\"Rajgarh\",\"River Side Or Krishnapura Pull\",\"Dhar\",\"Mukti Dham\",\"56 Dukaan\",\"Advanced Academy\",\"Kampel\",\"Maruti Nagar\",\"Hatod Hospital\",\"Kalindi Mid Town\",\"Jhabua\",\"Pardesipura Police Station\",\"Grampanchayat Rangwasa\",\"Hardias Eye Hospital\",\"Scheme No 140 Jmb\",\"Bhairav Baba Mandir\",\"Akashwani\",\"Parmanu Nagar\",\"Amrapali Restrorant\",\"Kannod\",\"Paraspar Nagar\",\"Bsf Colony\",\"Pink City\",\"Trimala Pride\",\"Bangrada Road Or Chota And Bada Bangadda\",\"Anshal Town\",\"Pachore\",\"Hp Gas Plant\",\"Nanda Nagar\",\"Maksi\",\"Nehru Park Railway Station\",\"Pivday\",\"Guran\",\"Harda\",\"Scheme No 140\",\"Narsinghgarh\",\"Chanakya Complex\",\"Khakrod\",\"Sanawadiya\",\"Brahman Pipliya\",\"Biaora\",\"Chandralok\",\"Gurukul Colony\",\"Khategoan\",\"Kudana Bypass\",\"Shivnagar Chouraha\",\"Bhangad Squre Shalimar\",\"Chapda\",\"Khajrana Ganesh Mandir\",\"Sadar Bazar Water Tank\",\"Todi\",\"Indraprasth Choutaha\",\"Infosys Compony\",\"Iit Gate No 2\",\"Balaji Enclave\",\"Kudana\",\"Nandlalpura\",\"Mehatwara\",\"Buranakhedi\",\"Gadiya\",\"By Pass Chouhan Nasta\",\"Double Chowki\",\"Kalidevi\",\"Jawar Jod Bus Stop\",\"Nasrullaganj\",\"Omax City By Pass\",\"Indian Oil Petrol Pump\",\"Badi\",\"Jamgod Road\",\"Bijwad\",\"Haj House\",\"Banderi\",\"Bohra Colony Or Trimula Own\",\"Kadwa\",\"Patwa\",\"Salkanpur\",\"Rajdhara\",\"Udankhedi\",\"Karadiyagada\",\"Ujjaini\",\"Karnawad Road\",\"Khadi Jod\",\"Sadar Bazar\",\"Dodi\",\"Borkheda Kalan\",\"Nemawar\",\"Daulatpur\",\"M R-10 Road Bridge\",\"Nakhrali Dhani\",\"Golwa\",\"Nayta Mundla By Pass\",\"Shangri La\",\"Machhaliya\",\"Bayan\",\"Nevri Fata\",\"Casa Green Township\",\"Maksi Bypass\",\"Pagari\",\"Lokhande Bridge\",\"Hoshangabad\",\"Gotiya Aam Road\"],\"xaxis\":\"x\",\"y\":[6216,5966,5766,4720,4222,3970,3230,3011,2904,2514,2314,2172,1926,1897,1879,1823,1705,1656,1564,1354,1238,1116,1055,987,948,929,867,859,850,828,823,788,775,774,773,769,759,696,682,637,626,625,622,620,600,597,584,566,552,533,518,499,495,478,476,461,458,457,455,455,446,445,436,434,426,423,418,416,405,401,395,387,385,380,377,372,368,366,365,333,330,330,321,310,308,307,304,292,291,288,286,284,283,283,281,257,255,255,249,246,243,237,235,230,230,226,226,218,212,211,209,207,207,205,204,202,202,201,199,197,195,192,189,184,182,182,180,179,179,179,178,176,175,171,169,169,167,167,163,163,162,161,161,158,157,153,153,150,149,149,149,147,144,142,140,140,138,137,135,133,133,131,130,129,129,127,127,127,124,123,121,121,120,120,120,118,117,117,116,115,114,114,114,113,111,111,111,111,111,110,108,108,107,107,106,105,105,103,102,101,101,100,100,98,98,97,96,96,94,92,92,91,91,91,90,89,88,87,86,86,86,85,85,82,82,81,80,80,76,76,75,75,74,74,74,73,71,71,71,71,70,70,69,69,69,69,68,68,68,67,66,65,65,65,62,60,58,58,58,57,57,56,55,55,55,55,55,55,54,54,54,53,53,53,53,53,53,53,52,52,52,52,51,50,50,50,50,49,49,49,49,49,49,48,48,48,48,47,47,47,45,45,45,45,45,44,44,44,42,41,41,41,40,40,40,40,39,39,38,38,38,37,37,36,36,36,35,35,35,35,35,33,32,32,32,32,32,32,31,30,29,29,29,28,28,28,28,28,27,27,26,26,26,25,25,25,25,24,24,24,24,24,23,23,23,22,22,22,22,22,22,21,21,21,20,20,20,20,20,20,20,20,20,19,19,19,19,19,19,17,17,17,16,16,16,16,16,16,15,15,15,15,15,15,14,14,14,14,13,13,12,12,12,12,12,12,12,12,11,11,11,11,11,10,10,10,9,9,9,9,9,9,9,9,9,8,8,8,8,8,7,7,7,7,7,7,7,7,7,7,7,6,6,6,6,6,6,6,6,5,5,5,5,5,5,5,5,5,5,5,5,5,4,4,4,4,4,4,4,3,3,3,3,3,3,3,2,2,2,2,2,2,2,2,2,2,1,1,1,1,1,1,1,1,1,1,1,1,1,1,1,1,1,1,1,1,1,1,1,1,1,1,1,1,1,1,1,1,1,1],\"yaxis\":\"y\",\"type\":\"scatter\"}],                        {\"template\":{\"data\":{\"histogram2dcontour\":[{\"type\":\"histogram2dcontour\",\"colorbar\":{\"outlinewidth\":0,\"ticks\":\"\"},\"colorscale\":[[0.0,\"#0d0887\"],[0.1111111111111111,\"#46039f\"],[0.2222222222222222,\"#7201a8\"],[0.3333333333333333,\"#9c179e\"],[0.4444444444444444,\"#bd3786\"],[0.5555555555555556,\"#d8576b\"],[0.6666666666666666,\"#ed7953\"],[0.7777777777777778,\"#fb9f3a\"],[0.8888888888888888,\"#fdca26\"],[1.0,\"#f0f921\"]]}],\"choropleth\":[{\"type\":\"choropleth\",\"colorbar\":{\"outlinewidth\":0,\"ticks\":\"\"}}],\"histogram2d\":[{\"type\":\"histogram2d\",\"colorbar\":{\"outlinewidth\":0,\"ticks\":\"\"},\"colorscale\":[[0.0,\"#0d0887\"],[0.1111111111111111,\"#46039f\"],[0.2222222222222222,\"#7201a8\"],[0.3333333333333333,\"#9c179e\"],[0.4444444444444444,\"#bd3786\"],[0.5555555555555556,\"#d8576b\"],[0.6666666666666666,\"#ed7953\"],[0.7777777777777778,\"#fb9f3a\"],[0.8888888888888888,\"#fdca26\"],[1.0,\"#f0f921\"]]}],\"heatmap\":[{\"type\":\"heatmap\",\"colorbar\":{\"outlinewidth\":0,\"ticks\":\"\"},\"colorscale\":[[0.0,\"#0d0887\"],[0.1111111111111111,\"#46039f\"],[0.2222222222222222,\"#7201a8\"],[0.3333333333333333,\"#9c179e\"],[0.4444444444444444,\"#bd3786\"],[0.5555555555555556,\"#d8576b\"],[0.6666666666666666,\"#ed7953\"],[0.7777777777777778,\"#fb9f3a\"],[0.8888888888888888,\"#fdca26\"],[1.0,\"#f0f921\"]]}],\"heatmapgl\":[{\"type\":\"heatmapgl\",\"colorbar\":{\"outlinewidth\":0,\"ticks\":\"\"},\"colorscale\":[[0.0,\"#0d0887\"],[0.1111111111111111,\"#46039f\"],[0.2222222222222222,\"#7201a8\"],[0.3333333333333333,\"#9c179e\"],[0.4444444444444444,\"#bd3786\"],[0.5555555555555556,\"#d8576b\"],[0.6666666666666666,\"#ed7953\"],[0.7777777777777778,\"#fb9f3a\"],[0.8888888888888888,\"#fdca26\"],[1.0,\"#f0f921\"]]}],\"contourcarpet\":[{\"type\":\"contourcarpet\",\"colorbar\":{\"outlinewidth\":0,\"ticks\":\"\"}}],\"contour\":[{\"type\":\"contour\",\"colorbar\":{\"outlinewidth\":0,\"ticks\":\"\"},\"colorscale\":[[0.0,\"#0d0887\"],[0.1111111111111111,\"#46039f\"],[0.2222222222222222,\"#7201a8\"],[0.3333333333333333,\"#9c179e\"],[0.4444444444444444,\"#bd3786\"],[0.5555555555555556,\"#d8576b\"],[0.6666666666666666,\"#ed7953\"],[0.7777777777777778,\"#fb9f3a\"],[0.8888888888888888,\"#fdca26\"],[1.0,\"#f0f921\"]]}],\"surface\":[{\"type\":\"surface\",\"colorbar\":{\"outlinewidth\":0,\"ticks\":\"\"},\"colorscale\":[[0.0,\"#0d0887\"],[0.1111111111111111,\"#46039f\"],[0.2222222222222222,\"#7201a8\"],[0.3333333333333333,\"#9c179e\"],[0.4444444444444444,\"#bd3786\"],[0.5555555555555556,\"#d8576b\"],[0.6666666666666666,\"#ed7953\"],[0.7777777777777778,\"#fb9f3a\"],[0.8888888888888888,\"#fdca26\"],[1.0,\"#f0f921\"]]}],\"mesh3d\":[{\"type\":\"mesh3d\",\"colorbar\":{\"outlinewidth\":0,\"ticks\":\"\"}}],\"scatter\":[{\"fillpattern\":{\"fillmode\":\"overlay\",\"size\":10,\"solidity\":0.2},\"type\":\"scatter\"}],\"parcoords\":[{\"type\":\"parcoords\",\"line\":{\"colorbar\":{\"outlinewidth\":0,\"ticks\":\"\"}}}],\"scatterpolargl\":[{\"type\":\"scatterpolargl\",\"marker\":{\"colorbar\":{\"outlinewidth\":0,\"ticks\":\"\"}}}],\"bar\":[{\"error_x\":{\"color\":\"#2a3f5f\"},\"error_y\":{\"color\":\"#2a3f5f\"},\"marker\":{\"line\":{\"color\":\"#E5ECF6\",\"width\":0.5},\"pattern\":{\"fillmode\":\"overlay\",\"size\":10,\"solidity\":0.2}},\"type\":\"bar\"}],\"scattergeo\":[{\"type\":\"scattergeo\",\"marker\":{\"colorbar\":{\"outlinewidth\":0,\"ticks\":\"\"}}}],\"scatterpolar\":[{\"type\":\"scatterpolar\",\"marker\":{\"colorbar\":{\"outlinewidth\":0,\"ticks\":\"\"}}}],\"histogram\":[{\"marker\":{\"pattern\":{\"fillmode\":\"overlay\",\"size\":10,\"solidity\":0.2}},\"type\":\"histogram\"}],\"scattergl\":[{\"type\":\"scattergl\",\"marker\":{\"colorbar\":{\"outlinewidth\":0,\"ticks\":\"\"}}}],\"scatter3d\":[{\"type\":\"scatter3d\",\"line\":{\"colorbar\":{\"outlinewidth\":0,\"ticks\":\"\"}},\"marker\":{\"colorbar\":{\"outlinewidth\":0,\"ticks\":\"\"}}}],\"scattermapbox\":[{\"type\":\"scattermapbox\",\"marker\":{\"colorbar\":{\"outlinewidth\":0,\"ticks\":\"\"}}}],\"scatterternary\":[{\"type\":\"scatterternary\",\"marker\":{\"colorbar\":{\"outlinewidth\":0,\"ticks\":\"\"}}}],\"scattercarpet\":[{\"type\":\"scattercarpet\",\"marker\":{\"colorbar\":{\"outlinewidth\":0,\"ticks\":\"\"}}}],\"carpet\":[{\"aaxis\":{\"endlinecolor\":\"#2a3f5f\",\"gridcolor\":\"white\",\"linecolor\":\"white\",\"minorgridcolor\":\"white\",\"startlinecolor\":\"#2a3f5f\"},\"baxis\":{\"endlinecolor\":\"#2a3f5f\",\"gridcolor\":\"white\",\"linecolor\":\"white\",\"minorgridcolor\":\"white\",\"startlinecolor\":\"#2a3f5f\"},\"type\":\"carpet\"}],\"table\":[{\"cells\":{\"fill\":{\"color\":\"#EBF0F8\"},\"line\":{\"color\":\"white\"}},\"header\":{\"fill\":{\"color\":\"#C8D4E3\"},\"line\":{\"color\":\"white\"}},\"type\":\"table\"}],\"barpolar\":[{\"marker\":{\"line\":{\"color\":\"#E5ECF6\",\"width\":0.5},\"pattern\":{\"fillmode\":\"overlay\",\"size\":10,\"solidity\":0.2}},\"type\":\"barpolar\"}],\"pie\":[{\"automargin\":true,\"type\":\"pie\"}]},\"layout\":{\"autotypenumbers\":\"strict\",\"colorway\":[\"#636efa\",\"#EF553B\",\"#00cc96\",\"#ab63fa\",\"#FFA15A\",\"#19d3f3\",\"#FF6692\",\"#B6E880\",\"#FF97FF\",\"#FECB52\"],\"font\":{\"color\":\"#2a3f5f\"},\"hovermode\":\"closest\",\"hoverlabel\":{\"align\":\"left\"},\"paper_bgcolor\":\"white\",\"plot_bgcolor\":\"#E5ECF6\",\"polar\":{\"bgcolor\":\"#E5ECF6\",\"angularaxis\":{\"gridcolor\":\"white\",\"linecolor\":\"white\",\"ticks\":\"\"},\"radialaxis\":{\"gridcolor\":\"white\",\"linecolor\":\"white\",\"ticks\":\"\"}},\"ternary\":{\"bgcolor\":\"#E5ECF6\",\"aaxis\":{\"gridcolor\":\"white\",\"linecolor\":\"white\",\"ticks\":\"\"},\"baxis\":{\"gridcolor\":\"white\",\"linecolor\":\"white\",\"ticks\":\"\"},\"caxis\":{\"gridcolor\":\"white\",\"linecolor\":\"white\",\"ticks\":\"\"}},\"coloraxis\":{\"colorbar\":{\"outlinewidth\":0,\"ticks\":\"\"}},\"colorscale\":{\"sequential\":[[0.0,\"#0d0887\"],[0.1111111111111111,\"#46039f\"],[0.2222222222222222,\"#7201a8\"],[0.3333333333333333,\"#9c179e\"],[0.4444444444444444,\"#bd3786\"],[0.5555555555555556,\"#d8576b\"],[0.6666666666666666,\"#ed7953\"],[0.7777777777777778,\"#fb9f3a\"],[0.8888888888888888,\"#fdca26\"],[1.0,\"#f0f921\"]],\"sequentialminus\":[[0.0,\"#0d0887\"],[0.1111111111111111,\"#46039f\"],[0.2222222222222222,\"#7201a8\"],[0.3333333333333333,\"#9c179e\"],[0.4444444444444444,\"#bd3786\"],[0.5555555555555556,\"#d8576b\"],[0.6666666666666666,\"#ed7953\"],[0.7777777777777778,\"#fb9f3a\"],[0.8888888888888888,\"#fdca26\"],[1.0,\"#f0f921\"]],\"diverging\":[[0,\"#8e0152\"],[0.1,\"#c51b7d\"],[0.2,\"#de77ae\"],[0.3,\"#f1b6da\"],[0.4,\"#fde0ef\"],[0.5,\"#f7f7f7\"],[0.6,\"#e6f5d0\"],[0.7,\"#b8e186\"],[0.8,\"#7fbc41\"],[0.9,\"#4d9221\"],[1,\"#276419\"]]},\"xaxis\":{\"gridcolor\":\"white\",\"linecolor\":\"white\",\"ticks\":\"\",\"title\":{\"standoff\":15},\"zerolinecolor\":\"white\",\"automargin\":true,\"zerolinewidth\":2},\"yaxis\":{\"gridcolor\":\"white\",\"linecolor\":\"white\",\"ticks\":\"\",\"title\":{\"standoff\":15},\"zerolinecolor\":\"white\",\"automargin\":true,\"zerolinewidth\":2},\"scene\":{\"xaxis\":{\"backgroundcolor\":\"#E5ECF6\",\"gridcolor\":\"white\",\"linecolor\":\"white\",\"showbackground\":true,\"ticks\":\"\",\"zerolinecolor\":\"white\",\"gridwidth\":2},\"yaxis\":{\"backgroundcolor\":\"#E5ECF6\",\"gridcolor\":\"white\",\"linecolor\":\"white\",\"showbackground\":true,\"ticks\":\"\",\"zerolinecolor\":\"white\",\"gridwidth\":2},\"zaxis\":{\"backgroundcolor\":\"#E5ECF6\",\"gridcolor\":\"white\",\"linecolor\":\"white\",\"showbackground\":true,\"ticks\":\"\",\"zerolinecolor\":\"white\",\"gridwidth\":2}},\"shapedefaults\":{\"line\":{\"color\":\"#2a3f5f\"}},\"annotationdefaults\":{\"arrowcolor\":\"#2a3f5f\",\"arrowhead\":0,\"arrowwidth\":1},\"geo\":{\"bgcolor\":\"white\",\"landcolor\":\"#E5ECF6\",\"subunitcolor\":\"white\",\"showland\":true,\"showlakes\":true,\"lakecolor\":\"white\"},\"title\":{\"x\":0.05},\"mapbox\":{\"style\":\"light\"}}},\"xaxis\":{\"anchor\":\"y\",\"domain\":[0.0,1.0],\"title\":{\"text\":\"Stop Name\"}},\"yaxis\":{\"anchor\":\"x\",\"domain\":[0.0,1.0],\"title\":{\"text\":\"Number of Passengers\"}},\"legend\":{\"tracegroupgap\":0},\"title\":{\"text\":\"All Stops\"}},                        {\"responsive\": true}                    ).then(function(){\n",
              "                            \n",
              "var gd = document.getElementById('56b201de-a2af-4006-b94d-6ebd5259486f');\n",
              "var x = new MutationObserver(function (mutations, observer) {{\n",
              "        var display = window.getComputedStyle(gd).display;\n",
              "        if (!display || display === 'none') {{\n",
              "            console.log([gd, 'removed!']);\n",
              "            Plotly.purge(gd);\n",
              "            observer.disconnect();\n",
              "        }}\n",
              "}});\n",
              "\n",
              "// Listen for the removal of the full notebook cells\n",
              "var notebookContainer = gd.closest('#notebook-container');\n",
              "if (notebookContainer) {{\n",
              "    x.observe(notebookContainer, {childList: true});\n",
              "}}\n",
              "\n",
              "// Listen for the clearing of the current output cell\n",
              "var outputEl = gd.closest('.output');\n",
              "if (outputEl) {{\n",
              "    x.observe(outputEl, {childList: true});\n",
              "}}\n",
              "\n",
              "                        })                };                            </script>        </div>\n",
              "</body>\n",
              "</html>"
            ]
          },
          "metadata": {}
        }
      ]
    },
    {
      "cell_type": "code",
      "source": [
        "max_pass_per_stop=stop_density.head(5)\n",
        "min_pass_per_stop=stop_density.tail(5)\n",
        "fig1 = px.line(x=max_pass_per_stop.keys() ,y =max_pass_per_stop,labels={'x':'Stop Name', 'y':'Number of Passengers'}, title= \"Busiest Stops\")\n",
        "fig1.show()\n",
        "fig2 = px.line(x=min_pass_per_stop.keys() ,y =min_pass_per_stop,labels={'x':'Stop Name', 'y':'Number of Passengers'}, title= \"Unoccupied Stops\")\n",
        "fig2.show()"
      ],
      "metadata": {
        "colab": {
          "base_uri": "https://localhost:8080/",
          "height": 1000
        },
        "id": "f5L_0gvC3wT0",
        "outputId": "b35fc6d9-309e-44ab-be56-aa28431820ee"
      },
      "execution_count": 10,
      "outputs": [
        {
          "output_type": "display_data",
          "data": {
            "text/html": [
              "<html>\n",
              "<head><meta charset=\"utf-8\" /></head>\n",
              "<body>\n",
              "    <div>            <script src=\"https://cdnjs.cloudflare.com/ajax/libs/mathjax/2.7.5/MathJax.js?config=TeX-AMS-MML_SVG\"></script><script type=\"text/javascript\">if (window.MathJax && window.MathJax.Hub && window.MathJax.Hub.Config) {window.MathJax.Hub.Config({SVG: {font: \"STIX-Web\"}});}</script>                <script type=\"text/javascript\">window.PlotlyConfig = {MathJaxConfig: 'local'};</script>\n",
              "        <script charset=\"utf-8\" src=\"https://cdn.plot.ly/plotly-2.24.1.min.js\"></script>                <div id=\"c1d3ed95-3012-489f-9b04-6a29efc4f4df\" class=\"plotly-graph-div\" style=\"height:525px; width:100%;\"></div>            <script type=\"text/javascript\">                                    window.PLOTLYENV=window.PLOTLYENV || {};                                    if (document.getElementById(\"c1d3ed95-3012-489f-9b04-6a29efc4f4df\")) {                    Plotly.newPlot(                        \"c1d3ed95-3012-489f-9b04-6a29efc4f4df\",                        [{\"hovertemplate\":\"Stop Name=%{x}\\u003cbr\\u003eNumber of Passengers=%{y}\\u003cextra\\u003e\\u003c\\u002fextra\\u003e\",\"legendgroup\":\"\",\"line\":{\"color\":\"#636efa\",\"dash\":\"solid\"},\"marker\":{\"symbol\":\"circle\"},\"mode\":\"lines\",\"name\":\"\",\"orientation\":\"v\",\"showlegend\":false,\"x\":[\"Tantya Bheel Chouraha Police Station\",\"Teen Imli\",\"Rajwada Circle\",\"Musakhedi Ring Road\",\"Aurobindo\"],\"xaxis\":\"x\",\"y\":[6216,5966,5766,4720,4222],\"yaxis\":\"y\",\"type\":\"scatter\"}],                        {\"template\":{\"data\":{\"histogram2dcontour\":[{\"type\":\"histogram2dcontour\",\"colorbar\":{\"outlinewidth\":0,\"ticks\":\"\"},\"colorscale\":[[0.0,\"#0d0887\"],[0.1111111111111111,\"#46039f\"],[0.2222222222222222,\"#7201a8\"],[0.3333333333333333,\"#9c179e\"],[0.4444444444444444,\"#bd3786\"],[0.5555555555555556,\"#d8576b\"],[0.6666666666666666,\"#ed7953\"],[0.7777777777777778,\"#fb9f3a\"],[0.8888888888888888,\"#fdca26\"],[1.0,\"#f0f921\"]]}],\"choropleth\":[{\"type\":\"choropleth\",\"colorbar\":{\"outlinewidth\":0,\"ticks\":\"\"}}],\"histogram2d\":[{\"type\":\"histogram2d\",\"colorbar\":{\"outlinewidth\":0,\"ticks\":\"\"},\"colorscale\":[[0.0,\"#0d0887\"],[0.1111111111111111,\"#46039f\"],[0.2222222222222222,\"#7201a8\"],[0.3333333333333333,\"#9c179e\"],[0.4444444444444444,\"#bd3786\"],[0.5555555555555556,\"#d8576b\"],[0.6666666666666666,\"#ed7953\"],[0.7777777777777778,\"#fb9f3a\"],[0.8888888888888888,\"#fdca26\"],[1.0,\"#f0f921\"]]}],\"heatmap\":[{\"type\":\"heatmap\",\"colorbar\":{\"outlinewidth\":0,\"ticks\":\"\"},\"colorscale\":[[0.0,\"#0d0887\"],[0.1111111111111111,\"#46039f\"],[0.2222222222222222,\"#7201a8\"],[0.3333333333333333,\"#9c179e\"],[0.4444444444444444,\"#bd3786\"],[0.5555555555555556,\"#d8576b\"],[0.6666666666666666,\"#ed7953\"],[0.7777777777777778,\"#fb9f3a\"],[0.8888888888888888,\"#fdca26\"],[1.0,\"#f0f921\"]]}],\"heatmapgl\":[{\"type\":\"heatmapgl\",\"colorbar\":{\"outlinewidth\":0,\"ticks\":\"\"},\"colorscale\":[[0.0,\"#0d0887\"],[0.1111111111111111,\"#46039f\"],[0.2222222222222222,\"#7201a8\"],[0.3333333333333333,\"#9c179e\"],[0.4444444444444444,\"#bd3786\"],[0.5555555555555556,\"#d8576b\"],[0.6666666666666666,\"#ed7953\"],[0.7777777777777778,\"#fb9f3a\"],[0.8888888888888888,\"#fdca26\"],[1.0,\"#f0f921\"]]}],\"contourcarpet\":[{\"type\":\"contourcarpet\",\"colorbar\":{\"outlinewidth\":0,\"ticks\":\"\"}}],\"contour\":[{\"type\":\"contour\",\"colorbar\":{\"outlinewidth\":0,\"ticks\":\"\"},\"colorscale\":[[0.0,\"#0d0887\"],[0.1111111111111111,\"#46039f\"],[0.2222222222222222,\"#7201a8\"],[0.3333333333333333,\"#9c179e\"],[0.4444444444444444,\"#bd3786\"],[0.5555555555555556,\"#d8576b\"],[0.6666666666666666,\"#ed7953\"],[0.7777777777777778,\"#fb9f3a\"],[0.8888888888888888,\"#fdca26\"],[1.0,\"#f0f921\"]]}],\"surface\":[{\"type\":\"surface\",\"colorbar\":{\"outlinewidth\":0,\"ticks\":\"\"},\"colorscale\":[[0.0,\"#0d0887\"],[0.1111111111111111,\"#46039f\"],[0.2222222222222222,\"#7201a8\"],[0.3333333333333333,\"#9c179e\"],[0.4444444444444444,\"#bd3786\"],[0.5555555555555556,\"#d8576b\"],[0.6666666666666666,\"#ed7953\"],[0.7777777777777778,\"#fb9f3a\"],[0.8888888888888888,\"#fdca26\"],[1.0,\"#f0f921\"]]}],\"mesh3d\":[{\"type\":\"mesh3d\",\"colorbar\":{\"outlinewidth\":0,\"ticks\":\"\"}}],\"scatter\":[{\"fillpattern\":{\"fillmode\":\"overlay\",\"size\":10,\"solidity\":0.2},\"type\":\"scatter\"}],\"parcoords\":[{\"type\":\"parcoords\",\"line\":{\"colorbar\":{\"outlinewidth\":0,\"ticks\":\"\"}}}],\"scatterpolargl\":[{\"type\":\"scatterpolargl\",\"marker\":{\"colorbar\":{\"outlinewidth\":0,\"ticks\":\"\"}}}],\"bar\":[{\"error_x\":{\"color\":\"#2a3f5f\"},\"error_y\":{\"color\":\"#2a3f5f\"},\"marker\":{\"line\":{\"color\":\"#E5ECF6\",\"width\":0.5},\"pattern\":{\"fillmode\":\"overlay\",\"size\":10,\"solidity\":0.2}},\"type\":\"bar\"}],\"scattergeo\":[{\"type\":\"scattergeo\",\"marker\":{\"colorbar\":{\"outlinewidth\":0,\"ticks\":\"\"}}}],\"scatterpolar\":[{\"type\":\"scatterpolar\",\"marker\":{\"colorbar\":{\"outlinewidth\":0,\"ticks\":\"\"}}}],\"histogram\":[{\"marker\":{\"pattern\":{\"fillmode\":\"overlay\",\"size\":10,\"solidity\":0.2}},\"type\":\"histogram\"}],\"scattergl\":[{\"type\":\"scattergl\",\"marker\":{\"colorbar\":{\"outlinewidth\":0,\"ticks\":\"\"}}}],\"scatter3d\":[{\"type\":\"scatter3d\",\"line\":{\"colorbar\":{\"outlinewidth\":0,\"ticks\":\"\"}},\"marker\":{\"colorbar\":{\"outlinewidth\":0,\"ticks\":\"\"}}}],\"scattermapbox\":[{\"type\":\"scattermapbox\",\"marker\":{\"colorbar\":{\"outlinewidth\":0,\"ticks\":\"\"}}}],\"scatterternary\":[{\"type\":\"scatterternary\",\"marker\":{\"colorbar\":{\"outlinewidth\":0,\"ticks\":\"\"}}}],\"scattercarpet\":[{\"type\":\"scattercarpet\",\"marker\":{\"colorbar\":{\"outlinewidth\":0,\"ticks\":\"\"}}}],\"carpet\":[{\"aaxis\":{\"endlinecolor\":\"#2a3f5f\",\"gridcolor\":\"white\",\"linecolor\":\"white\",\"minorgridcolor\":\"white\",\"startlinecolor\":\"#2a3f5f\"},\"baxis\":{\"endlinecolor\":\"#2a3f5f\",\"gridcolor\":\"white\",\"linecolor\":\"white\",\"minorgridcolor\":\"white\",\"startlinecolor\":\"#2a3f5f\"},\"type\":\"carpet\"}],\"table\":[{\"cells\":{\"fill\":{\"color\":\"#EBF0F8\"},\"line\":{\"color\":\"white\"}},\"header\":{\"fill\":{\"color\":\"#C8D4E3\"},\"line\":{\"color\":\"white\"}},\"type\":\"table\"}],\"barpolar\":[{\"marker\":{\"line\":{\"color\":\"#E5ECF6\",\"width\":0.5},\"pattern\":{\"fillmode\":\"overlay\",\"size\":10,\"solidity\":0.2}},\"type\":\"barpolar\"}],\"pie\":[{\"automargin\":true,\"type\":\"pie\"}]},\"layout\":{\"autotypenumbers\":\"strict\",\"colorway\":[\"#636efa\",\"#EF553B\",\"#00cc96\",\"#ab63fa\",\"#FFA15A\",\"#19d3f3\",\"#FF6692\",\"#B6E880\",\"#FF97FF\",\"#FECB52\"],\"font\":{\"color\":\"#2a3f5f\"},\"hovermode\":\"closest\",\"hoverlabel\":{\"align\":\"left\"},\"paper_bgcolor\":\"white\",\"plot_bgcolor\":\"#E5ECF6\",\"polar\":{\"bgcolor\":\"#E5ECF6\",\"angularaxis\":{\"gridcolor\":\"white\",\"linecolor\":\"white\",\"ticks\":\"\"},\"radialaxis\":{\"gridcolor\":\"white\",\"linecolor\":\"white\",\"ticks\":\"\"}},\"ternary\":{\"bgcolor\":\"#E5ECF6\",\"aaxis\":{\"gridcolor\":\"white\",\"linecolor\":\"white\",\"ticks\":\"\"},\"baxis\":{\"gridcolor\":\"white\",\"linecolor\":\"white\",\"ticks\":\"\"},\"caxis\":{\"gridcolor\":\"white\",\"linecolor\":\"white\",\"ticks\":\"\"}},\"coloraxis\":{\"colorbar\":{\"outlinewidth\":0,\"ticks\":\"\"}},\"colorscale\":{\"sequential\":[[0.0,\"#0d0887\"],[0.1111111111111111,\"#46039f\"],[0.2222222222222222,\"#7201a8\"],[0.3333333333333333,\"#9c179e\"],[0.4444444444444444,\"#bd3786\"],[0.5555555555555556,\"#d8576b\"],[0.6666666666666666,\"#ed7953\"],[0.7777777777777778,\"#fb9f3a\"],[0.8888888888888888,\"#fdca26\"],[1.0,\"#f0f921\"]],\"sequentialminus\":[[0.0,\"#0d0887\"],[0.1111111111111111,\"#46039f\"],[0.2222222222222222,\"#7201a8\"],[0.3333333333333333,\"#9c179e\"],[0.4444444444444444,\"#bd3786\"],[0.5555555555555556,\"#d8576b\"],[0.6666666666666666,\"#ed7953\"],[0.7777777777777778,\"#fb9f3a\"],[0.8888888888888888,\"#fdca26\"],[1.0,\"#f0f921\"]],\"diverging\":[[0,\"#8e0152\"],[0.1,\"#c51b7d\"],[0.2,\"#de77ae\"],[0.3,\"#f1b6da\"],[0.4,\"#fde0ef\"],[0.5,\"#f7f7f7\"],[0.6,\"#e6f5d0\"],[0.7,\"#b8e186\"],[0.8,\"#7fbc41\"],[0.9,\"#4d9221\"],[1,\"#276419\"]]},\"xaxis\":{\"gridcolor\":\"white\",\"linecolor\":\"white\",\"ticks\":\"\",\"title\":{\"standoff\":15},\"zerolinecolor\":\"white\",\"automargin\":true,\"zerolinewidth\":2},\"yaxis\":{\"gridcolor\":\"white\",\"linecolor\":\"white\",\"ticks\":\"\",\"title\":{\"standoff\":15},\"zerolinecolor\":\"white\",\"automargin\":true,\"zerolinewidth\":2},\"scene\":{\"xaxis\":{\"backgroundcolor\":\"#E5ECF6\",\"gridcolor\":\"white\",\"linecolor\":\"white\",\"showbackground\":true,\"ticks\":\"\",\"zerolinecolor\":\"white\",\"gridwidth\":2},\"yaxis\":{\"backgroundcolor\":\"#E5ECF6\",\"gridcolor\":\"white\",\"linecolor\":\"white\",\"showbackground\":true,\"ticks\":\"\",\"zerolinecolor\":\"white\",\"gridwidth\":2},\"zaxis\":{\"backgroundcolor\":\"#E5ECF6\",\"gridcolor\":\"white\",\"linecolor\":\"white\",\"showbackground\":true,\"ticks\":\"\",\"zerolinecolor\":\"white\",\"gridwidth\":2}},\"shapedefaults\":{\"line\":{\"color\":\"#2a3f5f\"}},\"annotationdefaults\":{\"arrowcolor\":\"#2a3f5f\",\"arrowhead\":0,\"arrowwidth\":1},\"geo\":{\"bgcolor\":\"white\",\"landcolor\":\"#E5ECF6\",\"subunitcolor\":\"white\",\"showland\":true,\"showlakes\":true,\"lakecolor\":\"white\"},\"title\":{\"x\":0.05},\"mapbox\":{\"style\":\"light\"}}},\"xaxis\":{\"anchor\":\"y\",\"domain\":[0.0,1.0],\"title\":{\"text\":\"Stop Name\"}},\"yaxis\":{\"anchor\":\"x\",\"domain\":[0.0,1.0],\"title\":{\"text\":\"Number of Passengers\"}},\"legend\":{\"tracegroupgap\":0},\"title\":{\"text\":\"Busiest Stops\"}},                        {\"responsive\": true}                    ).then(function(){\n",
              "                            \n",
              "var gd = document.getElementById('c1d3ed95-3012-489f-9b04-6a29efc4f4df');\n",
              "var x = new MutationObserver(function (mutations, observer) {{\n",
              "        var display = window.getComputedStyle(gd).display;\n",
              "        if (!display || display === 'none') {{\n",
              "            console.log([gd, 'removed!']);\n",
              "            Plotly.purge(gd);\n",
              "            observer.disconnect();\n",
              "        }}\n",
              "}});\n",
              "\n",
              "// Listen for the removal of the full notebook cells\n",
              "var notebookContainer = gd.closest('#notebook-container');\n",
              "if (notebookContainer) {{\n",
              "    x.observe(notebookContainer, {childList: true});\n",
              "}}\n",
              "\n",
              "// Listen for the clearing of the current output cell\n",
              "var outputEl = gd.closest('.output');\n",
              "if (outputEl) {{\n",
              "    x.observe(outputEl, {childList: true});\n",
              "}}\n",
              "\n",
              "                        })                };                            </script>        </div>\n",
              "</body>\n",
              "</html>"
            ]
          },
          "metadata": {}
        },
        {
          "output_type": "display_data",
          "data": {
            "text/html": [
              "<html>\n",
              "<head><meta charset=\"utf-8\" /></head>\n",
              "<body>\n",
              "    <div>            <script src=\"https://cdnjs.cloudflare.com/ajax/libs/mathjax/2.7.5/MathJax.js?config=TeX-AMS-MML_SVG\"></script><script type=\"text/javascript\">if (window.MathJax && window.MathJax.Hub && window.MathJax.Hub.Config) {window.MathJax.Hub.Config({SVG: {font: \"STIX-Web\"}});}</script>                <script type=\"text/javascript\">window.PlotlyConfig = {MathJaxConfig: 'local'};</script>\n",
              "        <script charset=\"utf-8\" src=\"https://cdn.plot.ly/plotly-2.24.1.min.js\"></script>                <div id=\"28f906e4-8c82-4ff9-a01e-10768de15948\" class=\"plotly-graph-div\" style=\"height:525px; width:100%;\"></div>            <script type=\"text/javascript\">                                    window.PLOTLYENV=window.PLOTLYENV || {};                                    if (document.getElementById(\"28f906e4-8c82-4ff9-a01e-10768de15948\")) {                    Plotly.newPlot(                        \"28f906e4-8c82-4ff9-a01e-10768de15948\",                        [{\"hovertemplate\":\"Stop Name=%{x}\\u003cbr\\u003eNumber of Passengers=%{y}\\u003cextra\\u003e\\u003c\\u002fextra\\u003e\",\"legendgroup\":\"\",\"line\":{\"color\":\"#636efa\",\"dash\":\"solid\"},\"marker\":{\"symbol\":\"circle\"},\"mode\":\"lines\",\"name\":\"\",\"orientation\":\"v\",\"showlegend\":false,\"x\":[\"Maksi Bypass\",\"Pagari\",\"Lokhande Bridge\",\"Hoshangabad\",\"Gotiya Aam Road\"],\"xaxis\":\"x\",\"y\":[1,1,1,1,1],\"yaxis\":\"y\",\"type\":\"scatter\"}],                        {\"template\":{\"data\":{\"histogram2dcontour\":[{\"type\":\"histogram2dcontour\",\"colorbar\":{\"outlinewidth\":0,\"ticks\":\"\"},\"colorscale\":[[0.0,\"#0d0887\"],[0.1111111111111111,\"#46039f\"],[0.2222222222222222,\"#7201a8\"],[0.3333333333333333,\"#9c179e\"],[0.4444444444444444,\"#bd3786\"],[0.5555555555555556,\"#d8576b\"],[0.6666666666666666,\"#ed7953\"],[0.7777777777777778,\"#fb9f3a\"],[0.8888888888888888,\"#fdca26\"],[1.0,\"#f0f921\"]]}],\"choropleth\":[{\"type\":\"choropleth\",\"colorbar\":{\"outlinewidth\":0,\"ticks\":\"\"}}],\"histogram2d\":[{\"type\":\"histogram2d\",\"colorbar\":{\"outlinewidth\":0,\"ticks\":\"\"},\"colorscale\":[[0.0,\"#0d0887\"],[0.1111111111111111,\"#46039f\"],[0.2222222222222222,\"#7201a8\"],[0.3333333333333333,\"#9c179e\"],[0.4444444444444444,\"#bd3786\"],[0.5555555555555556,\"#d8576b\"],[0.6666666666666666,\"#ed7953\"],[0.7777777777777778,\"#fb9f3a\"],[0.8888888888888888,\"#fdca26\"],[1.0,\"#f0f921\"]]}],\"heatmap\":[{\"type\":\"heatmap\",\"colorbar\":{\"outlinewidth\":0,\"ticks\":\"\"},\"colorscale\":[[0.0,\"#0d0887\"],[0.1111111111111111,\"#46039f\"],[0.2222222222222222,\"#7201a8\"],[0.3333333333333333,\"#9c179e\"],[0.4444444444444444,\"#bd3786\"],[0.5555555555555556,\"#d8576b\"],[0.6666666666666666,\"#ed7953\"],[0.7777777777777778,\"#fb9f3a\"],[0.8888888888888888,\"#fdca26\"],[1.0,\"#f0f921\"]]}],\"heatmapgl\":[{\"type\":\"heatmapgl\",\"colorbar\":{\"outlinewidth\":0,\"ticks\":\"\"},\"colorscale\":[[0.0,\"#0d0887\"],[0.1111111111111111,\"#46039f\"],[0.2222222222222222,\"#7201a8\"],[0.3333333333333333,\"#9c179e\"],[0.4444444444444444,\"#bd3786\"],[0.5555555555555556,\"#d8576b\"],[0.6666666666666666,\"#ed7953\"],[0.7777777777777778,\"#fb9f3a\"],[0.8888888888888888,\"#fdca26\"],[1.0,\"#f0f921\"]]}],\"contourcarpet\":[{\"type\":\"contourcarpet\",\"colorbar\":{\"outlinewidth\":0,\"ticks\":\"\"}}],\"contour\":[{\"type\":\"contour\",\"colorbar\":{\"outlinewidth\":0,\"ticks\":\"\"},\"colorscale\":[[0.0,\"#0d0887\"],[0.1111111111111111,\"#46039f\"],[0.2222222222222222,\"#7201a8\"],[0.3333333333333333,\"#9c179e\"],[0.4444444444444444,\"#bd3786\"],[0.5555555555555556,\"#d8576b\"],[0.6666666666666666,\"#ed7953\"],[0.7777777777777778,\"#fb9f3a\"],[0.8888888888888888,\"#fdca26\"],[1.0,\"#f0f921\"]]}],\"surface\":[{\"type\":\"surface\",\"colorbar\":{\"outlinewidth\":0,\"ticks\":\"\"},\"colorscale\":[[0.0,\"#0d0887\"],[0.1111111111111111,\"#46039f\"],[0.2222222222222222,\"#7201a8\"],[0.3333333333333333,\"#9c179e\"],[0.4444444444444444,\"#bd3786\"],[0.5555555555555556,\"#d8576b\"],[0.6666666666666666,\"#ed7953\"],[0.7777777777777778,\"#fb9f3a\"],[0.8888888888888888,\"#fdca26\"],[1.0,\"#f0f921\"]]}],\"mesh3d\":[{\"type\":\"mesh3d\",\"colorbar\":{\"outlinewidth\":0,\"ticks\":\"\"}}],\"scatter\":[{\"fillpattern\":{\"fillmode\":\"overlay\",\"size\":10,\"solidity\":0.2},\"type\":\"scatter\"}],\"parcoords\":[{\"type\":\"parcoords\",\"line\":{\"colorbar\":{\"outlinewidth\":0,\"ticks\":\"\"}}}],\"scatterpolargl\":[{\"type\":\"scatterpolargl\",\"marker\":{\"colorbar\":{\"outlinewidth\":0,\"ticks\":\"\"}}}],\"bar\":[{\"error_x\":{\"color\":\"#2a3f5f\"},\"error_y\":{\"color\":\"#2a3f5f\"},\"marker\":{\"line\":{\"color\":\"#E5ECF6\",\"width\":0.5},\"pattern\":{\"fillmode\":\"overlay\",\"size\":10,\"solidity\":0.2}},\"type\":\"bar\"}],\"scattergeo\":[{\"type\":\"scattergeo\",\"marker\":{\"colorbar\":{\"outlinewidth\":0,\"ticks\":\"\"}}}],\"scatterpolar\":[{\"type\":\"scatterpolar\",\"marker\":{\"colorbar\":{\"outlinewidth\":0,\"ticks\":\"\"}}}],\"histogram\":[{\"marker\":{\"pattern\":{\"fillmode\":\"overlay\",\"size\":10,\"solidity\":0.2}},\"type\":\"histogram\"}],\"scattergl\":[{\"type\":\"scattergl\",\"marker\":{\"colorbar\":{\"outlinewidth\":0,\"ticks\":\"\"}}}],\"scatter3d\":[{\"type\":\"scatter3d\",\"line\":{\"colorbar\":{\"outlinewidth\":0,\"ticks\":\"\"}},\"marker\":{\"colorbar\":{\"outlinewidth\":0,\"ticks\":\"\"}}}],\"scattermapbox\":[{\"type\":\"scattermapbox\",\"marker\":{\"colorbar\":{\"outlinewidth\":0,\"ticks\":\"\"}}}],\"scatterternary\":[{\"type\":\"scatterternary\",\"marker\":{\"colorbar\":{\"outlinewidth\":0,\"ticks\":\"\"}}}],\"scattercarpet\":[{\"type\":\"scattercarpet\",\"marker\":{\"colorbar\":{\"outlinewidth\":0,\"ticks\":\"\"}}}],\"carpet\":[{\"aaxis\":{\"endlinecolor\":\"#2a3f5f\",\"gridcolor\":\"white\",\"linecolor\":\"white\",\"minorgridcolor\":\"white\",\"startlinecolor\":\"#2a3f5f\"},\"baxis\":{\"endlinecolor\":\"#2a3f5f\",\"gridcolor\":\"white\",\"linecolor\":\"white\",\"minorgridcolor\":\"white\",\"startlinecolor\":\"#2a3f5f\"},\"type\":\"carpet\"}],\"table\":[{\"cells\":{\"fill\":{\"color\":\"#EBF0F8\"},\"line\":{\"color\":\"white\"}},\"header\":{\"fill\":{\"color\":\"#C8D4E3\"},\"line\":{\"color\":\"white\"}},\"type\":\"table\"}],\"barpolar\":[{\"marker\":{\"line\":{\"color\":\"#E5ECF6\",\"width\":0.5},\"pattern\":{\"fillmode\":\"overlay\",\"size\":10,\"solidity\":0.2}},\"type\":\"barpolar\"}],\"pie\":[{\"automargin\":true,\"type\":\"pie\"}]},\"layout\":{\"autotypenumbers\":\"strict\",\"colorway\":[\"#636efa\",\"#EF553B\",\"#00cc96\",\"#ab63fa\",\"#FFA15A\",\"#19d3f3\",\"#FF6692\",\"#B6E880\",\"#FF97FF\",\"#FECB52\"],\"font\":{\"color\":\"#2a3f5f\"},\"hovermode\":\"closest\",\"hoverlabel\":{\"align\":\"left\"},\"paper_bgcolor\":\"white\",\"plot_bgcolor\":\"#E5ECF6\",\"polar\":{\"bgcolor\":\"#E5ECF6\",\"angularaxis\":{\"gridcolor\":\"white\",\"linecolor\":\"white\",\"ticks\":\"\"},\"radialaxis\":{\"gridcolor\":\"white\",\"linecolor\":\"white\",\"ticks\":\"\"}},\"ternary\":{\"bgcolor\":\"#E5ECF6\",\"aaxis\":{\"gridcolor\":\"white\",\"linecolor\":\"white\",\"ticks\":\"\"},\"baxis\":{\"gridcolor\":\"white\",\"linecolor\":\"white\",\"ticks\":\"\"},\"caxis\":{\"gridcolor\":\"white\",\"linecolor\":\"white\",\"ticks\":\"\"}},\"coloraxis\":{\"colorbar\":{\"outlinewidth\":0,\"ticks\":\"\"}},\"colorscale\":{\"sequential\":[[0.0,\"#0d0887\"],[0.1111111111111111,\"#46039f\"],[0.2222222222222222,\"#7201a8\"],[0.3333333333333333,\"#9c179e\"],[0.4444444444444444,\"#bd3786\"],[0.5555555555555556,\"#d8576b\"],[0.6666666666666666,\"#ed7953\"],[0.7777777777777778,\"#fb9f3a\"],[0.8888888888888888,\"#fdca26\"],[1.0,\"#f0f921\"]],\"sequentialminus\":[[0.0,\"#0d0887\"],[0.1111111111111111,\"#46039f\"],[0.2222222222222222,\"#7201a8\"],[0.3333333333333333,\"#9c179e\"],[0.4444444444444444,\"#bd3786\"],[0.5555555555555556,\"#d8576b\"],[0.6666666666666666,\"#ed7953\"],[0.7777777777777778,\"#fb9f3a\"],[0.8888888888888888,\"#fdca26\"],[1.0,\"#f0f921\"]],\"diverging\":[[0,\"#8e0152\"],[0.1,\"#c51b7d\"],[0.2,\"#de77ae\"],[0.3,\"#f1b6da\"],[0.4,\"#fde0ef\"],[0.5,\"#f7f7f7\"],[0.6,\"#e6f5d0\"],[0.7,\"#b8e186\"],[0.8,\"#7fbc41\"],[0.9,\"#4d9221\"],[1,\"#276419\"]]},\"xaxis\":{\"gridcolor\":\"white\",\"linecolor\":\"white\",\"ticks\":\"\",\"title\":{\"standoff\":15},\"zerolinecolor\":\"white\",\"automargin\":true,\"zerolinewidth\":2},\"yaxis\":{\"gridcolor\":\"white\",\"linecolor\":\"white\",\"ticks\":\"\",\"title\":{\"standoff\":15},\"zerolinecolor\":\"white\",\"automargin\":true,\"zerolinewidth\":2},\"scene\":{\"xaxis\":{\"backgroundcolor\":\"#E5ECF6\",\"gridcolor\":\"white\",\"linecolor\":\"white\",\"showbackground\":true,\"ticks\":\"\",\"zerolinecolor\":\"white\",\"gridwidth\":2},\"yaxis\":{\"backgroundcolor\":\"#E5ECF6\",\"gridcolor\":\"white\",\"linecolor\":\"white\",\"showbackground\":true,\"ticks\":\"\",\"zerolinecolor\":\"white\",\"gridwidth\":2},\"zaxis\":{\"backgroundcolor\":\"#E5ECF6\",\"gridcolor\":\"white\",\"linecolor\":\"white\",\"showbackground\":true,\"ticks\":\"\",\"zerolinecolor\":\"white\",\"gridwidth\":2}},\"shapedefaults\":{\"line\":{\"color\":\"#2a3f5f\"}},\"annotationdefaults\":{\"arrowcolor\":\"#2a3f5f\",\"arrowhead\":0,\"arrowwidth\":1},\"geo\":{\"bgcolor\":\"white\",\"landcolor\":\"#E5ECF6\",\"subunitcolor\":\"white\",\"showland\":true,\"showlakes\":true,\"lakecolor\":\"white\"},\"title\":{\"x\":0.05},\"mapbox\":{\"style\":\"light\"}}},\"xaxis\":{\"anchor\":\"y\",\"domain\":[0.0,1.0],\"title\":{\"text\":\"Stop Name\"}},\"yaxis\":{\"anchor\":\"x\",\"domain\":[0.0,1.0],\"title\":{\"text\":\"Number of Passengers\"}},\"legend\":{\"tracegroupgap\":0},\"title\":{\"text\":\"Unoccupied Stops\"}},                        {\"responsive\": true}                    ).then(function(){\n",
              "                            \n",
              "var gd = document.getElementById('28f906e4-8c82-4ff9-a01e-10768de15948');\n",
              "var x = new MutationObserver(function (mutations, observer) {{\n",
              "        var display = window.getComputedStyle(gd).display;\n",
              "        if (!display || display === 'none') {{\n",
              "            console.log([gd, 'removed!']);\n",
              "            Plotly.purge(gd);\n",
              "            observer.disconnect();\n",
              "        }}\n",
              "}});\n",
              "\n",
              "// Listen for the removal of the full notebook cells\n",
              "var notebookContainer = gd.closest('#notebook-container');\n",
              "if (notebookContainer) {{\n",
              "    x.observe(notebookContainer, {childList: true});\n",
              "}}\n",
              "\n",
              "// Listen for the clearing of the current output cell\n",
              "var outputEl = gd.closest('.output');\n",
              "if (outputEl) {{\n",
              "    x.observe(outputEl, {childList: true});\n",
              "}}\n",
              "\n",
              "                        })                };                            </script>        </div>\n",
              "</body>\n",
              "</html>"
            ]
          },
          "metadata": {}
        }
      ]
    },
    {
      "cell_type": "code",
      "source": [],
      "metadata": {
        "id": "M02ufSqC4Zwd"
      },
      "execution_count": 10,
      "outputs": []
    }
  ]
}