{
  "nbformat": 4,
  "nbformat_minor": 0,
  "metadata": {
    "colab": {
      "provenance": [],
      "include_colab_link": true
    },
    "kernelspec": {
      "name": "python3",
      "display_name": "Python 3"
    },
    "language_info": {
      "name": "python"
    }
  },
  "cells": [
    {
      "cell_type": "markdown",
      "metadata": {
        "id": "view-in-github",
        "colab_type": "text"
      },
      "source": [
        "<a href=\"https://colab.research.google.com/github/arpit0304/Bus_Data_Visualisation_Major_Project/blob/main/stop_density.ipynb\" target=\"_parent\"><img src=\"https://colab.research.google.com/assets/colab-badge.svg\" alt=\"Open In Colab\"/></a>"
      ]
    },
    {
      "cell_type": "code",
      "source": [
        "import pandas as pd"
      ],
      "metadata": {
        "id": "WA6i5zUU2OgP"
      },
      "execution_count": null,
      "outputs": []
    },
    {
      "cell_type": "code",
      "source": [
        "df=pd.read_csv('/content/bus_data.csv')"
      ],
      "metadata": {
        "id": "s_P1-pGF2asJ"
      },
      "execution_count": null,
      "outputs": []
    },
    {
      "cell_type": "code",
      "source": [
        "stop_density=df.groupby('fromstopname').fromstopname.count()"
      ],
      "metadata": {
        "id": "tfCCIapt2fI_"
      },
      "execution_count": null,
      "outputs": []
    },
    {
      "cell_type": "code",
      "source": [
        "import plotly.express as px"
      ],
      "metadata": {
        "id": "foZs8Hpj2lb8"
      },
      "execution_count": null,
      "outputs": []
    },
    {
      "cell_type": "code",
      "source": [
        "# stop_density=stop_density.sort_values(ascending=False)\n",
        "# stop_density"
      ],
      "metadata": {
        "id": "3okevCEl4u0U"
      },
      "execution_count": null,
      "outputs": []
    },
    {
      "cell_type": "code",
      "source": [
        "stop_den=dict()\n",
        "\n",
        "for i in df.index:\n",
        "  if df['fromstopname'][i] in stop_den:\n",
        "    stop_den[df['fromstopname'][i]] += df['passengers'][i]\n",
        "  else:\n",
        "    stop_den[df['fromstopname'][i]] = df['passengers'][i]"
      ],
      "metadata": {
        "id": "hFS6YH6JRGXF"
      },
      "execution_count": null,
      "outputs": []
    },
    {
      "cell_type": "code",
      "source": [
        "stop_density = sorted(stop_den.items(), key=lambda x:x[1], reverse=True)\n",
        "stop_density = dict(stop_density)"
      ],
      "metadata": {
        "id": "npkyBT71TiW5"
      },
      "execution_count": null,
      "outputs": []
    },
    {
      "cell_type": "code",
      "source": [
        "fig = px.line(x=stop_density.keys() ,y =stop_density,labels={'x':'Stop Name', 'y':'Number of Passengers'}, title= \"All Stops\")\n",
        "fig.show()"
      ],
      "metadata": {
        "colab": {
          "base_uri": "https://localhost:8080/",
          "height": 542
        },
        "id": "q8mvGIJP3jjr",
        "outputId": "a20d1f7c-f0ba-49e1-c482-2e3c8958edf7"
      },
      "execution_count": null,
      "outputs": [
        {
          "output_type": "display_data",
          "data": {
            "text/html": [
              "<html>\n",
              "<head><meta charset=\"utf-8\" /></head>\n",
              "<body>\n",
              "    <div>            <script src=\"https://cdnjs.cloudflare.com/ajax/libs/mathjax/2.7.5/MathJax.js?config=TeX-AMS-MML_SVG\"></script><script type=\"text/javascript\">if (window.MathJax && window.MathJax.Hub && window.MathJax.Hub.Config) {window.MathJax.Hub.Config({SVG: {font: \"STIX-Web\"}});}</script>                <script type=\"text/javascript\">window.PlotlyConfig = {MathJaxConfig: 'local'};</script>\n",
              "        <script charset=\"utf-8\" src=\"https://cdn.plot.ly/plotly-2.24.1.min.js\"></script>                <div id=\"8a55e248-42ac-44b0-808a-958ff12c8811\" class=\"plotly-graph-div\" style=\"height:525px; width:100%;\"></div>            <script type=\"text/javascript\">                                    window.PLOTLYENV=window.PLOTLYENV || {};                                    if (document.getElementById(\"8a55e248-42ac-44b0-808a-958ff12c8811\")) {                    Plotly.newPlot(                        \"8a55e248-42ac-44b0-808a-958ff12c8811\",                        [{\"hovertemplate\":\"Stop Name=%{x}\\u003cbr\\u003eNumber of Passengers=%{y}\\u003cextra\\u003e\\u003c\\u002fextra\\u003e\",\"legendgroup\":\"\",\"line\":{\"color\":\"#636efa\",\"dash\":\"solid\"},\"marker\":{\"symbol\":\"circle\"},\"mode\":\"lines\",\"name\":\"\",\"orientation\":\"v\",\"showlegend\":false,\"x\":[\"Rajwada Circle\",\"Tantya Bheel Chouraha Police Station\",\"Teen Imli\",\"Musakhedi Ring Road\",\"Aurobindo\",\"I T Park Or Ashram Chauraha\",\"Collector Office\",\"Bengali Chouraha\",\"Radha Swami\",\"Piplyahana Square\",\"Malviya Nagar\",\"Tejaji Nagar\",\"Indore Railway Station\",\"Choithram Mandi\",\"Bada Ganpati\",\"Gangwal Bus Stand\",\"Mhow Naka Complex\",\"Chandan Nagar\",\"M R 10\",\"Bombay Hospital\",\"Vijay Nagar Zonal\",\"G D C College\",\"Phooti Kothi Square\",\"Khajrana Square Or Khajrana Ab Road\",\"Chanakyapuri Or Kesar Bagh Bridge\",\"Chitawad\",\"Malviya Petrol Pump\",\"Sindhi Colony\",\"Tower Chouraha\",\"Gurudwara\",\"Regal Square\",\"Navlakha Bus Stand\",\"Nipaniya Chouraha\",\"Mhow Naka Annapurna Road\",\"Ashram Limbda Or Queens College\",\"Patnipura\",\"Phooti Kothi Chouraha\",\"Satya Sai Square\",\"Raj Mohalla Chowk\",\"M Y Hospital\",\"Madhumilan Chauraha\",\"Dewas Naka\",\"Gandhi Hall Or Palika Plaza\",\"56 Dukan Or Palasia\",\"Mari Mata Square\",\"Rajiv Gandhi Chouraha\",\"Pardeshipura\",\"Bapat Square\",\"Pawanpuri Colony Or S R Pump\",\"Khajrana Dargah\",\"Vijay Nagar Police Chowki\",\"Silicon City\",\"White Church Or Shivaji Park\",\"Musakhedi Sawariya Mandir\",\"Mangliya\",\"M Y Hospital Gate\",\"Deendayal Garden\",\"Ranjeet Hanuman Mandir\",\"Khajrana Ringroad\",\"Juni Indore\",\"Lavkush Chouraha\",\"Baneswari Kund\",\"Hanuman Mandir\",\"Sayaji Petrol Pump\",\"Gopur Square\",\"Bholaram Chouraha\",\"Bank\",\"I P S Academy\",\"Malwa Mill\",\"Palda Naka\",\"Lal Bagh\",\"Nagar Nigam\",\"Hawa Bangla\",\"Usha Nagar Or Dashera Maidan\",\"Tantya Bheel Chouraha Tempo Stand\",\"Palasia Badwani Plaza\",\"Lakhani Bypass\",\"Shanti Nagar\",\"Palsikar Colony\",\"Medicaps College\",\"Saifee Nagar\",\"Gandhi Nagar\",\"Navlakha Chouraha\",\"9 Mile\",\"Shikshak Nagar\",\"Choithram Hospital\",\"Shree Krishna Talkies\",\"Power House\",\"M O G Lines Road\",\"Maharaja Ranjit Singh College\",\"Azad Nagar\",\"Gumasta Nagar Or Sudama Nagar Or Arihant\",\"Banganga\",\"Geeta Bhawan Square\",\"Rajendra Nagar\",\"Gouri Nagar\",\"Nayta Mundla\",\"Meghadut Garden\",\"Mhow Nak\",\"Sukliya\",\"Abhvaj Udyan Or Choithram Chouraha\",\"Rau Bus Stop\",\"White Church Chauraha\",\"Royal Bangla\",\"Mayur Hospital\",\"Panchwati\",\"D A V V Campus\",\"Sanjay Setu\",\"Bengali Colony\",\"Ramchandra Pump Or A P T C\",\"Patel Bridge\",\"Velocity Talkies\",\"Khajrana Square Or Ring Road\",\"Kanadiya Gaon\",\"Bypass\",\"Annapurna Temple\",\"Shivaji Vatika\",\"Noorani Nagar\",\"Hanuman Mandir Or Tilak Nagar\",\"Janjeerwala Square\",\"Electronic Complex\",\"Vaishnav Collage\",\"Hatod Village\",\"Prabhu Toll Kata\",\"Malgunj\",\"Pushpkunj Hospital\",\"Lasudia\",\"Mahak Vatika\",\"Pratiksha Dhaba\",\"Jawahar Tekri\",\"Nandbagh Colony\",\"Index Medical College\",\"Maharana Pratap Chowk\",\"Saify Square\",\"Manavta Nagar\",\"Mahesh Gaurd Line Or Police Line Pump\",\"Kandilpura\",\"Dwarka Puri Or Bhagwati Dwar\",\"Sewa Kunj\",\"Agrashen Chauraha\",\"Rau Rangwasa Chourah\",\"Bharat Petrol Pump\",\"I E T College\",\"Krishnapuri Colony Or Allahabad Bank\",\"Prakash Nagar\",\"Fortune Hotel\",\"Patrakar Colony\",\"Narsingh Bazar\",\"Musakhedi Sabji Mandi\",\"Dhanwantri Nagar\",\"Tcs Square\",\"Jinsi Chauraha\",\"Netralaya\",\"Ruchi Soya\",\"Sai Niwas\",\"G P O\",\"Antim Chauraha\",\"Relax Garden Or Krishna Kunj Gate\",\"Zam Zam Chauhara\",\"City Bus Depo\",\"Annapurna Nagar\",\"Machli Farm House\",\"Kothari Market\",\"Kesherbagh Bridge\",\"M R-10 Toll Plaza\",\"Sanchar Nagar\",\"Mhow Naka\",\"L I G Square\",\"Chhoti Gwaltoli\",\"Cat Square\",\"Simrol\",\"Indraprastha Tower\",\"Umri Kheda\",\"Airport\",\"M Y Chauraha\",\"B C M\",\"Udyog Nagar\",\"Deoguradiya Temple\",\"Kalani Nagar\",\"Tantya Bheel Chouraha\",\"Yadav Dharmashala\",\"Deepmala Dhaba\",\"Kali Puliya\",\"Dashera Maidan Or Bank Colony\",\"Palasia\",\"Gaytri Mandir\",\"Babul Nagar\",\"Dawa Bazaar\",\"Biyabani\",\"Ganesh Dham\",\"Tata Tower And Godown\",\"Chiman Bagh\",\"Vaishali Nagar\",\"Veena Nagar\",\"Laxmi Petrol Pump\",\"Indore Wire House\",\"Garib Nawaj Colony\",\"Sangam Nagar Road\",\"Nipania Bus Stop\",\"Lantern Chowk\",\"D Mart\",\"Kankeshwari Devi Mandir Dham\",\"Pitra Parvat\",\"Kumar Khadi\",\"Db City\",\"Narmada Project\",\"I P S Acadamy\",\"Summer Park\",\"Kothari Market Or Mth\",\"City Center\",\"Mahalaxmi Nagar\",\"Chameli Devi\",\"Kanad\",\"Pandrinath\",\"Shramik Colony\",\"Sanghi\",\"Shell City\",\"Sirpur\",\"Sapna Sangeeta\",\"Krishi College\",\"Indo German\",\"Suraj Bali Nagar\",\"Shyam Heights\",\"Khudel\",\"Scheme Number 78\",\"Kila Maidan Or Laxmibai Pratima\",\"Shalby Hospital\",\"Vaibhav Nagar\",\"Kasturba Gram\",\"Jairam Toll Kata\",\"Modern Square\",\"Kushwah Nagar\",\"Energy Hospital\",\"Prem Nagar\",\"Reti Mandi\",\"Bicholi Mardana\",\"Pipli Bazar\",\"Bijasan Central School\",\"Navneet Garden Crossing\",\"Treasure Island\",\"Subhash Nagar\",\"Anup Talkies\",\"Telephone Nagar\",\"Fortune Landmark Hotel\",\"M I G Police Station Or Atal Dwar\",\"School Of Pharmacy\",\"Agrawal Toll Kanta\",\"Mppt\",\"High Court\",\"Dravid Nagar\",\"Shree Krishna Talkies Or Krishn Pura Or Sanjay Setu\",\"Super Corridor\",\"Bhagirathpura\",\"Nai Duniya\",\"Kalaria\",\"Rau Bypass\",\"Bhandari Mill Agniban\",\"Indore\",\"Harsiddhi\",\"Shiv Chowk Rangwasa\",\"Surya Mandir\",\"Sun City\",\"White Church\",\"Karuna Sagar\",\"Rto Office\",\"Navda Panth\",\"Jila Hospital\",\"Palsikar School Or Jabran Colony\",\"Hira Nagar\",\"8 Meel\",\"Marod Fata\",\"Moni Baba Ashram\",\"Pushpratan Park\",\"Vijay Nagar\",\"Kharcha\",\"Emerald Heights School\",\"Sukhliya\",\"Shiv Shakti Nagar\",\"Ashta\",\"Shivalik Parishar\",\"Visranti Chauraha\",\"Mamta Colony Or Ganesh Mandir\",\"Tigariya Badshah\",\"Nai Sadak\",\"Budhaniya\",\"Gomatgiri\",\"Tirupati Nagar Or Patel Nagar\",\"Surya Dev Nagar\",\"Panch Sheel\",\"Shalimar Township\",\"Dudhia\",\"Kaisarbagh Bridge\",\"Himmatgarh\",\"Silicon City Gate\",\"Umiya Girls College\",\"Zoo\",\"Semliya Chau\",\"Bhamori\",\"Narval\",\"Timber Market\",\"Kila Maidan\",\"Indra Prasth Chouraha\",\"Indraprastha Garden\",\"Talawali Chanda Panchayat\",\"Scheme No 51 Square\",\"Diamond Colony Or Karnataka Vidya Niketan\",\"Datta Nagar\",\"Ganesh Bagh Square\",\"Royal Bungalow\",\"Manik Baag Bridge\",\"Gram Pipliyahana\",\"Arodam Thana\",\"Bakery Gali\",\"Sarwate Bus Depot\",\"Shreenath Colony\",\"Tejaji Chowk\",\"Isha Avanue Gate\",\"Aastha Talkies\",\"Silver Springs\",\"Gari Pipliya\",\"Chameli Devi School\",\"Power House Dudhiya\",\"Renaissance College\",\"California City\",\"Industry House\",\"Kakad\",\"Gamla Wali Puliya\",\"Tulsi Nagar\",\"Chota Bangarda\",\"Dhakkanwala Kuan\",\"Kundan Nagar\",\"Naya Basera\",\"Khade Ganpati Square\",\"Navneet Tower Or Saket Nagar\",\"Toll Naka\",\"Spring Valley\",\"Dewas Bus Stand\",\"Iit Simrol\",\"Goverment College Rau\",\"Babu Murai Or Ramkrishna Hospital\",\"Polo Ground\",\"D R P Line\",\"Kelod Kartal Or Lotus Garden\",\"Sunidhi Tol Kanta\",\"Chowthi-paltan\",\"Jain Nursary\",\"Rambali Square\",\"Triveni Square\",\"St Norbert School\",\"Nath Mandir Or Samrat Hotel\",\"Sanwer\",\"Abhinandan Pump\",\"Badwali Chowki\",\"Haji Colony\",\"Sarthak Industry Sindhi Baroda\",\"Barsana Garden\",\"Ram Bagh\",\"Dakachya\",\"Sapera Colony\",\"Anand Bazar\",\"Naw Factory\",\"Vijay Nagar Police Station Or Mangal City\",\"Sonkatch Bus Stand\",\"Gomatgiri Power House\",\"Shri Vidya Dham\",\"Laxmi Bai Railway Station\",\"Hnutiya\",\"Rewati Range\",\"Kanadiya Thana\",\"Agarwal Public School\",\"Ram Pipliya\",\"Rajkumar Bridge\",\"Dastur Garden\",\"Bhagirathpura Puliya\",\"Hatod Hospital\",\"Hammal Colony\",\"Vrindavan Colony\",\"Shubha City\",\"Shiv Mandir 8 Meel\",\"Kshipra\",\"Roberts Nursing Home\",\"Reti Mandi Ab Road\",\"Vikas Pradhikaran\",\"Damru-ustaad\",\"Naka Bhatta\",\"7 Meel\",\"Bhawani Nagar Or Super Coridor Bridge\",\"M Y Hospital Bus Stand\",\"Kaila Mata Mandir\",\"Reti Mandi Square\",\"Shree Vinayak\",\"Masjeed Khudel\",\"Rani Sati Garden\",\"G S I T S Square\",\"Jamniya Khurd\",\"Narmada Chouraha\",\"Airport Gate\",\"Imli Bazar\",\"56 Dukan\",\"Siddhipuram\",\"Sarangpur\",\"Mamaji Ka Dhaba\",\"Talawali Chanda\",\"Shri Vaishnav Dham\",\"Shastri Bridge\",\"Bijalpur\",\"Vidhyanjali School\",\"Jivan Jyoti\",\"Shajapur\",\"Kalindi Bypass\",\"M Y Tempo Stand\",\"Rasoma Chauraha\",\"Malganj Chouraha\",\"Star Square\",\"Laxmibai Mandi\",\"Ambikapuri Or Venkatesh Nagar\",\"Pirkaradiya\",\"Smriti Talkies\",\"Dashrath Bagh Colony\",\"Nirmal Dham\",\"Swami Vivekanand College\",\"Umaria Phata\",\"Khakrod\",\"Grampanchayat Rangwasa\",\"Lasudiya Parmar\",\"Apj Abdul Kalam Univercity\",\"Trenching Ground Indore\",\"Advanced Academy\",\"Dhar\",\"Krishna Nagar\",\"Ahilya Ashram\",\"Teen Puliya\",\"River Side Or Krishnapura Pull\",\"Jhabua\",\"Girdhar Mahal\",\"Kampel\",\"Rajgarh\",\"Maksi\",\"Kannod\",\"Bsf Colony\",\"Mukti Dham\",\"Hp Gas Plant\",\"Buranakhedi\",\"56 Dukaan\",\"Maruti Nagar\",\"Paraspar Nagar\",\"Scheme No 140 Jmb\",\"M T H\",\"Pardesipura Police Station\",\"Akashwani\",\"Kalindi Mid Town\",\"Nanda Nagar\",\"Guran\",\"Narsinghgarh\",\"Pink City\",\"Hardias Eye Hospital\",\"Amrapali Restrorant\",\"Anshal Town\",\"Bhairav Baba Mandir\",\"Kudana Bypass\",\"Brahman Pipliya\",\"Parmanu Nagar\",\"Trimala Pride\",\"Sanawadiya\",\"Pivday\",\"Chandralok\",\"Pachore\",\"Biaora\",\"Harda\",\"Kudana\",\"Shivnagar Chouraha\",\"Bangrada Road Or Chota And Bada Bangadda\",\"Scheme No 140\",\"Sadar Bazar Water Tank\",\"Chanakya Complex\",\"Nehru Park Railway Station\",\"Indraprasth Choutaha\",\"Bhangad Squre Shalimar\",\"Gurukul Colony\",\"Khategoan\",\"Khajrana Ganesh Mandir\",\"Chapda\",\"Nandlalpura\",\"Kalidevi\",\"Mehatwara\",\"Iit Gate No 2\",\"Nasrullaganj\",\"Todi\",\"Patwa\",\"Balaji Enclave\",\"Omax City By Pass\",\"Infosys Compony\",\"Karnawad Road\",\"Gotiya Aam Road\",\"Jawar Jod Bus Stop\",\"Gadiya\",\"Double Chowki\",\"By Pass Chouhan Nasta\",\"Dodi\",\"Badi\",\"Ujjaini\",\"Haj House\",\"Indian Oil Petrol Pump\",\"Banderi\",\"Karadiyagada\",\"Nayta Mundla By Pass\",\"Shangri La\",\"Khadi Jod\",\"Nemawar\",\"Jamgod Road\",\"Machhaliya\",\"M R-10 Road Bridge\",\"Casa Green Township\",\"Bayan\",\"Bijwad\",\"Bohra Colony Or Trimula Own\",\"Kadwa\",\"Rajdhara\",\"Nakhrali Dhani\",\"Borkheda Kalan\",\"Salkanpur\",\"Hoshangabad\",\"Udankhedi\",\"Daulatpur\",\"Lokhande Bridge\",\"Nevri Fata\",\"Sadar Bazar\",\"Maksi Bypass\",\"Pagari\",\"Golwa\"],\"xaxis\":\"x\",\"y\":[6978,6881,6871,5356,4847,4399,3543,3399,3251,3034,2674,2585,2321,2145,2071,2016,1959,1895,1812,1564,1362,1189,1174,1094,1087,1069,984,983,980,953,923,919,908,901,891,848,847,787,784,774,758,721,713,695,690,676,674,623,621,590,588,585,576,574,560,558,552,544,537,532,527,519,518,493,482,477,474,467,466,451,442,442,436,430,427,418,413,412,405,389,386,386,373,363,355,354,354,340,332,331,329,326,321,320,318,316,295,289,285,280,278,278,271,269,267,266,252,251,249,249,248,246,241,238,238,238,233,231,229,225,223,221,220,219,218,217,216,210,210,209,208,202,200,199,198,198,196,194,191,189,189,185,184,184,184,182,178,178,177,177,176,174,171,170,168,165,164,163,161,161,157,156,155,155,154,153,152,149,149,148,148,146,146,146,145,142,142,141,140,138,137,136,135,133,132,132,132,131,129,128,127,126,125,122,122,121,121,120,117,116,116,116,116,115,113,111,111,111,110,110,110,109,109,108,107,106,105,102,102,101,101,101,100,99,99,98,97,96,96,96,95,94,89,88,88,88,86,86,86,85,84,84,83,82,82,80,80,80,79,78,78,77,76,75,74,73,73,73,71,71,69,69,68,67,67,67,67,67,65,65,65,64,63,63,62,62,61,61,61,61,60,60,60,59,59,58,57,56,56,56,56,55,55,55,55,55,55,54,53,53,53,53,53,53,53,52,51,51,51,50,50,50,49,49,48,48,47,47,46,45,44,44,43,42,41,41,41,41,40,40,40,40,40,39,39,38,38,38,37,37,36,35,35,35,34,34,34,34,34,33,33,32,32,31,31,31,31,31,31,30,29,29,29,29,29,29,28,28,27,27,27,26,26,26,26,25,25,25,25,24,24,24,24,24,23,23,23,23,21,21,21,21,21,21,21,20,20,20,19,19,19,19,17,17,17,16,16,16,16,16,16,16,16,15,15,15,15,15,15,14,14,14,14,14,13,13,13,12,12,12,12,12,11,11,11,11,10,10,10,10,10,10,10,9,9,9,9,9,8,8,8,8,8,7,7,7,7,7,7,7,7,7,7,7,7,6,6,6,6,6,6,6,6,5,5,5,5,5,5,4,4,4,4,3,3,3,3,3,3,3,3,3,2,2,2,2,2,2,2,2,2,2,2,1,1,1,1,1,1,1,1,1,1,1,1,1,1,1,1,1,1,1,1,1,1,1,1,1,1,1],\"yaxis\":\"y\",\"type\":\"scatter\"}],                        {\"template\":{\"data\":{\"histogram2dcontour\":[{\"type\":\"histogram2dcontour\",\"colorbar\":{\"outlinewidth\":0,\"ticks\":\"\"},\"colorscale\":[[0.0,\"#0d0887\"],[0.1111111111111111,\"#46039f\"],[0.2222222222222222,\"#7201a8\"],[0.3333333333333333,\"#9c179e\"],[0.4444444444444444,\"#bd3786\"],[0.5555555555555556,\"#d8576b\"],[0.6666666666666666,\"#ed7953\"],[0.7777777777777778,\"#fb9f3a\"],[0.8888888888888888,\"#fdca26\"],[1.0,\"#f0f921\"]]}],\"choropleth\":[{\"type\":\"choropleth\",\"colorbar\":{\"outlinewidth\":0,\"ticks\":\"\"}}],\"histogram2d\":[{\"type\":\"histogram2d\",\"colorbar\":{\"outlinewidth\":0,\"ticks\":\"\"},\"colorscale\":[[0.0,\"#0d0887\"],[0.1111111111111111,\"#46039f\"],[0.2222222222222222,\"#7201a8\"],[0.3333333333333333,\"#9c179e\"],[0.4444444444444444,\"#bd3786\"],[0.5555555555555556,\"#d8576b\"],[0.6666666666666666,\"#ed7953\"],[0.7777777777777778,\"#fb9f3a\"],[0.8888888888888888,\"#fdca26\"],[1.0,\"#f0f921\"]]}],\"heatmap\":[{\"type\":\"heatmap\",\"colorbar\":{\"outlinewidth\":0,\"ticks\":\"\"},\"colorscale\":[[0.0,\"#0d0887\"],[0.1111111111111111,\"#46039f\"],[0.2222222222222222,\"#7201a8\"],[0.3333333333333333,\"#9c179e\"],[0.4444444444444444,\"#bd3786\"],[0.5555555555555556,\"#d8576b\"],[0.6666666666666666,\"#ed7953\"],[0.7777777777777778,\"#fb9f3a\"],[0.8888888888888888,\"#fdca26\"],[1.0,\"#f0f921\"]]}],\"heatmapgl\":[{\"type\":\"heatmapgl\",\"colorbar\":{\"outlinewidth\":0,\"ticks\":\"\"},\"colorscale\":[[0.0,\"#0d0887\"],[0.1111111111111111,\"#46039f\"],[0.2222222222222222,\"#7201a8\"],[0.3333333333333333,\"#9c179e\"],[0.4444444444444444,\"#bd3786\"],[0.5555555555555556,\"#d8576b\"],[0.6666666666666666,\"#ed7953\"],[0.7777777777777778,\"#fb9f3a\"],[0.8888888888888888,\"#fdca26\"],[1.0,\"#f0f921\"]]}],\"contourcarpet\":[{\"type\":\"contourcarpet\",\"colorbar\":{\"outlinewidth\":0,\"ticks\":\"\"}}],\"contour\":[{\"type\":\"contour\",\"colorbar\":{\"outlinewidth\":0,\"ticks\":\"\"},\"colorscale\":[[0.0,\"#0d0887\"],[0.1111111111111111,\"#46039f\"],[0.2222222222222222,\"#7201a8\"],[0.3333333333333333,\"#9c179e\"],[0.4444444444444444,\"#bd3786\"],[0.5555555555555556,\"#d8576b\"],[0.6666666666666666,\"#ed7953\"],[0.7777777777777778,\"#fb9f3a\"],[0.8888888888888888,\"#fdca26\"],[1.0,\"#f0f921\"]]}],\"surface\":[{\"type\":\"surface\",\"colorbar\":{\"outlinewidth\":0,\"ticks\":\"\"},\"colorscale\":[[0.0,\"#0d0887\"],[0.1111111111111111,\"#46039f\"],[0.2222222222222222,\"#7201a8\"],[0.3333333333333333,\"#9c179e\"],[0.4444444444444444,\"#bd3786\"],[0.5555555555555556,\"#d8576b\"],[0.6666666666666666,\"#ed7953\"],[0.7777777777777778,\"#fb9f3a\"],[0.8888888888888888,\"#fdca26\"],[1.0,\"#f0f921\"]]}],\"mesh3d\":[{\"type\":\"mesh3d\",\"colorbar\":{\"outlinewidth\":0,\"ticks\":\"\"}}],\"scatter\":[{\"fillpattern\":{\"fillmode\":\"overlay\",\"size\":10,\"solidity\":0.2},\"type\":\"scatter\"}],\"parcoords\":[{\"type\":\"parcoords\",\"line\":{\"colorbar\":{\"outlinewidth\":0,\"ticks\":\"\"}}}],\"scatterpolargl\":[{\"type\":\"scatterpolargl\",\"marker\":{\"colorbar\":{\"outlinewidth\":0,\"ticks\":\"\"}}}],\"bar\":[{\"error_x\":{\"color\":\"#2a3f5f\"},\"error_y\":{\"color\":\"#2a3f5f\"},\"marker\":{\"line\":{\"color\":\"#E5ECF6\",\"width\":0.5},\"pattern\":{\"fillmode\":\"overlay\",\"size\":10,\"solidity\":0.2}},\"type\":\"bar\"}],\"scattergeo\":[{\"type\":\"scattergeo\",\"marker\":{\"colorbar\":{\"outlinewidth\":0,\"ticks\":\"\"}}}],\"scatterpolar\":[{\"type\":\"scatterpolar\",\"marker\":{\"colorbar\":{\"outlinewidth\":0,\"ticks\":\"\"}}}],\"histogram\":[{\"marker\":{\"pattern\":{\"fillmode\":\"overlay\",\"size\":10,\"solidity\":0.2}},\"type\":\"histogram\"}],\"scattergl\":[{\"type\":\"scattergl\",\"marker\":{\"colorbar\":{\"outlinewidth\":0,\"ticks\":\"\"}}}],\"scatter3d\":[{\"type\":\"scatter3d\",\"line\":{\"colorbar\":{\"outlinewidth\":0,\"ticks\":\"\"}},\"marker\":{\"colorbar\":{\"outlinewidth\":0,\"ticks\":\"\"}}}],\"scattermapbox\":[{\"type\":\"scattermapbox\",\"marker\":{\"colorbar\":{\"outlinewidth\":0,\"ticks\":\"\"}}}],\"scatterternary\":[{\"type\":\"scatterternary\",\"marker\":{\"colorbar\":{\"outlinewidth\":0,\"ticks\":\"\"}}}],\"scattercarpet\":[{\"type\":\"scattercarpet\",\"marker\":{\"colorbar\":{\"outlinewidth\":0,\"ticks\":\"\"}}}],\"carpet\":[{\"aaxis\":{\"endlinecolor\":\"#2a3f5f\",\"gridcolor\":\"white\",\"linecolor\":\"white\",\"minorgridcolor\":\"white\",\"startlinecolor\":\"#2a3f5f\"},\"baxis\":{\"endlinecolor\":\"#2a3f5f\",\"gridcolor\":\"white\",\"linecolor\":\"white\",\"minorgridcolor\":\"white\",\"startlinecolor\":\"#2a3f5f\"},\"type\":\"carpet\"}],\"table\":[{\"cells\":{\"fill\":{\"color\":\"#EBF0F8\"},\"line\":{\"color\":\"white\"}},\"header\":{\"fill\":{\"color\":\"#C8D4E3\"},\"line\":{\"color\":\"white\"}},\"type\":\"table\"}],\"barpolar\":[{\"marker\":{\"line\":{\"color\":\"#E5ECF6\",\"width\":0.5},\"pattern\":{\"fillmode\":\"overlay\",\"size\":10,\"solidity\":0.2}},\"type\":\"barpolar\"}],\"pie\":[{\"automargin\":true,\"type\":\"pie\"}]},\"layout\":{\"autotypenumbers\":\"strict\",\"colorway\":[\"#636efa\",\"#EF553B\",\"#00cc96\",\"#ab63fa\",\"#FFA15A\",\"#19d3f3\",\"#FF6692\",\"#B6E880\",\"#FF97FF\",\"#FECB52\"],\"font\":{\"color\":\"#2a3f5f\"},\"hovermode\":\"closest\",\"hoverlabel\":{\"align\":\"left\"},\"paper_bgcolor\":\"white\",\"plot_bgcolor\":\"#E5ECF6\",\"polar\":{\"bgcolor\":\"#E5ECF6\",\"angularaxis\":{\"gridcolor\":\"white\",\"linecolor\":\"white\",\"ticks\":\"\"},\"radialaxis\":{\"gridcolor\":\"white\",\"linecolor\":\"white\",\"ticks\":\"\"}},\"ternary\":{\"bgcolor\":\"#E5ECF6\",\"aaxis\":{\"gridcolor\":\"white\",\"linecolor\":\"white\",\"ticks\":\"\"},\"baxis\":{\"gridcolor\":\"white\",\"linecolor\":\"white\",\"ticks\":\"\"},\"caxis\":{\"gridcolor\":\"white\",\"linecolor\":\"white\",\"ticks\":\"\"}},\"coloraxis\":{\"colorbar\":{\"outlinewidth\":0,\"ticks\":\"\"}},\"colorscale\":{\"sequential\":[[0.0,\"#0d0887\"],[0.1111111111111111,\"#46039f\"],[0.2222222222222222,\"#7201a8\"],[0.3333333333333333,\"#9c179e\"],[0.4444444444444444,\"#bd3786\"],[0.5555555555555556,\"#d8576b\"],[0.6666666666666666,\"#ed7953\"],[0.7777777777777778,\"#fb9f3a\"],[0.8888888888888888,\"#fdca26\"],[1.0,\"#f0f921\"]],\"sequentialminus\":[[0.0,\"#0d0887\"],[0.1111111111111111,\"#46039f\"],[0.2222222222222222,\"#7201a8\"],[0.3333333333333333,\"#9c179e\"],[0.4444444444444444,\"#bd3786\"],[0.5555555555555556,\"#d8576b\"],[0.6666666666666666,\"#ed7953\"],[0.7777777777777778,\"#fb9f3a\"],[0.8888888888888888,\"#fdca26\"],[1.0,\"#f0f921\"]],\"diverging\":[[0,\"#8e0152\"],[0.1,\"#c51b7d\"],[0.2,\"#de77ae\"],[0.3,\"#f1b6da\"],[0.4,\"#fde0ef\"],[0.5,\"#f7f7f7\"],[0.6,\"#e6f5d0\"],[0.7,\"#b8e186\"],[0.8,\"#7fbc41\"],[0.9,\"#4d9221\"],[1,\"#276419\"]]},\"xaxis\":{\"gridcolor\":\"white\",\"linecolor\":\"white\",\"ticks\":\"\",\"title\":{\"standoff\":15},\"zerolinecolor\":\"white\",\"automargin\":true,\"zerolinewidth\":2},\"yaxis\":{\"gridcolor\":\"white\",\"linecolor\":\"white\",\"ticks\":\"\",\"title\":{\"standoff\":15},\"zerolinecolor\":\"white\",\"automargin\":true,\"zerolinewidth\":2},\"scene\":{\"xaxis\":{\"backgroundcolor\":\"#E5ECF6\",\"gridcolor\":\"white\",\"linecolor\":\"white\",\"showbackground\":true,\"ticks\":\"\",\"zerolinecolor\":\"white\",\"gridwidth\":2},\"yaxis\":{\"backgroundcolor\":\"#E5ECF6\",\"gridcolor\":\"white\",\"linecolor\":\"white\",\"showbackground\":true,\"ticks\":\"\",\"zerolinecolor\":\"white\",\"gridwidth\":2},\"zaxis\":{\"backgroundcolor\":\"#E5ECF6\",\"gridcolor\":\"white\",\"linecolor\":\"white\",\"showbackground\":true,\"ticks\":\"\",\"zerolinecolor\":\"white\",\"gridwidth\":2}},\"shapedefaults\":{\"line\":{\"color\":\"#2a3f5f\"}},\"annotationdefaults\":{\"arrowcolor\":\"#2a3f5f\",\"arrowhead\":0,\"arrowwidth\":1},\"geo\":{\"bgcolor\":\"white\",\"landcolor\":\"#E5ECF6\",\"subunitcolor\":\"white\",\"showland\":true,\"showlakes\":true,\"lakecolor\":\"white\"},\"title\":{\"x\":0.05},\"mapbox\":{\"style\":\"light\"}}},\"xaxis\":{\"anchor\":\"y\",\"domain\":[0.0,1.0],\"title\":{\"text\":\"Stop Name\"}},\"yaxis\":{\"anchor\":\"x\",\"domain\":[0.0,1.0],\"title\":{\"text\":\"Number of Passengers\"}},\"legend\":{\"tracegroupgap\":0},\"title\":{\"text\":\"All Stops\"}},                        {\"responsive\": true}                    ).then(function(){\n",
              "                            \n",
              "var gd = document.getElementById('8a55e248-42ac-44b0-808a-958ff12c8811');\n",
              "var x = new MutationObserver(function (mutations, observer) {{\n",
              "        var display = window.getComputedStyle(gd).display;\n",
              "        if (!display || display === 'none') {{\n",
              "            console.log([gd, 'removed!']);\n",
              "            Plotly.purge(gd);\n",
              "            observer.disconnect();\n",
              "        }}\n",
              "}});\n",
              "\n",
              "// Listen for the removal of the full notebook cells\n",
              "var notebookContainer = gd.closest('#notebook-container');\n",
              "if (notebookContainer) {{\n",
              "    x.observe(notebookContainer, {childList: true});\n",
              "}}\n",
              "\n",
              "// Listen for the clearing of the current output cell\n",
              "var outputEl = gd.closest('.output');\n",
              "if (outputEl) {{\n",
              "    x.observe(outputEl, {childList: true});\n",
              "}}\n",
              "\n",
              "                        })                };                            </script>        </div>\n",
              "</body>\n",
              "</html>"
            ]
          },
          "metadata": {}
        }
      ]
    },
    {
      "cell_type": "code",
      "source": [
        "max_pass_per_stop=dict(sorted(stop_density.items(), key=lambda x: x[1], reverse=True)[:5])\n",
        "min_pass_per_stop=dict(sorted(stop_density.items(), key=lambda x: x[1], reverse=False)[:5])\n",
        "fig1 = px.line(x=max_pass_per_stop.keys() ,y =max_pass_per_stop,labels={'x':'Stop Name', 'y':'Number of Passengers'}, title= \"Busiest Stops\")\n",
        "fig1.show()\n",
        "fig2 = px.line(x=min_pass_per_stop.keys() ,y =min_pass_per_stop,labels={'x':'Stop Name', 'y':'Number of Passengers'}, title= \"Unoccupied Stops\")\n",
        "fig2.show()"
      ],
      "metadata": {
        "colab": {
          "base_uri": "https://localhost:8080/",
          "height": 1000
        },
        "id": "f5L_0gvC3wT0",
        "outputId": "b0c553cd-66c4-4838-fa8c-a7d8131a4cab"
      },
      "execution_count": null,
      "outputs": [
        {
          "output_type": "display_data",
          "data": {
            "text/html": [
              "<html>\n",
              "<head><meta charset=\"utf-8\" /></head>\n",
              "<body>\n",
              "    <div>            <script src=\"https://cdnjs.cloudflare.com/ajax/libs/mathjax/2.7.5/MathJax.js?config=TeX-AMS-MML_SVG\"></script><script type=\"text/javascript\">if (window.MathJax && window.MathJax.Hub && window.MathJax.Hub.Config) {window.MathJax.Hub.Config({SVG: {font: \"STIX-Web\"}});}</script>                <script type=\"text/javascript\">window.PlotlyConfig = {MathJaxConfig: 'local'};</script>\n",
              "        <script charset=\"utf-8\" src=\"https://cdn.plot.ly/plotly-2.24.1.min.js\"></script>                <div id=\"2d4b3865-423f-494b-974a-e61396b6ee96\" class=\"plotly-graph-div\" style=\"height:525px; width:100%;\"></div>            <script type=\"text/javascript\">                                    window.PLOTLYENV=window.PLOTLYENV || {};                                    if (document.getElementById(\"2d4b3865-423f-494b-974a-e61396b6ee96\")) {                    Plotly.newPlot(                        \"2d4b3865-423f-494b-974a-e61396b6ee96\",                        [{\"hovertemplate\":\"Stop Name=%{x}\\u003cbr\\u003eNumber of Passengers=%{y}\\u003cextra\\u003e\\u003c\\u002fextra\\u003e\",\"legendgroup\":\"\",\"line\":{\"color\":\"#636efa\",\"dash\":\"solid\"},\"marker\":{\"symbol\":\"circle\"},\"mode\":\"lines\",\"name\":\"\",\"orientation\":\"v\",\"showlegend\":false,\"x\":[\"Rajwada Circle\",\"Tantya Bheel Chouraha Police Station\",\"Teen Imli\",\"Musakhedi Ring Road\",\"Aurobindo\"],\"xaxis\":\"x\",\"y\":[6978,6881,6871,5356,4847],\"yaxis\":\"y\",\"type\":\"scatter\"}],                        {\"template\":{\"data\":{\"histogram2dcontour\":[{\"type\":\"histogram2dcontour\",\"colorbar\":{\"outlinewidth\":0,\"ticks\":\"\"},\"colorscale\":[[0.0,\"#0d0887\"],[0.1111111111111111,\"#46039f\"],[0.2222222222222222,\"#7201a8\"],[0.3333333333333333,\"#9c179e\"],[0.4444444444444444,\"#bd3786\"],[0.5555555555555556,\"#d8576b\"],[0.6666666666666666,\"#ed7953\"],[0.7777777777777778,\"#fb9f3a\"],[0.8888888888888888,\"#fdca26\"],[1.0,\"#f0f921\"]]}],\"choropleth\":[{\"type\":\"choropleth\",\"colorbar\":{\"outlinewidth\":0,\"ticks\":\"\"}}],\"histogram2d\":[{\"type\":\"histogram2d\",\"colorbar\":{\"outlinewidth\":0,\"ticks\":\"\"},\"colorscale\":[[0.0,\"#0d0887\"],[0.1111111111111111,\"#46039f\"],[0.2222222222222222,\"#7201a8\"],[0.3333333333333333,\"#9c179e\"],[0.4444444444444444,\"#bd3786\"],[0.5555555555555556,\"#d8576b\"],[0.6666666666666666,\"#ed7953\"],[0.7777777777777778,\"#fb9f3a\"],[0.8888888888888888,\"#fdca26\"],[1.0,\"#f0f921\"]]}],\"heatmap\":[{\"type\":\"heatmap\",\"colorbar\":{\"outlinewidth\":0,\"ticks\":\"\"},\"colorscale\":[[0.0,\"#0d0887\"],[0.1111111111111111,\"#46039f\"],[0.2222222222222222,\"#7201a8\"],[0.3333333333333333,\"#9c179e\"],[0.4444444444444444,\"#bd3786\"],[0.5555555555555556,\"#d8576b\"],[0.6666666666666666,\"#ed7953\"],[0.7777777777777778,\"#fb9f3a\"],[0.8888888888888888,\"#fdca26\"],[1.0,\"#f0f921\"]]}],\"heatmapgl\":[{\"type\":\"heatmapgl\",\"colorbar\":{\"outlinewidth\":0,\"ticks\":\"\"},\"colorscale\":[[0.0,\"#0d0887\"],[0.1111111111111111,\"#46039f\"],[0.2222222222222222,\"#7201a8\"],[0.3333333333333333,\"#9c179e\"],[0.4444444444444444,\"#bd3786\"],[0.5555555555555556,\"#d8576b\"],[0.6666666666666666,\"#ed7953\"],[0.7777777777777778,\"#fb9f3a\"],[0.8888888888888888,\"#fdca26\"],[1.0,\"#f0f921\"]]}],\"contourcarpet\":[{\"type\":\"contourcarpet\",\"colorbar\":{\"outlinewidth\":0,\"ticks\":\"\"}}],\"contour\":[{\"type\":\"contour\",\"colorbar\":{\"outlinewidth\":0,\"ticks\":\"\"},\"colorscale\":[[0.0,\"#0d0887\"],[0.1111111111111111,\"#46039f\"],[0.2222222222222222,\"#7201a8\"],[0.3333333333333333,\"#9c179e\"],[0.4444444444444444,\"#bd3786\"],[0.5555555555555556,\"#d8576b\"],[0.6666666666666666,\"#ed7953\"],[0.7777777777777778,\"#fb9f3a\"],[0.8888888888888888,\"#fdca26\"],[1.0,\"#f0f921\"]]}],\"surface\":[{\"type\":\"surface\",\"colorbar\":{\"outlinewidth\":0,\"ticks\":\"\"},\"colorscale\":[[0.0,\"#0d0887\"],[0.1111111111111111,\"#46039f\"],[0.2222222222222222,\"#7201a8\"],[0.3333333333333333,\"#9c179e\"],[0.4444444444444444,\"#bd3786\"],[0.5555555555555556,\"#d8576b\"],[0.6666666666666666,\"#ed7953\"],[0.7777777777777778,\"#fb9f3a\"],[0.8888888888888888,\"#fdca26\"],[1.0,\"#f0f921\"]]}],\"mesh3d\":[{\"type\":\"mesh3d\",\"colorbar\":{\"outlinewidth\":0,\"ticks\":\"\"}}],\"scatter\":[{\"fillpattern\":{\"fillmode\":\"overlay\",\"size\":10,\"solidity\":0.2},\"type\":\"scatter\"}],\"parcoords\":[{\"type\":\"parcoords\",\"line\":{\"colorbar\":{\"outlinewidth\":0,\"ticks\":\"\"}}}],\"scatterpolargl\":[{\"type\":\"scatterpolargl\",\"marker\":{\"colorbar\":{\"outlinewidth\":0,\"ticks\":\"\"}}}],\"bar\":[{\"error_x\":{\"color\":\"#2a3f5f\"},\"error_y\":{\"color\":\"#2a3f5f\"},\"marker\":{\"line\":{\"color\":\"#E5ECF6\",\"width\":0.5},\"pattern\":{\"fillmode\":\"overlay\",\"size\":10,\"solidity\":0.2}},\"type\":\"bar\"}],\"scattergeo\":[{\"type\":\"scattergeo\",\"marker\":{\"colorbar\":{\"outlinewidth\":0,\"ticks\":\"\"}}}],\"scatterpolar\":[{\"type\":\"scatterpolar\",\"marker\":{\"colorbar\":{\"outlinewidth\":0,\"ticks\":\"\"}}}],\"histogram\":[{\"marker\":{\"pattern\":{\"fillmode\":\"overlay\",\"size\":10,\"solidity\":0.2}},\"type\":\"histogram\"}],\"scattergl\":[{\"type\":\"scattergl\",\"marker\":{\"colorbar\":{\"outlinewidth\":0,\"ticks\":\"\"}}}],\"scatter3d\":[{\"type\":\"scatter3d\",\"line\":{\"colorbar\":{\"outlinewidth\":0,\"ticks\":\"\"}},\"marker\":{\"colorbar\":{\"outlinewidth\":0,\"ticks\":\"\"}}}],\"scattermapbox\":[{\"type\":\"scattermapbox\",\"marker\":{\"colorbar\":{\"outlinewidth\":0,\"ticks\":\"\"}}}],\"scatterternary\":[{\"type\":\"scatterternary\",\"marker\":{\"colorbar\":{\"outlinewidth\":0,\"ticks\":\"\"}}}],\"scattercarpet\":[{\"type\":\"scattercarpet\",\"marker\":{\"colorbar\":{\"outlinewidth\":0,\"ticks\":\"\"}}}],\"carpet\":[{\"aaxis\":{\"endlinecolor\":\"#2a3f5f\",\"gridcolor\":\"white\",\"linecolor\":\"white\",\"minorgridcolor\":\"white\",\"startlinecolor\":\"#2a3f5f\"},\"baxis\":{\"endlinecolor\":\"#2a3f5f\",\"gridcolor\":\"white\",\"linecolor\":\"white\",\"minorgridcolor\":\"white\",\"startlinecolor\":\"#2a3f5f\"},\"type\":\"carpet\"}],\"table\":[{\"cells\":{\"fill\":{\"color\":\"#EBF0F8\"},\"line\":{\"color\":\"white\"}},\"header\":{\"fill\":{\"color\":\"#C8D4E3\"},\"line\":{\"color\":\"white\"}},\"type\":\"table\"}],\"barpolar\":[{\"marker\":{\"line\":{\"color\":\"#E5ECF6\",\"width\":0.5},\"pattern\":{\"fillmode\":\"overlay\",\"size\":10,\"solidity\":0.2}},\"type\":\"barpolar\"}],\"pie\":[{\"automargin\":true,\"type\":\"pie\"}]},\"layout\":{\"autotypenumbers\":\"strict\",\"colorway\":[\"#636efa\",\"#EF553B\",\"#00cc96\",\"#ab63fa\",\"#FFA15A\",\"#19d3f3\",\"#FF6692\",\"#B6E880\",\"#FF97FF\",\"#FECB52\"],\"font\":{\"color\":\"#2a3f5f\"},\"hovermode\":\"closest\",\"hoverlabel\":{\"align\":\"left\"},\"paper_bgcolor\":\"white\",\"plot_bgcolor\":\"#E5ECF6\",\"polar\":{\"bgcolor\":\"#E5ECF6\",\"angularaxis\":{\"gridcolor\":\"white\",\"linecolor\":\"white\",\"ticks\":\"\"},\"radialaxis\":{\"gridcolor\":\"white\",\"linecolor\":\"white\",\"ticks\":\"\"}},\"ternary\":{\"bgcolor\":\"#E5ECF6\",\"aaxis\":{\"gridcolor\":\"white\",\"linecolor\":\"white\",\"ticks\":\"\"},\"baxis\":{\"gridcolor\":\"white\",\"linecolor\":\"white\",\"ticks\":\"\"},\"caxis\":{\"gridcolor\":\"white\",\"linecolor\":\"white\",\"ticks\":\"\"}},\"coloraxis\":{\"colorbar\":{\"outlinewidth\":0,\"ticks\":\"\"}},\"colorscale\":{\"sequential\":[[0.0,\"#0d0887\"],[0.1111111111111111,\"#46039f\"],[0.2222222222222222,\"#7201a8\"],[0.3333333333333333,\"#9c179e\"],[0.4444444444444444,\"#bd3786\"],[0.5555555555555556,\"#d8576b\"],[0.6666666666666666,\"#ed7953\"],[0.7777777777777778,\"#fb9f3a\"],[0.8888888888888888,\"#fdca26\"],[1.0,\"#f0f921\"]],\"sequentialminus\":[[0.0,\"#0d0887\"],[0.1111111111111111,\"#46039f\"],[0.2222222222222222,\"#7201a8\"],[0.3333333333333333,\"#9c179e\"],[0.4444444444444444,\"#bd3786\"],[0.5555555555555556,\"#d8576b\"],[0.6666666666666666,\"#ed7953\"],[0.7777777777777778,\"#fb9f3a\"],[0.8888888888888888,\"#fdca26\"],[1.0,\"#f0f921\"]],\"diverging\":[[0,\"#8e0152\"],[0.1,\"#c51b7d\"],[0.2,\"#de77ae\"],[0.3,\"#f1b6da\"],[0.4,\"#fde0ef\"],[0.5,\"#f7f7f7\"],[0.6,\"#e6f5d0\"],[0.7,\"#b8e186\"],[0.8,\"#7fbc41\"],[0.9,\"#4d9221\"],[1,\"#276419\"]]},\"xaxis\":{\"gridcolor\":\"white\",\"linecolor\":\"white\",\"ticks\":\"\",\"title\":{\"standoff\":15},\"zerolinecolor\":\"white\",\"automargin\":true,\"zerolinewidth\":2},\"yaxis\":{\"gridcolor\":\"white\",\"linecolor\":\"white\",\"ticks\":\"\",\"title\":{\"standoff\":15},\"zerolinecolor\":\"white\",\"automargin\":true,\"zerolinewidth\":2},\"scene\":{\"xaxis\":{\"backgroundcolor\":\"#E5ECF6\",\"gridcolor\":\"white\",\"linecolor\":\"white\",\"showbackground\":true,\"ticks\":\"\",\"zerolinecolor\":\"white\",\"gridwidth\":2},\"yaxis\":{\"backgroundcolor\":\"#E5ECF6\",\"gridcolor\":\"white\",\"linecolor\":\"white\",\"showbackground\":true,\"ticks\":\"\",\"zerolinecolor\":\"white\",\"gridwidth\":2},\"zaxis\":{\"backgroundcolor\":\"#E5ECF6\",\"gridcolor\":\"white\",\"linecolor\":\"white\",\"showbackground\":true,\"ticks\":\"\",\"zerolinecolor\":\"white\",\"gridwidth\":2}},\"shapedefaults\":{\"line\":{\"color\":\"#2a3f5f\"}},\"annotationdefaults\":{\"arrowcolor\":\"#2a3f5f\",\"arrowhead\":0,\"arrowwidth\":1},\"geo\":{\"bgcolor\":\"white\",\"landcolor\":\"#E5ECF6\",\"subunitcolor\":\"white\",\"showland\":true,\"showlakes\":true,\"lakecolor\":\"white\"},\"title\":{\"x\":0.05},\"mapbox\":{\"style\":\"light\"}}},\"xaxis\":{\"anchor\":\"y\",\"domain\":[0.0,1.0],\"title\":{\"text\":\"Stop Name\"}},\"yaxis\":{\"anchor\":\"x\",\"domain\":[0.0,1.0],\"title\":{\"text\":\"Number of Passengers\"}},\"legend\":{\"tracegroupgap\":0},\"title\":{\"text\":\"Busiest Stops\"}},                        {\"responsive\": true}                    ).then(function(){\n",
              "                            \n",
              "var gd = document.getElementById('2d4b3865-423f-494b-974a-e61396b6ee96');\n",
              "var x = new MutationObserver(function (mutations, observer) {{\n",
              "        var display = window.getComputedStyle(gd).display;\n",
              "        if (!display || display === 'none') {{\n",
              "            console.log([gd, 'removed!']);\n",
              "            Plotly.purge(gd);\n",
              "            observer.disconnect();\n",
              "        }}\n",
              "}});\n",
              "\n",
              "// Listen for the removal of the full notebook cells\n",
              "var notebookContainer = gd.closest('#notebook-container');\n",
              "if (notebookContainer) {{\n",
              "    x.observe(notebookContainer, {childList: true});\n",
              "}}\n",
              "\n",
              "// Listen for the clearing of the current output cell\n",
              "var outputEl = gd.closest('.output');\n",
              "if (outputEl) {{\n",
              "    x.observe(outputEl, {childList: true});\n",
              "}}\n",
              "\n",
              "                        })                };                            </script>        </div>\n",
              "</body>\n",
              "</html>"
            ]
          },
          "metadata": {}
        },
        {
          "output_type": "display_data",
          "data": {
            "text/html": [
              "<html>\n",
              "<head><meta charset=\"utf-8\" /></head>\n",
              "<body>\n",
              "    <div>            <script src=\"https://cdnjs.cloudflare.com/ajax/libs/mathjax/2.7.5/MathJax.js?config=TeX-AMS-MML_SVG\"></script><script type=\"text/javascript\">if (window.MathJax && window.MathJax.Hub && window.MathJax.Hub.Config) {window.MathJax.Hub.Config({SVG: {font: \"STIX-Web\"}});}</script>                <script type=\"text/javascript\">window.PlotlyConfig = {MathJaxConfig: 'local'};</script>\n",
              "        <script charset=\"utf-8\" src=\"https://cdn.plot.ly/plotly-2.24.1.min.js\"></script>                <div id=\"d5d315ee-a78c-4f67-a40c-77db8eb36e96\" class=\"plotly-graph-div\" style=\"height:525px; width:100%;\"></div>            <script type=\"text/javascript\">                                    window.PLOTLYENV=window.PLOTLYENV || {};                                    if (document.getElementById(\"d5d315ee-a78c-4f67-a40c-77db8eb36e96\")) {                    Plotly.newPlot(                        \"d5d315ee-a78c-4f67-a40c-77db8eb36e96\",                        [{\"hovertemplate\":\"Stop Name=%{x}\\u003cbr\\u003eNumber of Passengers=%{y}\\u003cextra\\u003e\\u003c\\u002fextra\\u003e\",\"legendgroup\":\"\",\"line\":{\"color\":\"#636efa\",\"dash\":\"solid\"},\"marker\":{\"symbol\":\"circle\"},\"mode\":\"lines\",\"name\":\"\",\"orientation\":\"v\",\"showlegend\":false,\"x\":[\"Banderi\",\"Karadiyagada\",\"Nayta Mundla By Pass\",\"Shangri La\",\"Khadi Jod\"],\"xaxis\":\"x\",\"y\":[1,1,1,1,1],\"yaxis\":\"y\",\"type\":\"scatter\"}],                        {\"template\":{\"data\":{\"histogram2dcontour\":[{\"type\":\"histogram2dcontour\",\"colorbar\":{\"outlinewidth\":0,\"ticks\":\"\"},\"colorscale\":[[0.0,\"#0d0887\"],[0.1111111111111111,\"#46039f\"],[0.2222222222222222,\"#7201a8\"],[0.3333333333333333,\"#9c179e\"],[0.4444444444444444,\"#bd3786\"],[0.5555555555555556,\"#d8576b\"],[0.6666666666666666,\"#ed7953\"],[0.7777777777777778,\"#fb9f3a\"],[0.8888888888888888,\"#fdca26\"],[1.0,\"#f0f921\"]]}],\"choropleth\":[{\"type\":\"choropleth\",\"colorbar\":{\"outlinewidth\":0,\"ticks\":\"\"}}],\"histogram2d\":[{\"type\":\"histogram2d\",\"colorbar\":{\"outlinewidth\":0,\"ticks\":\"\"},\"colorscale\":[[0.0,\"#0d0887\"],[0.1111111111111111,\"#46039f\"],[0.2222222222222222,\"#7201a8\"],[0.3333333333333333,\"#9c179e\"],[0.4444444444444444,\"#bd3786\"],[0.5555555555555556,\"#d8576b\"],[0.6666666666666666,\"#ed7953\"],[0.7777777777777778,\"#fb9f3a\"],[0.8888888888888888,\"#fdca26\"],[1.0,\"#f0f921\"]]}],\"heatmap\":[{\"type\":\"heatmap\",\"colorbar\":{\"outlinewidth\":0,\"ticks\":\"\"},\"colorscale\":[[0.0,\"#0d0887\"],[0.1111111111111111,\"#46039f\"],[0.2222222222222222,\"#7201a8\"],[0.3333333333333333,\"#9c179e\"],[0.4444444444444444,\"#bd3786\"],[0.5555555555555556,\"#d8576b\"],[0.6666666666666666,\"#ed7953\"],[0.7777777777777778,\"#fb9f3a\"],[0.8888888888888888,\"#fdca26\"],[1.0,\"#f0f921\"]]}],\"heatmapgl\":[{\"type\":\"heatmapgl\",\"colorbar\":{\"outlinewidth\":0,\"ticks\":\"\"},\"colorscale\":[[0.0,\"#0d0887\"],[0.1111111111111111,\"#46039f\"],[0.2222222222222222,\"#7201a8\"],[0.3333333333333333,\"#9c179e\"],[0.4444444444444444,\"#bd3786\"],[0.5555555555555556,\"#d8576b\"],[0.6666666666666666,\"#ed7953\"],[0.7777777777777778,\"#fb9f3a\"],[0.8888888888888888,\"#fdca26\"],[1.0,\"#f0f921\"]]}],\"contourcarpet\":[{\"type\":\"contourcarpet\",\"colorbar\":{\"outlinewidth\":0,\"ticks\":\"\"}}],\"contour\":[{\"type\":\"contour\",\"colorbar\":{\"outlinewidth\":0,\"ticks\":\"\"},\"colorscale\":[[0.0,\"#0d0887\"],[0.1111111111111111,\"#46039f\"],[0.2222222222222222,\"#7201a8\"],[0.3333333333333333,\"#9c179e\"],[0.4444444444444444,\"#bd3786\"],[0.5555555555555556,\"#d8576b\"],[0.6666666666666666,\"#ed7953\"],[0.7777777777777778,\"#fb9f3a\"],[0.8888888888888888,\"#fdca26\"],[1.0,\"#f0f921\"]]}],\"surface\":[{\"type\":\"surface\",\"colorbar\":{\"outlinewidth\":0,\"ticks\":\"\"},\"colorscale\":[[0.0,\"#0d0887\"],[0.1111111111111111,\"#46039f\"],[0.2222222222222222,\"#7201a8\"],[0.3333333333333333,\"#9c179e\"],[0.4444444444444444,\"#bd3786\"],[0.5555555555555556,\"#d8576b\"],[0.6666666666666666,\"#ed7953\"],[0.7777777777777778,\"#fb9f3a\"],[0.8888888888888888,\"#fdca26\"],[1.0,\"#f0f921\"]]}],\"mesh3d\":[{\"type\":\"mesh3d\",\"colorbar\":{\"outlinewidth\":0,\"ticks\":\"\"}}],\"scatter\":[{\"fillpattern\":{\"fillmode\":\"overlay\",\"size\":10,\"solidity\":0.2},\"type\":\"scatter\"}],\"parcoords\":[{\"type\":\"parcoords\",\"line\":{\"colorbar\":{\"outlinewidth\":0,\"ticks\":\"\"}}}],\"scatterpolargl\":[{\"type\":\"scatterpolargl\",\"marker\":{\"colorbar\":{\"outlinewidth\":0,\"ticks\":\"\"}}}],\"bar\":[{\"error_x\":{\"color\":\"#2a3f5f\"},\"error_y\":{\"color\":\"#2a3f5f\"},\"marker\":{\"line\":{\"color\":\"#E5ECF6\",\"width\":0.5},\"pattern\":{\"fillmode\":\"overlay\",\"size\":10,\"solidity\":0.2}},\"type\":\"bar\"}],\"scattergeo\":[{\"type\":\"scattergeo\",\"marker\":{\"colorbar\":{\"outlinewidth\":0,\"ticks\":\"\"}}}],\"scatterpolar\":[{\"type\":\"scatterpolar\",\"marker\":{\"colorbar\":{\"outlinewidth\":0,\"ticks\":\"\"}}}],\"histogram\":[{\"marker\":{\"pattern\":{\"fillmode\":\"overlay\",\"size\":10,\"solidity\":0.2}},\"type\":\"histogram\"}],\"scattergl\":[{\"type\":\"scattergl\",\"marker\":{\"colorbar\":{\"outlinewidth\":0,\"ticks\":\"\"}}}],\"scatter3d\":[{\"type\":\"scatter3d\",\"line\":{\"colorbar\":{\"outlinewidth\":0,\"ticks\":\"\"}},\"marker\":{\"colorbar\":{\"outlinewidth\":0,\"ticks\":\"\"}}}],\"scattermapbox\":[{\"type\":\"scattermapbox\",\"marker\":{\"colorbar\":{\"outlinewidth\":0,\"ticks\":\"\"}}}],\"scatterternary\":[{\"type\":\"scatterternary\",\"marker\":{\"colorbar\":{\"outlinewidth\":0,\"ticks\":\"\"}}}],\"scattercarpet\":[{\"type\":\"scattercarpet\",\"marker\":{\"colorbar\":{\"outlinewidth\":0,\"ticks\":\"\"}}}],\"carpet\":[{\"aaxis\":{\"endlinecolor\":\"#2a3f5f\",\"gridcolor\":\"white\",\"linecolor\":\"white\",\"minorgridcolor\":\"white\",\"startlinecolor\":\"#2a3f5f\"},\"baxis\":{\"endlinecolor\":\"#2a3f5f\",\"gridcolor\":\"white\",\"linecolor\":\"white\",\"minorgridcolor\":\"white\",\"startlinecolor\":\"#2a3f5f\"},\"type\":\"carpet\"}],\"table\":[{\"cells\":{\"fill\":{\"color\":\"#EBF0F8\"},\"line\":{\"color\":\"white\"}},\"header\":{\"fill\":{\"color\":\"#C8D4E3\"},\"line\":{\"color\":\"white\"}},\"type\":\"table\"}],\"barpolar\":[{\"marker\":{\"line\":{\"color\":\"#E5ECF6\",\"width\":0.5},\"pattern\":{\"fillmode\":\"overlay\",\"size\":10,\"solidity\":0.2}},\"type\":\"barpolar\"}],\"pie\":[{\"automargin\":true,\"type\":\"pie\"}]},\"layout\":{\"autotypenumbers\":\"strict\",\"colorway\":[\"#636efa\",\"#EF553B\",\"#00cc96\",\"#ab63fa\",\"#FFA15A\",\"#19d3f3\",\"#FF6692\",\"#B6E880\",\"#FF97FF\",\"#FECB52\"],\"font\":{\"color\":\"#2a3f5f\"},\"hovermode\":\"closest\",\"hoverlabel\":{\"align\":\"left\"},\"paper_bgcolor\":\"white\",\"plot_bgcolor\":\"#E5ECF6\",\"polar\":{\"bgcolor\":\"#E5ECF6\",\"angularaxis\":{\"gridcolor\":\"white\",\"linecolor\":\"white\",\"ticks\":\"\"},\"radialaxis\":{\"gridcolor\":\"white\",\"linecolor\":\"white\",\"ticks\":\"\"}},\"ternary\":{\"bgcolor\":\"#E5ECF6\",\"aaxis\":{\"gridcolor\":\"white\",\"linecolor\":\"white\",\"ticks\":\"\"},\"baxis\":{\"gridcolor\":\"white\",\"linecolor\":\"white\",\"ticks\":\"\"},\"caxis\":{\"gridcolor\":\"white\",\"linecolor\":\"white\",\"ticks\":\"\"}},\"coloraxis\":{\"colorbar\":{\"outlinewidth\":0,\"ticks\":\"\"}},\"colorscale\":{\"sequential\":[[0.0,\"#0d0887\"],[0.1111111111111111,\"#46039f\"],[0.2222222222222222,\"#7201a8\"],[0.3333333333333333,\"#9c179e\"],[0.4444444444444444,\"#bd3786\"],[0.5555555555555556,\"#d8576b\"],[0.6666666666666666,\"#ed7953\"],[0.7777777777777778,\"#fb9f3a\"],[0.8888888888888888,\"#fdca26\"],[1.0,\"#f0f921\"]],\"sequentialminus\":[[0.0,\"#0d0887\"],[0.1111111111111111,\"#46039f\"],[0.2222222222222222,\"#7201a8\"],[0.3333333333333333,\"#9c179e\"],[0.4444444444444444,\"#bd3786\"],[0.5555555555555556,\"#d8576b\"],[0.6666666666666666,\"#ed7953\"],[0.7777777777777778,\"#fb9f3a\"],[0.8888888888888888,\"#fdca26\"],[1.0,\"#f0f921\"]],\"diverging\":[[0,\"#8e0152\"],[0.1,\"#c51b7d\"],[0.2,\"#de77ae\"],[0.3,\"#f1b6da\"],[0.4,\"#fde0ef\"],[0.5,\"#f7f7f7\"],[0.6,\"#e6f5d0\"],[0.7,\"#b8e186\"],[0.8,\"#7fbc41\"],[0.9,\"#4d9221\"],[1,\"#276419\"]]},\"xaxis\":{\"gridcolor\":\"white\",\"linecolor\":\"white\",\"ticks\":\"\",\"title\":{\"standoff\":15},\"zerolinecolor\":\"white\",\"automargin\":true,\"zerolinewidth\":2},\"yaxis\":{\"gridcolor\":\"white\",\"linecolor\":\"white\",\"ticks\":\"\",\"title\":{\"standoff\":15},\"zerolinecolor\":\"white\",\"automargin\":true,\"zerolinewidth\":2},\"scene\":{\"xaxis\":{\"backgroundcolor\":\"#E5ECF6\",\"gridcolor\":\"white\",\"linecolor\":\"white\",\"showbackground\":true,\"ticks\":\"\",\"zerolinecolor\":\"white\",\"gridwidth\":2},\"yaxis\":{\"backgroundcolor\":\"#E5ECF6\",\"gridcolor\":\"white\",\"linecolor\":\"white\",\"showbackground\":true,\"ticks\":\"\",\"zerolinecolor\":\"white\",\"gridwidth\":2},\"zaxis\":{\"backgroundcolor\":\"#E5ECF6\",\"gridcolor\":\"white\",\"linecolor\":\"white\",\"showbackground\":true,\"ticks\":\"\",\"zerolinecolor\":\"white\",\"gridwidth\":2}},\"shapedefaults\":{\"line\":{\"color\":\"#2a3f5f\"}},\"annotationdefaults\":{\"arrowcolor\":\"#2a3f5f\",\"arrowhead\":0,\"arrowwidth\":1},\"geo\":{\"bgcolor\":\"white\",\"landcolor\":\"#E5ECF6\",\"subunitcolor\":\"white\",\"showland\":true,\"showlakes\":true,\"lakecolor\":\"white\"},\"title\":{\"x\":0.05},\"mapbox\":{\"style\":\"light\"}}},\"xaxis\":{\"anchor\":\"y\",\"domain\":[0.0,1.0],\"title\":{\"text\":\"Stop Name\"}},\"yaxis\":{\"anchor\":\"x\",\"domain\":[0.0,1.0],\"title\":{\"text\":\"Number of Passengers\"}},\"legend\":{\"tracegroupgap\":0},\"title\":{\"text\":\"Unoccupied Stops\"}},                        {\"responsive\": true}                    ).then(function(){\n",
              "                            \n",
              "var gd = document.getElementById('d5d315ee-a78c-4f67-a40c-77db8eb36e96');\n",
              "var x = new MutationObserver(function (mutations, observer) {{\n",
              "        var display = window.getComputedStyle(gd).display;\n",
              "        if (!display || display === 'none') {{\n",
              "            console.log([gd, 'removed!']);\n",
              "            Plotly.purge(gd);\n",
              "            observer.disconnect();\n",
              "        }}\n",
              "}});\n",
              "\n",
              "// Listen for the removal of the full notebook cells\n",
              "var notebookContainer = gd.closest('#notebook-container');\n",
              "if (notebookContainer) {{\n",
              "    x.observe(notebookContainer, {childList: true});\n",
              "}}\n",
              "\n",
              "// Listen for the clearing of the current output cell\n",
              "var outputEl = gd.closest('.output');\n",
              "if (outputEl) {{\n",
              "    x.observe(outputEl, {childList: true});\n",
              "}}\n",
              "\n",
              "                        })                };                            </script>        </div>\n",
              "</body>\n",
              "</html>"
            ]
          },
          "metadata": {}
        }
      ]
    },
    {
      "cell_type": "code",
      "source": [],
      "metadata": {
        "id": "M02ufSqC4Zwd"
      },
      "execution_count": null,
      "outputs": []
    }
  ]
}